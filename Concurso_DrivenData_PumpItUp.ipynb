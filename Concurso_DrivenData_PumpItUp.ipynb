{
  "cells": [
    {
      "cell_type": "markdown",
      "id": "6d325fd6",
      "metadata": {
        "id": "6d325fd6"
      },
      "source": [
        "# Íñigo Ruiz Martínez - Abril 2023\n",
        "## Participación en concurso de DrivenData.org 'Pump it Up: Data Mining the Water Table' (https://www.drivendata.org/competitions/7/pump-it-up-data-mining-the-water-table/)\n",
        "### Versión final con puntuación de 0.8133\n",
        "El notebook se puede ejecutar sin problema si se tienen los dataframes de training y test con sus nombres originales en la misma carpeta contenedora del notebook.\n",
        "\n",
        "Se han comentado las celdas que tardarían más y las que exportan en csv para que no haya problema en la correción.\n",
        "\n",
        "Tiempo medio de ejecución: 40 segs."
      ]
    },
    {
      "cell_type": "markdown",
      "id": "380a4213",
      "metadata": {
        "id": "380a4213"
      },
      "source": [
        "Empezamos importantando las librerías necesarias para la realización del ejercicio:"
      ]
    },
    {
      "cell_type": "code",
      "execution_count": null,
      "id": "7be5eea8",
      "metadata": {
        "id": "7be5eea8"
      },
      "outputs": [],
      "source": [
        "import pandas as pd\n",
        "import numpy as np\n",
        "import matplotlib.pyplot as plt\n",
        "import seaborn as sns\n",
        "from sklearn.preprocessing import LabelEncoder\n",
        "from sklearn.ensemble import RandomForestClassifier\n",
        "from sklearn.tree import DecisionTreeClassifier\n",
        "from xgboost import XGBClassifier\n",
        "from sklearn.model_selection import train_test_split\n",
        "from pandas.plotting import scatter_matrix\n",
        "from sklearn.feature_selection import VarianceThreshold\n",
        "from sklearn.metrics import accuracy_score, auc, confusion_matrix, f1_score, precision_score, recall_score, roc_curve\n",
        "from sklearn.feature_selection import SelectKBest\n",
        "from sklearn.model_selection import GridSearchCV\n",
        "from sklearn.metrics import classification_report\n",
        "from imblearn.over_sampling import SMOTE\n",
        "from sklearn.model_selection import cross_val_score\n",
        "from sklearn.metrics import accuracy_score, balanced_accuracy_score"
      ]
    },
    {
      "cell_type": "markdown",
      "id": "c4dca0e4",
      "metadata": {
        "id": "c4dca0e4"
      },
      "source": [
        "Ejecutamos esta celda para mostrar de una vez todas las columnas del dataframe:"
      ]
    },
    {
      "cell_type": "code",
      "execution_count": null,
      "id": "6ed58bbd",
      "metadata": {
        "id": "6ed58bbd"
      },
      "outputs": [],
      "source": [
        "pd.options.display.max_columns=100"
      ]
    },
    {
      "cell_type": "markdown",
      "id": "ff607d31",
      "metadata": {
        "id": "ff607d31"
      },
      "source": [
        "Leemos los tres datasets que nos interesan:"
      ]
    },
    {
      "cell_type": "code",
      "execution_count": null,
      "id": "c48c43ac",
      "metadata": {
        "id": "c48c43ac"
      },
      "outputs": [],
      "source": [
        "df_training = pd.read_csv(\"training_set_values.csv\")\n",
        "df_labels = pd.read_csv(\"training_set_labels.csv\")\n",
        "df_test = pd.read_csv(\"test_set_values.csv\")"
      ]
    },
    {
      "cell_type": "markdown",
      "id": "4089ab72",
      "metadata": {
        "id": "4089ab72"
      },
      "source": [
        "Vemos qué pinta tiene el dataset 'labels':"
      ]
    },
    {
      "cell_type": "code",
      "execution_count": null,
      "id": "7a734f56",
      "metadata": {
        "id": "7a734f56",
        "outputId": "272ec6a2-e2fc-44ec-ed52-abf391c0a6e9"
      },
      "outputs": [
        {
          "data": {
            "text/html": [
              "<div>\n",
              "<style scoped>\n",
              "    .dataframe tbody tr th:only-of-type {\n",
              "        vertical-align: middle;\n",
              "    }\n",
              "\n",
              "    .dataframe tbody tr th {\n",
              "        vertical-align: top;\n",
              "    }\n",
              "\n",
              "    .dataframe thead th {\n",
              "        text-align: right;\n",
              "    }\n",
              "</style>\n",
              "<table border=\"1\" class=\"dataframe\">\n",
              "  <thead>\n",
              "    <tr style=\"text-align: right;\">\n",
              "      <th></th>\n",
              "      <th>id</th>\n",
              "      <th>status_group</th>\n",
              "    </tr>\n",
              "  </thead>\n",
              "  <tbody>\n",
              "    <tr>\n",
              "      <th>0</th>\n",
              "      <td>69572</td>\n",
              "      <td>functional</td>\n",
              "    </tr>\n",
              "    <tr>\n",
              "      <th>1</th>\n",
              "      <td>8776</td>\n",
              "      <td>functional</td>\n",
              "    </tr>\n",
              "    <tr>\n",
              "      <th>2</th>\n",
              "      <td>34310</td>\n",
              "      <td>functional</td>\n",
              "    </tr>\n",
              "    <tr>\n",
              "      <th>3</th>\n",
              "      <td>67743</td>\n",
              "      <td>non functional</td>\n",
              "    </tr>\n",
              "    <tr>\n",
              "      <th>4</th>\n",
              "      <td>19728</td>\n",
              "      <td>functional</td>\n",
              "    </tr>\n",
              "  </tbody>\n",
              "</table>\n",
              "</div>"
            ],
            "text/plain": [
              "      id    status_group\n",
              "0  69572      functional\n",
              "1   8776      functional\n",
              "2  34310      functional\n",
              "3  67743  non functional\n",
              "4  19728      functional"
            ]
          },
          "execution_count": 4,
          "metadata": {},
          "output_type": "execute_result"
        }
      ],
      "source": [
        "df_labels.head()"
      ]
    },
    {
      "cell_type": "markdown",
      "id": "23e62b92",
      "metadata": {
        "id": "23e62b92"
      },
      "source": [
        "Vemos el tamaño de las tres tablas:"
      ]
    },
    {
      "cell_type": "code",
      "execution_count": null,
      "id": "6d70ca95",
      "metadata": {
        "id": "6d70ca95",
        "outputId": "57745659-386f-449f-e7f3-872253605aed"
      },
      "outputs": [
        {
          "name": "stdout",
          "output_type": "stream",
          "text": [
            "Tamaño de tabla de training values: 59400\n",
            "Tamaño de tabla de training labels: 59400\n",
            "Tamaño de tabla de test values: 14850\n"
          ]
        }
      ],
      "source": [
        "print('Tamaño de tabla de training values:',df_training.shape[0])\n",
        "print('Tamaño de tabla de training labels:',df_labels.shape[0])\n",
        "print('Tamaño de tabla de test values:',df_test.shape[0])"
      ]
    },
    {
      "cell_type": "markdown",
      "id": "8daa1b5c",
      "metadata": {
        "id": "8daa1b5c"
      },
      "source": [
        "Comprobamos que las bombas de la tabla labels son las mismas que de la tabla training values:"
      ]
    },
    {
      "cell_type": "code",
      "execution_count": null,
      "id": "ed724628",
      "metadata": {
        "id": "ed724628",
        "outputId": "1986f6e0-9954-4842-bf2b-d9180735622a"
      },
      "outputs": [
        {
          "name": "stdout",
          "output_type": "stream",
          "text": [
            "Bombas en tabla labels\n",
            " True    59400\n",
            "Name: id, dtype: int64\n"
          ]
        }
      ],
      "source": [
        "print('Bombas en tabla labels\\n', df_labels['id'].isin(df_training['id']).value_counts())"
      ]
    },
    {
      "cell_type": "markdown",
      "id": "e2b4d96e",
      "metadata": {
        "id": "e2b4d96e"
      },
      "source": [
        "Unimos los dos datasets de training: values y labels"
      ]
    },
    {
      "cell_type": "code",
      "execution_count": null,
      "id": "9dcfc88c",
      "metadata": {
        "id": "9dcfc88c",
        "outputId": "4fcbfba0-ccf9-4cd9-dcfa-8b0b19074307"
      },
      "outputs": [
        {
          "data": {
            "text/html": [
              "<div>\n",
              "<style scoped>\n",
              "    .dataframe tbody tr th:only-of-type {\n",
              "        vertical-align: middle;\n",
              "    }\n",
              "\n",
              "    .dataframe tbody tr th {\n",
              "        vertical-align: top;\n",
              "    }\n",
              "\n",
              "    .dataframe thead th {\n",
              "        text-align: right;\n",
              "    }\n",
              "</style>\n",
              "<table border=\"1\" class=\"dataframe\">\n",
              "  <thead>\n",
              "    <tr style=\"text-align: right;\">\n",
              "      <th></th>\n",
              "      <th>id</th>\n",
              "      <th>amount_tsh</th>\n",
              "      <th>date_recorded</th>\n",
              "      <th>funder</th>\n",
              "      <th>gps_height</th>\n",
              "      <th>installer</th>\n",
              "      <th>longitude</th>\n",
              "      <th>latitude</th>\n",
              "      <th>wpt_name</th>\n",
              "      <th>num_private</th>\n",
              "      <th>basin</th>\n",
              "      <th>subvillage</th>\n",
              "      <th>region</th>\n",
              "      <th>region_code</th>\n",
              "      <th>district_code</th>\n",
              "      <th>lga</th>\n",
              "      <th>ward</th>\n",
              "      <th>population</th>\n",
              "      <th>public_meeting</th>\n",
              "      <th>recorded_by</th>\n",
              "      <th>scheme_management</th>\n",
              "      <th>scheme_name</th>\n",
              "      <th>permit</th>\n",
              "      <th>construction_year</th>\n",
              "      <th>extraction_type</th>\n",
              "      <th>extraction_type_group</th>\n",
              "      <th>extraction_type_class</th>\n",
              "      <th>management</th>\n",
              "      <th>management_group</th>\n",
              "      <th>payment</th>\n",
              "      <th>payment_type</th>\n",
              "      <th>water_quality</th>\n",
              "      <th>quality_group</th>\n",
              "      <th>quantity</th>\n",
              "      <th>quantity_group</th>\n",
              "      <th>source</th>\n",
              "      <th>source_type</th>\n",
              "      <th>source_class</th>\n",
              "      <th>waterpoint_type</th>\n",
              "      <th>waterpoint_type_group</th>\n",
              "      <th>status_group</th>\n",
              "    </tr>\n",
              "  </thead>\n",
              "  <tbody>\n",
              "    <tr>\n",
              "      <th>0</th>\n",
              "      <td>69572</td>\n",
              "      <td>6000.0</td>\n",
              "      <td>2011-03-14</td>\n",
              "      <td>Roman</td>\n",
              "      <td>1390</td>\n",
              "      <td>Roman</td>\n",
              "      <td>34.938093</td>\n",
              "      <td>-9.856322</td>\n",
              "      <td>none</td>\n",
              "      <td>0</td>\n",
              "      <td>Lake Nyasa</td>\n",
              "      <td>Mnyusi B</td>\n",
              "      <td>Iringa</td>\n",
              "      <td>11</td>\n",
              "      <td>5</td>\n",
              "      <td>Ludewa</td>\n",
              "      <td>Mundindi</td>\n",
              "      <td>109</td>\n",
              "      <td>True</td>\n",
              "      <td>GeoData Consultants Ltd</td>\n",
              "      <td>VWC</td>\n",
              "      <td>Roman</td>\n",
              "      <td>False</td>\n",
              "      <td>1999</td>\n",
              "      <td>gravity</td>\n",
              "      <td>gravity</td>\n",
              "      <td>gravity</td>\n",
              "      <td>vwc</td>\n",
              "      <td>user-group</td>\n",
              "      <td>pay annually</td>\n",
              "      <td>annually</td>\n",
              "      <td>soft</td>\n",
              "      <td>good</td>\n",
              "      <td>enough</td>\n",
              "      <td>enough</td>\n",
              "      <td>spring</td>\n",
              "      <td>spring</td>\n",
              "      <td>groundwater</td>\n",
              "      <td>communal standpipe</td>\n",
              "      <td>communal standpipe</td>\n",
              "      <td>functional</td>\n",
              "    </tr>\n",
              "    <tr>\n",
              "      <th>1</th>\n",
              "      <td>8776</td>\n",
              "      <td>0.0</td>\n",
              "      <td>2013-03-06</td>\n",
              "      <td>Grumeti</td>\n",
              "      <td>1399</td>\n",
              "      <td>GRUMETI</td>\n",
              "      <td>34.698766</td>\n",
              "      <td>-2.147466</td>\n",
              "      <td>Zahanati</td>\n",
              "      <td>0</td>\n",
              "      <td>Lake Victoria</td>\n",
              "      <td>Nyamara</td>\n",
              "      <td>Mara</td>\n",
              "      <td>20</td>\n",
              "      <td>2</td>\n",
              "      <td>Serengeti</td>\n",
              "      <td>Natta</td>\n",
              "      <td>280</td>\n",
              "      <td>NaN</td>\n",
              "      <td>GeoData Consultants Ltd</td>\n",
              "      <td>Other</td>\n",
              "      <td>NaN</td>\n",
              "      <td>True</td>\n",
              "      <td>2010</td>\n",
              "      <td>gravity</td>\n",
              "      <td>gravity</td>\n",
              "      <td>gravity</td>\n",
              "      <td>wug</td>\n",
              "      <td>user-group</td>\n",
              "      <td>never pay</td>\n",
              "      <td>never pay</td>\n",
              "      <td>soft</td>\n",
              "      <td>good</td>\n",
              "      <td>insufficient</td>\n",
              "      <td>insufficient</td>\n",
              "      <td>rainwater harvesting</td>\n",
              "      <td>rainwater harvesting</td>\n",
              "      <td>surface</td>\n",
              "      <td>communal standpipe</td>\n",
              "      <td>communal standpipe</td>\n",
              "      <td>functional</td>\n",
              "    </tr>\n",
              "    <tr>\n",
              "      <th>2</th>\n",
              "      <td>34310</td>\n",
              "      <td>25.0</td>\n",
              "      <td>2013-02-25</td>\n",
              "      <td>Lottery Club</td>\n",
              "      <td>686</td>\n",
              "      <td>World vision</td>\n",
              "      <td>37.460664</td>\n",
              "      <td>-3.821329</td>\n",
              "      <td>Kwa Mahundi</td>\n",
              "      <td>0</td>\n",
              "      <td>Pangani</td>\n",
              "      <td>Majengo</td>\n",
              "      <td>Manyara</td>\n",
              "      <td>21</td>\n",
              "      <td>4</td>\n",
              "      <td>Simanjiro</td>\n",
              "      <td>Ngorika</td>\n",
              "      <td>250</td>\n",
              "      <td>True</td>\n",
              "      <td>GeoData Consultants Ltd</td>\n",
              "      <td>VWC</td>\n",
              "      <td>Nyumba ya mungu pipe scheme</td>\n",
              "      <td>True</td>\n",
              "      <td>2009</td>\n",
              "      <td>gravity</td>\n",
              "      <td>gravity</td>\n",
              "      <td>gravity</td>\n",
              "      <td>vwc</td>\n",
              "      <td>user-group</td>\n",
              "      <td>pay per bucket</td>\n",
              "      <td>per bucket</td>\n",
              "      <td>soft</td>\n",
              "      <td>good</td>\n",
              "      <td>enough</td>\n",
              "      <td>enough</td>\n",
              "      <td>dam</td>\n",
              "      <td>dam</td>\n",
              "      <td>surface</td>\n",
              "      <td>communal standpipe multiple</td>\n",
              "      <td>communal standpipe</td>\n",
              "      <td>functional</td>\n",
              "    </tr>\n",
              "    <tr>\n",
              "      <th>3</th>\n",
              "      <td>67743</td>\n",
              "      <td>0.0</td>\n",
              "      <td>2013-01-28</td>\n",
              "      <td>Unicef</td>\n",
              "      <td>263</td>\n",
              "      <td>UNICEF</td>\n",
              "      <td>38.486161</td>\n",
              "      <td>-11.155298</td>\n",
              "      <td>Zahanati Ya Nanyumbu</td>\n",
              "      <td>0</td>\n",
              "      <td>Ruvuma / Southern Coast</td>\n",
              "      <td>Mahakamani</td>\n",
              "      <td>Mtwara</td>\n",
              "      <td>90</td>\n",
              "      <td>63</td>\n",
              "      <td>Nanyumbu</td>\n",
              "      <td>Nanyumbu</td>\n",
              "      <td>58</td>\n",
              "      <td>True</td>\n",
              "      <td>GeoData Consultants Ltd</td>\n",
              "      <td>VWC</td>\n",
              "      <td>NaN</td>\n",
              "      <td>True</td>\n",
              "      <td>1986</td>\n",
              "      <td>submersible</td>\n",
              "      <td>submersible</td>\n",
              "      <td>submersible</td>\n",
              "      <td>vwc</td>\n",
              "      <td>user-group</td>\n",
              "      <td>never pay</td>\n",
              "      <td>never pay</td>\n",
              "      <td>soft</td>\n",
              "      <td>good</td>\n",
              "      <td>dry</td>\n",
              "      <td>dry</td>\n",
              "      <td>machine dbh</td>\n",
              "      <td>borehole</td>\n",
              "      <td>groundwater</td>\n",
              "      <td>communal standpipe multiple</td>\n",
              "      <td>communal standpipe</td>\n",
              "      <td>non functional</td>\n",
              "    </tr>\n",
              "    <tr>\n",
              "      <th>4</th>\n",
              "      <td>19728</td>\n",
              "      <td>0.0</td>\n",
              "      <td>2011-07-13</td>\n",
              "      <td>Action In A</td>\n",
              "      <td>0</td>\n",
              "      <td>Artisan</td>\n",
              "      <td>31.130847</td>\n",
              "      <td>-1.825359</td>\n",
              "      <td>Shuleni</td>\n",
              "      <td>0</td>\n",
              "      <td>Lake Victoria</td>\n",
              "      <td>Kyanyamisa</td>\n",
              "      <td>Kagera</td>\n",
              "      <td>18</td>\n",
              "      <td>1</td>\n",
              "      <td>Karagwe</td>\n",
              "      <td>Nyakasimbi</td>\n",
              "      <td>0</td>\n",
              "      <td>True</td>\n",
              "      <td>GeoData Consultants Ltd</td>\n",
              "      <td>NaN</td>\n",
              "      <td>NaN</td>\n",
              "      <td>True</td>\n",
              "      <td>0</td>\n",
              "      <td>gravity</td>\n",
              "      <td>gravity</td>\n",
              "      <td>gravity</td>\n",
              "      <td>other</td>\n",
              "      <td>other</td>\n",
              "      <td>never pay</td>\n",
              "      <td>never pay</td>\n",
              "      <td>soft</td>\n",
              "      <td>good</td>\n",
              "      <td>seasonal</td>\n",
              "      <td>seasonal</td>\n",
              "      <td>rainwater harvesting</td>\n",
              "      <td>rainwater harvesting</td>\n",
              "      <td>surface</td>\n",
              "      <td>communal standpipe</td>\n",
              "      <td>communal standpipe</td>\n",
              "      <td>functional</td>\n",
              "    </tr>\n",
              "    <tr>\n",
              "      <th>...</th>\n",
              "      <td>...</td>\n",
              "      <td>...</td>\n",
              "      <td>...</td>\n",
              "      <td>...</td>\n",
              "      <td>...</td>\n",
              "      <td>...</td>\n",
              "      <td>...</td>\n",
              "      <td>...</td>\n",
              "      <td>...</td>\n",
              "      <td>...</td>\n",
              "      <td>...</td>\n",
              "      <td>...</td>\n",
              "      <td>...</td>\n",
              "      <td>...</td>\n",
              "      <td>...</td>\n",
              "      <td>...</td>\n",
              "      <td>...</td>\n",
              "      <td>...</td>\n",
              "      <td>...</td>\n",
              "      <td>...</td>\n",
              "      <td>...</td>\n",
              "      <td>...</td>\n",
              "      <td>...</td>\n",
              "      <td>...</td>\n",
              "      <td>...</td>\n",
              "      <td>...</td>\n",
              "      <td>...</td>\n",
              "      <td>...</td>\n",
              "      <td>...</td>\n",
              "      <td>...</td>\n",
              "      <td>...</td>\n",
              "      <td>...</td>\n",
              "      <td>...</td>\n",
              "      <td>...</td>\n",
              "      <td>...</td>\n",
              "      <td>...</td>\n",
              "      <td>...</td>\n",
              "      <td>...</td>\n",
              "      <td>...</td>\n",
              "      <td>...</td>\n",
              "      <td>...</td>\n",
              "    </tr>\n",
              "    <tr>\n",
              "      <th>59395</th>\n",
              "      <td>60739</td>\n",
              "      <td>10.0</td>\n",
              "      <td>2013-05-03</td>\n",
              "      <td>Germany Republi</td>\n",
              "      <td>1210</td>\n",
              "      <td>CES</td>\n",
              "      <td>37.169807</td>\n",
              "      <td>-3.253847</td>\n",
              "      <td>Area Three Namba 27</td>\n",
              "      <td>0</td>\n",
              "      <td>Pangani</td>\n",
              "      <td>Kiduruni</td>\n",
              "      <td>Kilimanjaro</td>\n",
              "      <td>3</td>\n",
              "      <td>5</td>\n",
              "      <td>Hai</td>\n",
              "      <td>Masama Magharibi</td>\n",
              "      <td>125</td>\n",
              "      <td>True</td>\n",
              "      <td>GeoData Consultants Ltd</td>\n",
              "      <td>Water Board</td>\n",
              "      <td>Losaa Kia water supply</td>\n",
              "      <td>True</td>\n",
              "      <td>1999</td>\n",
              "      <td>gravity</td>\n",
              "      <td>gravity</td>\n",
              "      <td>gravity</td>\n",
              "      <td>water board</td>\n",
              "      <td>user-group</td>\n",
              "      <td>pay per bucket</td>\n",
              "      <td>per bucket</td>\n",
              "      <td>soft</td>\n",
              "      <td>good</td>\n",
              "      <td>enough</td>\n",
              "      <td>enough</td>\n",
              "      <td>spring</td>\n",
              "      <td>spring</td>\n",
              "      <td>groundwater</td>\n",
              "      <td>communal standpipe</td>\n",
              "      <td>communal standpipe</td>\n",
              "      <td>functional</td>\n",
              "    </tr>\n",
              "    <tr>\n",
              "      <th>59396</th>\n",
              "      <td>27263</td>\n",
              "      <td>4700.0</td>\n",
              "      <td>2011-05-07</td>\n",
              "      <td>Cefa-njombe</td>\n",
              "      <td>1212</td>\n",
              "      <td>Cefa</td>\n",
              "      <td>35.249991</td>\n",
              "      <td>-9.070629</td>\n",
              "      <td>Kwa Yahona Kuvala</td>\n",
              "      <td>0</td>\n",
              "      <td>Rufiji</td>\n",
              "      <td>Igumbilo</td>\n",
              "      <td>Iringa</td>\n",
              "      <td>11</td>\n",
              "      <td>4</td>\n",
              "      <td>Njombe</td>\n",
              "      <td>Ikondo</td>\n",
              "      <td>56</td>\n",
              "      <td>True</td>\n",
              "      <td>GeoData Consultants Ltd</td>\n",
              "      <td>VWC</td>\n",
              "      <td>Ikondo electrical water sch</td>\n",
              "      <td>True</td>\n",
              "      <td>1996</td>\n",
              "      <td>gravity</td>\n",
              "      <td>gravity</td>\n",
              "      <td>gravity</td>\n",
              "      <td>vwc</td>\n",
              "      <td>user-group</td>\n",
              "      <td>pay annually</td>\n",
              "      <td>annually</td>\n",
              "      <td>soft</td>\n",
              "      <td>good</td>\n",
              "      <td>enough</td>\n",
              "      <td>enough</td>\n",
              "      <td>river</td>\n",
              "      <td>river/lake</td>\n",
              "      <td>surface</td>\n",
              "      <td>communal standpipe</td>\n",
              "      <td>communal standpipe</td>\n",
              "      <td>functional</td>\n",
              "    </tr>\n",
              "    <tr>\n",
              "      <th>59397</th>\n",
              "      <td>37057</td>\n",
              "      <td>0.0</td>\n",
              "      <td>2011-04-11</td>\n",
              "      <td>NaN</td>\n",
              "      <td>0</td>\n",
              "      <td>NaN</td>\n",
              "      <td>34.017087</td>\n",
              "      <td>-8.750434</td>\n",
              "      <td>Mashine</td>\n",
              "      <td>0</td>\n",
              "      <td>Rufiji</td>\n",
              "      <td>Madungulu</td>\n",
              "      <td>Mbeya</td>\n",
              "      <td>12</td>\n",
              "      <td>7</td>\n",
              "      <td>Mbarali</td>\n",
              "      <td>Chimala</td>\n",
              "      <td>0</td>\n",
              "      <td>True</td>\n",
              "      <td>GeoData Consultants Ltd</td>\n",
              "      <td>VWC</td>\n",
              "      <td>NaN</td>\n",
              "      <td>False</td>\n",
              "      <td>0</td>\n",
              "      <td>swn 80</td>\n",
              "      <td>swn 80</td>\n",
              "      <td>handpump</td>\n",
              "      <td>vwc</td>\n",
              "      <td>user-group</td>\n",
              "      <td>pay monthly</td>\n",
              "      <td>monthly</td>\n",
              "      <td>fluoride</td>\n",
              "      <td>fluoride</td>\n",
              "      <td>enough</td>\n",
              "      <td>enough</td>\n",
              "      <td>machine dbh</td>\n",
              "      <td>borehole</td>\n",
              "      <td>groundwater</td>\n",
              "      <td>hand pump</td>\n",
              "      <td>hand pump</td>\n",
              "      <td>functional</td>\n",
              "    </tr>\n",
              "    <tr>\n",
              "      <th>59398</th>\n",
              "      <td>31282</td>\n",
              "      <td>0.0</td>\n",
              "      <td>2011-03-08</td>\n",
              "      <td>Malec</td>\n",
              "      <td>0</td>\n",
              "      <td>Musa</td>\n",
              "      <td>35.861315</td>\n",
              "      <td>-6.378573</td>\n",
              "      <td>Mshoro</td>\n",
              "      <td>0</td>\n",
              "      <td>Rufiji</td>\n",
              "      <td>Mwinyi</td>\n",
              "      <td>Dodoma</td>\n",
              "      <td>1</td>\n",
              "      <td>4</td>\n",
              "      <td>Chamwino</td>\n",
              "      <td>Mvumi Makulu</td>\n",
              "      <td>0</td>\n",
              "      <td>True</td>\n",
              "      <td>GeoData Consultants Ltd</td>\n",
              "      <td>VWC</td>\n",
              "      <td>NaN</td>\n",
              "      <td>True</td>\n",
              "      <td>0</td>\n",
              "      <td>nira/tanira</td>\n",
              "      <td>nira/tanira</td>\n",
              "      <td>handpump</td>\n",
              "      <td>vwc</td>\n",
              "      <td>user-group</td>\n",
              "      <td>never pay</td>\n",
              "      <td>never pay</td>\n",
              "      <td>soft</td>\n",
              "      <td>good</td>\n",
              "      <td>insufficient</td>\n",
              "      <td>insufficient</td>\n",
              "      <td>shallow well</td>\n",
              "      <td>shallow well</td>\n",
              "      <td>groundwater</td>\n",
              "      <td>hand pump</td>\n",
              "      <td>hand pump</td>\n",
              "      <td>functional</td>\n",
              "    </tr>\n",
              "    <tr>\n",
              "      <th>59399</th>\n",
              "      <td>26348</td>\n",
              "      <td>0.0</td>\n",
              "      <td>2011-03-23</td>\n",
              "      <td>World Bank</td>\n",
              "      <td>191</td>\n",
              "      <td>World</td>\n",
              "      <td>38.104048</td>\n",
              "      <td>-6.747464</td>\n",
              "      <td>Kwa Mzee Lugawa</td>\n",
              "      <td>0</td>\n",
              "      <td>Wami / Ruvu</td>\n",
              "      <td>Kikatanyemba</td>\n",
              "      <td>Morogoro</td>\n",
              "      <td>5</td>\n",
              "      <td>2</td>\n",
              "      <td>Morogoro Rural</td>\n",
              "      <td>Ngerengere</td>\n",
              "      <td>150</td>\n",
              "      <td>True</td>\n",
              "      <td>GeoData Consultants Ltd</td>\n",
              "      <td>VWC</td>\n",
              "      <td>NaN</td>\n",
              "      <td>True</td>\n",
              "      <td>2002</td>\n",
              "      <td>nira/tanira</td>\n",
              "      <td>nira/tanira</td>\n",
              "      <td>handpump</td>\n",
              "      <td>vwc</td>\n",
              "      <td>user-group</td>\n",
              "      <td>pay when scheme fails</td>\n",
              "      <td>on failure</td>\n",
              "      <td>salty</td>\n",
              "      <td>salty</td>\n",
              "      <td>enough</td>\n",
              "      <td>enough</td>\n",
              "      <td>shallow well</td>\n",
              "      <td>shallow well</td>\n",
              "      <td>groundwater</td>\n",
              "      <td>hand pump</td>\n",
              "      <td>hand pump</td>\n",
              "      <td>functional</td>\n",
              "    </tr>\n",
              "  </tbody>\n",
              "</table>\n",
              "<p>59400 rows × 41 columns</p>\n",
              "</div>"
            ],
            "text/plain": [
              "          id  amount_tsh date_recorded           funder  gps_height  \\\n",
              "0      69572      6000.0    2011-03-14            Roman        1390   \n",
              "1       8776         0.0    2013-03-06          Grumeti        1399   \n",
              "2      34310        25.0    2013-02-25     Lottery Club         686   \n",
              "3      67743         0.0    2013-01-28           Unicef         263   \n",
              "4      19728         0.0    2011-07-13      Action In A           0   \n",
              "...      ...         ...           ...              ...         ...   \n",
              "59395  60739        10.0    2013-05-03  Germany Republi        1210   \n",
              "59396  27263      4700.0    2011-05-07      Cefa-njombe        1212   \n",
              "59397  37057         0.0    2011-04-11              NaN           0   \n",
              "59398  31282         0.0    2011-03-08            Malec           0   \n",
              "59399  26348         0.0    2011-03-23       World Bank         191   \n",
              "\n",
              "          installer  longitude   latitude              wpt_name  num_private  \\\n",
              "0             Roman  34.938093  -9.856322                  none            0   \n",
              "1           GRUMETI  34.698766  -2.147466              Zahanati            0   \n",
              "2      World vision  37.460664  -3.821329           Kwa Mahundi            0   \n",
              "3            UNICEF  38.486161 -11.155298  Zahanati Ya Nanyumbu            0   \n",
              "4           Artisan  31.130847  -1.825359               Shuleni            0   \n",
              "...             ...        ...        ...                   ...          ...   \n",
              "59395           CES  37.169807  -3.253847   Area Three Namba 27            0   \n",
              "59396          Cefa  35.249991  -9.070629     Kwa Yahona Kuvala            0   \n",
              "59397           NaN  34.017087  -8.750434               Mashine            0   \n",
              "59398          Musa  35.861315  -6.378573                Mshoro            0   \n",
              "59399         World  38.104048  -6.747464       Kwa Mzee Lugawa            0   \n",
              "\n",
              "                         basin    subvillage       region  region_code  \\\n",
              "0                   Lake Nyasa      Mnyusi B       Iringa           11   \n",
              "1                Lake Victoria       Nyamara         Mara           20   \n",
              "2                      Pangani       Majengo      Manyara           21   \n",
              "3      Ruvuma / Southern Coast    Mahakamani       Mtwara           90   \n",
              "4                Lake Victoria    Kyanyamisa       Kagera           18   \n",
              "...                        ...           ...          ...          ...   \n",
              "59395                  Pangani      Kiduruni  Kilimanjaro            3   \n",
              "59396                   Rufiji      Igumbilo       Iringa           11   \n",
              "59397                   Rufiji     Madungulu        Mbeya           12   \n",
              "59398                   Rufiji        Mwinyi       Dodoma            1   \n",
              "59399              Wami / Ruvu  Kikatanyemba     Morogoro            5   \n",
              "\n",
              "       district_code             lga              ward  population  \\\n",
              "0                  5          Ludewa          Mundindi         109   \n",
              "1                  2       Serengeti             Natta         280   \n",
              "2                  4       Simanjiro           Ngorika         250   \n",
              "3                 63        Nanyumbu          Nanyumbu          58   \n",
              "4                  1         Karagwe        Nyakasimbi           0   \n",
              "...              ...             ...               ...         ...   \n",
              "59395              5             Hai  Masama Magharibi         125   \n",
              "59396              4          Njombe            Ikondo          56   \n",
              "59397              7         Mbarali           Chimala           0   \n",
              "59398              4        Chamwino      Mvumi Makulu           0   \n",
              "59399              2  Morogoro Rural        Ngerengere         150   \n",
              "\n",
              "      public_meeting              recorded_by scheme_management  \\\n",
              "0               True  GeoData Consultants Ltd               VWC   \n",
              "1                NaN  GeoData Consultants Ltd             Other   \n",
              "2               True  GeoData Consultants Ltd               VWC   \n",
              "3               True  GeoData Consultants Ltd               VWC   \n",
              "4               True  GeoData Consultants Ltd               NaN   \n",
              "...              ...                      ...               ...   \n",
              "59395           True  GeoData Consultants Ltd       Water Board   \n",
              "59396           True  GeoData Consultants Ltd               VWC   \n",
              "59397           True  GeoData Consultants Ltd               VWC   \n",
              "59398           True  GeoData Consultants Ltd               VWC   \n",
              "59399           True  GeoData Consultants Ltd               VWC   \n",
              "\n",
              "                       scheme_name permit  construction_year extraction_type  \\\n",
              "0                            Roman  False               1999         gravity   \n",
              "1                              NaN   True               2010         gravity   \n",
              "2      Nyumba ya mungu pipe scheme   True               2009         gravity   \n",
              "3                              NaN   True               1986     submersible   \n",
              "4                              NaN   True                  0         gravity   \n",
              "...                            ...    ...                ...             ...   \n",
              "59395       Losaa Kia water supply   True               1999         gravity   \n",
              "59396  Ikondo electrical water sch   True               1996         gravity   \n",
              "59397                          NaN  False                  0          swn 80   \n",
              "59398                          NaN   True                  0     nira/tanira   \n",
              "59399                          NaN   True               2002     nira/tanira   \n",
              "\n",
              "      extraction_type_group extraction_type_class   management  \\\n",
              "0                   gravity               gravity          vwc   \n",
              "1                   gravity               gravity          wug   \n",
              "2                   gravity               gravity          vwc   \n",
              "3               submersible           submersible          vwc   \n",
              "4                   gravity               gravity        other   \n",
              "...                     ...                   ...          ...   \n",
              "59395               gravity               gravity  water board   \n",
              "59396               gravity               gravity          vwc   \n",
              "59397                swn 80              handpump          vwc   \n",
              "59398           nira/tanira              handpump          vwc   \n",
              "59399           nira/tanira              handpump          vwc   \n",
              "\n",
              "      management_group                payment payment_type water_quality  \\\n",
              "0           user-group           pay annually     annually          soft   \n",
              "1           user-group              never pay    never pay          soft   \n",
              "2           user-group         pay per bucket   per bucket          soft   \n",
              "3           user-group              never pay    never pay          soft   \n",
              "4                other              never pay    never pay          soft   \n",
              "...                ...                    ...          ...           ...   \n",
              "59395       user-group         pay per bucket   per bucket          soft   \n",
              "59396       user-group           pay annually     annually          soft   \n",
              "59397       user-group            pay monthly      monthly      fluoride   \n",
              "59398       user-group              never pay    never pay          soft   \n",
              "59399       user-group  pay when scheme fails   on failure         salty   \n",
              "\n",
              "      quality_group      quantity quantity_group                source  \\\n",
              "0              good        enough         enough                spring   \n",
              "1              good  insufficient   insufficient  rainwater harvesting   \n",
              "2              good        enough         enough                   dam   \n",
              "3              good           dry            dry           machine dbh   \n",
              "4              good      seasonal       seasonal  rainwater harvesting   \n",
              "...             ...           ...            ...                   ...   \n",
              "59395          good        enough         enough                spring   \n",
              "59396          good        enough         enough                 river   \n",
              "59397      fluoride        enough         enough           machine dbh   \n",
              "59398          good  insufficient   insufficient          shallow well   \n",
              "59399         salty        enough         enough          shallow well   \n",
              "\n",
              "                source_type source_class              waterpoint_type  \\\n",
              "0                    spring  groundwater           communal standpipe   \n",
              "1      rainwater harvesting      surface           communal standpipe   \n",
              "2                       dam      surface  communal standpipe multiple   \n",
              "3                  borehole  groundwater  communal standpipe multiple   \n",
              "4      rainwater harvesting      surface           communal standpipe   \n",
              "...                     ...          ...                          ...   \n",
              "59395                spring  groundwater           communal standpipe   \n",
              "59396            river/lake      surface           communal standpipe   \n",
              "59397              borehole  groundwater                    hand pump   \n",
              "59398          shallow well  groundwater                    hand pump   \n",
              "59399          shallow well  groundwater                    hand pump   \n",
              "\n",
              "      waterpoint_type_group    status_group  \n",
              "0        communal standpipe      functional  \n",
              "1        communal standpipe      functional  \n",
              "2        communal standpipe      functional  \n",
              "3        communal standpipe  non functional  \n",
              "4        communal standpipe      functional  \n",
              "...                     ...             ...  \n",
              "59395    communal standpipe      functional  \n",
              "59396    communal standpipe      functional  \n",
              "59397             hand pump      functional  \n",
              "59398             hand pump      functional  \n",
              "59399             hand pump      functional  \n",
              "\n",
              "[59400 rows x 41 columns]"
            ]
          },
          "execution_count": 7,
          "metadata": {},
          "output_type": "execute_result"
        }
      ],
      "source": [
        "df = pd.merge(df_training, df_labels, on = \"id\", how = \"left\")\n",
        "df"
      ]
    },
    {
      "cell_type": "markdown",
      "id": "818c2011",
      "metadata": {
        "id": "818c2011"
      },
      "source": [
        "Fijamos el id como nuevo index:"
      ]
    },
    {
      "cell_type": "code",
      "execution_count": null,
      "id": "719ea710",
      "metadata": {
        "id": "719ea710",
        "outputId": "af28a3b3-5d97-4738-e6e7-2feacc15401a"
      },
      "outputs": [
        {
          "data": {
            "text/html": [
              "<div>\n",
              "<style scoped>\n",
              "    .dataframe tbody tr th:only-of-type {\n",
              "        vertical-align: middle;\n",
              "    }\n",
              "\n",
              "    .dataframe tbody tr th {\n",
              "        vertical-align: top;\n",
              "    }\n",
              "\n",
              "    .dataframe thead th {\n",
              "        text-align: right;\n",
              "    }\n",
              "</style>\n",
              "<table border=\"1\" class=\"dataframe\">\n",
              "  <thead>\n",
              "    <tr style=\"text-align: right;\">\n",
              "      <th></th>\n",
              "      <th>amount_tsh</th>\n",
              "      <th>date_recorded</th>\n",
              "      <th>funder</th>\n",
              "      <th>gps_height</th>\n",
              "      <th>installer</th>\n",
              "      <th>longitude</th>\n",
              "      <th>latitude</th>\n",
              "      <th>wpt_name</th>\n",
              "      <th>num_private</th>\n",
              "      <th>basin</th>\n",
              "      <th>subvillage</th>\n",
              "      <th>region</th>\n",
              "      <th>region_code</th>\n",
              "      <th>district_code</th>\n",
              "      <th>lga</th>\n",
              "      <th>ward</th>\n",
              "      <th>population</th>\n",
              "      <th>public_meeting</th>\n",
              "      <th>recorded_by</th>\n",
              "      <th>scheme_management</th>\n",
              "      <th>scheme_name</th>\n",
              "      <th>permit</th>\n",
              "      <th>construction_year</th>\n",
              "      <th>extraction_type</th>\n",
              "      <th>extraction_type_group</th>\n",
              "      <th>extraction_type_class</th>\n",
              "      <th>management</th>\n",
              "      <th>management_group</th>\n",
              "      <th>payment</th>\n",
              "      <th>payment_type</th>\n",
              "      <th>water_quality</th>\n",
              "      <th>quality_group</th>\n",
              "      <th>quantity</th>\n",
              "      <th>quantity_group</th>\n",
              "      <th>source</th>\n",
              "      <th>source_type</th>\n",
              "      <th>source_class</th>\n",
              "      <th>waterpoint_type</th>\n",
              "      <th>waterpoint_type_group</th>\n",
              "      <th>status_group</th>\n",
              "    </tr>\n",
              "    <tr>\n",
              "      <th>id</th>\n",
              "      <th></th>\n",
              "      <th></th>\n",
              "      <th></th>\n",
              "      <th></th>\n",
              "      <th></th>\n",
              "      <th></th>\n",
              "      <th></th>\n",
              "      <th></th>\n",
              "      <th></th>\n",
              "      <th></th>\n",
              "      <th></th>\n",
              "      <th></th>\n",
              "      <th></th>\n",
              "      <th></th>\n",
              "      <th></th>\n",
              "      <th></th>\n",
              "      <th></th>\n",
              "      <th></th>\n",
              "      <th></th>\n",
              "      <th></th>\n",
              "      <th></th>\n",
              "      <th></th>\n",
              "      <th></th>\n",
              "      <th></th>\n",
              "      <th></th>\n",
              "      <th></th>\n",
              "      <th></th>\n",
              "      <th></th>\n",
              "      <th></th>\n",
              "      <th></th>\n",
              "      <th></th>\n",
              "      <th></th>\n",
              "      <th></th>\n",
              "      <th></th>\n",
              "      <th></th>\n",
              "      <th></th>\n",
              "      <th></th>\n",
              "      <th></th>\n",
              "      <th></th>\n",
              "      <th></th>\n",
              "    </tr>\n",
              "  </thead>\n",
              "  <tbody>\n",
              "    <tr>\n",
              "      <th>69572</th>\n",
              "      <td>6000.0</td>\n",
              "      <td>2011-03-14</td>\n",
              "      <td>Roman</td>\n",
              "      <td>1390</td>\n",
              "      <td>Roman</td>\n",
              "      <td>34.938093</td>\n",
              "      <td>-9.856322</td>\n",
              "      <td>none</td>\n",
              "      <td>0</td>\n",
              "      <td>Lake Nyasa</td>\n",
              "      <td>Mnyusi B</td>\n",
              "      <td>Iringa</td>\n",
              "      <td>11</td>\n",
              "      <td>5</td>\n",
              "      <td>Ludewa</td>\n",
              "      <td>Mundindi</td>\n",
              "      <td>109</td>\n",
              "      <td>True</td>\n",
              "      <td>GeoData Consultants Ltd</td>\n",
              "      <td>VWC</td>\n",
              "      <td>Roman</td>\n",
              "      <td>False</td>\n",
              "      <td>1999</td>\n",
              "      <td>gravity</td>\n",
              "      <td>gravity</td>\n",
              "      <td>gravity</td>\n",
              "      <td>vwc</td>\n",
              "      <td>user-group</td>\n",
              "      <td>pay annually</td>\n",
              "      <td>annually</td>\n",
              "      <td>soft</td>\n",
              "      <td>good</td>\n",
              "      <td>enough</td>\n",
              "      <td>enough</td>\n",
              "      <td>spring</td>\n",
              "      <td>spring</td>\n",
              "      <td>groundwater</td>\n",
              "      <td>communal standpipe</td>\n",
              "      <td>communal standpipe</td>\n",
              "      <td>functional</td>\n",
              "    </tr>\n",
              "    <tr>\n",
              "      <th>8776</th>\n",
              "      <td>0.0</td>\n",
              "      <td>2013-03-06</td>\n",
              "      <td>Grumeti</td>\n",
              "      <td>1399</td>\n",
              "      <td>GRUMETI</td>\n",
              "      <td>34.698766</td>\n",
              "      <td>-2.147466</td>\n",
              "      <td>Zahanati</td>\n",
              "      <td>0</td>\n",
              "      <td>Lake Victoria</td>\n",
              "      <td>Nyamara</td>\n",
              "      <td>Mara</td>\n",
              "      <td>20</td>\n",
              "      <td>2</td>\n",
              "      <td>Serengeti</td>\n",
              "      <td>Natta</td>\n",
              "      <td>280</td>\n",
              "      <td>NaN</td>\n",
              "      <td>GeoData Consultants Ltd</td>\n",
              "      <td>Other</td>\n",
              "      <td>NaN</td>\n",
              "      <td>True</td>\n",
              "      <td>2010</td>\n",
              "      <td>gravity</td>\n",
              "      <td>gravity</td>\n",
              "      <td>gravity</td>\n",
              "      <td>wug</td>\n",
              "      <td>user-group</td>\n",
              "      <td>never pay</td>\n",
              "      <td>never pay</td>\n",
              "      <td>soft</td>\n",
              "      <td>good</td>\n",
              "      <td>insufficient</td>\n",
              "      <td>insufficient</td>\n",
              "      <td>rainwater harvesting</td>\n",
              "      <td>rainwater harvesting</td>\n",
              "      <td>surface</td>\n",
              "      <td>communal standpipe</td>\n",
              "      <td>communal standpipe</td>\n",
              "      <td>functional</td>\n",
              "    </tr>\n",
              "    <tr>\n",
              "      <th>34310</th>\n",
              "      <td>25.0</td>\n",
              "      <td>2013-02-25</td>\n",
              "      <td>Lottery Club</td>\n",
              "      <td>686</td>\n",
              "      <td>World vision</td>\n",
              "      <td>37.460664</td>\n",
              "      <td>-3.821329</td>\n",
              "      <td>Kwa Mahundi</td>\n",
              "      <td>0</td>\n",
              "      <td>Pangani</td>\n",
              "      <td>Majengo</td>\n",
              "      <td>Manyara</td>\n",
              "      <td>21</td>\n",
              "      <td>4</td>\n",
              "      <td>Simanjiro</td>\n",
              "      <td>Ngorika</td>\n",
              "      <td>250</td>\n",
              "      <td>True</td>\n",
              "      <td>GeoData Consultants Ltd</td>\n",
              "      <td>VWC</td>\n",
              "      <td>Nyumba ya mungu pipe scheme</td>\n",
              "      <td>True</td>\n",
              "      <td>2009</td>\n",
              "      <td>gravity</td>\n",
              "      <td>gravity</td>\n",
              "      <td>gravity</td>\n",
              "      <td>vwc</td>\n",
              "      <td>user-group</td>\n",
              "      <td>pay per bucket</td>\n",
              "      <td>per bucket</td>\n",
              "      <td>soft</td>\n",
              "      <td>good</td>\n",
              "      <td>enough</td>\n",
              "      <td>enough</td>\n",
              "      <td>dam</td>\n",
              "      <td>dam</td>\n",
              "      <td>surface</td>\n",
              "      <td>communal standpipe multiple</td>\n",
              "      <td>communal standpipe</td>\n",
              "      <td>functional</td>\n",
              "    </tr>\n",
              "    <tr>\n",
              "      <th>67743</th>\n",
              "      <td>0.0</td>\n",
              "      <td>2013-01-28</td>\n",
              "      <td>Unicef</td>\n",
              "      <td>263</td>\n",
              "      <td>UNICEF</td>\n",
              "      <td>38.486161</td>\n",
              "      <td>-11.155298</td>\n",
              "      <td>Zahanati Ya Nanyumbu</td>\n",
              "      <td>0</td>\n",
              "      <td>Ruvuma / Southern Coast</td>\n",
              "      <td>Mahakamani</td>\n",
              "      <td>Mtwara</td>\n",
              "      <td>90</td>\n",
              "      <td>63</td>\n",
              "      <td>Nanyumbu</td>\n",
              "      <td>Nanyumbu</td>\n",
              "      <td>58</td>\n",
              "      <td>True</td>\n",
              "      <td>GeoData Consultants Ltd</td>\n",
              "      <td>VWC</td>\n",
              "      <td>NaN</td>\n",
              "      <td>True</td>\n",
              "      <td>1986</td>\n",
              "      <td>submersible</td>\n",
              "      <td>submersible</td>\n",
              "      <td>submersible</td>\n",
              "      <td>vwc</td>\n",
              "      <td>user-group</td>\n",
              "      <td>never pay</td>\n",
              "      <td>never pay</td>\n",
              "      <td>soft</td>\n",
              "      <td>good</td>\n",
              "      <td>dry</td>\n",
              "      <td>dry</td>\n",
              "      <td>machine dbh</td>\n",
              "      <td>borehole</td>\n",
              "      <td>groundwater</td>\n",
              "      <td>communal standpipe multiple</td>\n",
              "      <td>communal standpipe</td>\n",
              "      <td>non functional</td>\n",
              "    </tr>\n",
              "    <tr>\n",
              "      <th>19728</th>\n",
              "      <td>0.0</td>\n",
              "      <td>2011-07-13</td>\n",
              "      <td>Action In A</td>\n",
              "      <td>0</td>\n",
              "      <td>Artisan</td>\n",
              "      <td>31.130847</td>\n",
              "      <td>-1.825359</td>\n",
              "      <td>Shuleni</td>\n",
              "      <td>0</td>\n",
              "      <td>Lake Victoria</td>\n",
              "      <td>Kyanyamisa</td>\n",
              "      <td>Kagera</td>\n",
              "      <td>18</td>\n",
              "      <td>1</td>\n",
              "      <td>Karagwe</td>\n",
              "      <td>Nyakasimbi</td>\n",
              "      <td>0</td>\n",
              "      <td>True</td>\n",
              "      <td>GeoData Consultants Ltd</td>\n",
              "      <td>NaN</td>\n",
              "      <td>NaN</td>\n",
              "      <td>True</td>\n",
              "      <td>0</td>\n",
              "      <td>gravity</td>\n",
              "      <td>gravity</td>\n",
              "      <td>gravity</td>\n",
              "      <td>other</td>\n",
              "      <td>other</td>\n",
              "      <td>never pay</td>\n",
              "      <td>never pay</td>\n",
              "      <td>soft</td>\n",
              "      <td>good</td>\n",
              "      <td>seasonal</td>\n",
              "      <td>seasonal</td>\n",
              "      <td>rainwater harvesting</td>\n",
              "      <td>rainwater harvesting</td>\n",
              "      <td>surface</td>\n",
              "      <td>communal standpipe</td>\n",
              "      <td>communal standpipe</td>\n",
              "      <td>functional</td>\n",
              "    </tr>\n",
              "    <tr>\n",
              "      <th>...</th>\n",
              "      <td>...</td>\n",
              "      <td>...</td>\n",
              "      <td>...</td>\n",
              "      <td>...</td>\n",
              "      <td>...</td>\n",
              "      <td>...</td>\n",
              "      <td>...</td>\n",
              "      <td>...</td>\n",
              "      <td>...</td>\n",
              "      <td>...</td>\n",
              "      <td>...</td>\n",
              "      <td>...</td>\n",
              "      <td>...</td>\n",
              "      <td>...</td>\n",
              "      <td>...</td>\n",
              "      <td>...</td>\n",
              "      <td>...</td>\n",
              "      <td>...</td>\n",
              "      <td>...</td>\n",
              "      <td>...</td>\n",
              "      <td>...</td>\n",
              "      <td>...</td>\n",
              "      <td>...</td>\n",
              "      <td>...</td>\n",
              "      <td>...</td>\n",
              "      <td>...</td>\n",
              "      <td>...</td>\n",
              "      <td>...</td>\n",
              "      <td>...</td>\n",
              "      <td>...</td>\n",
              "      <td>...</td>\n",
              "      <td>...</td>\n",
              "      <td>...</td>\n",
              "      <td>...</td>\n",
              "      <td>...</td>\n",
              "      <td>...</td>\n",
              "      <td>...</td>\n",
              "      <td>...</td>\n",
              "      <td>...</td>\n",
              "      <td>...</td>\n",
              "    </tr>\n",
              "    <tr>\n",
              "      <th>60739</th>\n",
              "      <td>10.0</td>\n",
              "      <td>2013-05-03</td>\n",
              "      <td>Germany Republi</td>\n",
              "      <td>1210</td>\n",
              "      <td>CES</td>\n",
              "      <td>37.169807</td>\n",
              "      <td>-3.253847</td>\n",
              "      <td>Area Three Namba 27</td>\n",
              "      <td>0</td>\n",
              "      <td>Pangani</td>\n",
              "      <td>Kiduruni</td>\n",
              "      <td>Kilimanjaro</td>\n",
              "      <td>3</td>\n",
              "      <td>5</td>\n",
              "      <td>Hai</td>\n",
              "      <td>Masama Magharibi</td>\n",
              "      <td>125</td>\n",
              "      <td>True</td>\n",
              "      <td>GeoData Consultants Ltd</td>\n",
              "      <td>Water Board</td>\n",
              "      <td>Losaa Kia water supply</td>\n",
              "      <td>True</td>\n",
              "      <td>1999</td>\n",
              "      <td>gravity</td>\n",
              "      <td>gravity</td>\n",
              "      <td>gravity</td>\n",
              "      <td>water board</td>\n",
              "      <td>user-group</td>\n",
              "      <td>pay per bucket</td>\n",
              "      <td>per bucket</td>\n",
              "      <td>soft</td>\n",
              "      <td>good</td>\n",
              "      <td>enough</td>\n",
              "      <td>enough</td>\n",
              "      <td>spring</td>\n",
              "      <td>spring</td>\n",
              "      <td>groundwater</td>\n",
              "      <td>communal standpipe</td>\n",
              "      <td>communal standpipe</td>\n",
              "      <td>functional</td>\n",
              "    </tr>\n",
              "    <tr>\n",
              "      <th>27263</th>\n",
              "      <td>4700.0</td>\n",
              "      <td>2011-05-07</td>\n",
              "      <td>Cefa-njombe</td>\n",
              "      <td>1212</td>\n",
              "      <td>Cefa</td>\n",
              "      <td>35.249991</td>\n",
              "      <td>-9.070629</td>\n",
              "      <td>Kwa Yahona Kuvala</td>\n",
              "      <td>0</td>\n",
              "      <td>Rufiji</td>\n",
              "      <td>Igumbilo</td>\n",
              "      <td>Iringa</td>\n",
              "      <td>11</td>\n",
              "      <td>4</td>\n",
              "      <td>Njombe</td>\n",
              "      <td>Ikondo</td>\n",
              "      <td>56</td>\n",
              "      <td>True</td>\n",
              "      <td>GeoData Consultants Ltd</td>\n",
              "      <td>VWC</td>\n",
              "      <td>Ikondo electrical water sch</td>\n",
              "      <td>True</td>\n",
              "      <td>1996</td>\n",
              "      <td>gravity</td>\n",
              "      <td>gravity</td>\n",
              "      <td>gravity</td>\n",
              "      <td>vwc</td>\n",
              "      <td>user-group</td>\n",
              "      <td>pay annually</td>\n",
              "      <td>annually</td>\n",
              "      <td>soft</td>\n",
              "      <td>good</td>\n",
              "      <td>enough</td>\n",
              "      <td>enough</td>\n",
              "      <td>river</td>\n",
              "      <td>river/lake</td>\n",
              "      <td>surface</td>\n",
              "      <td>communal standpipe</td>\n",
              "      <td>communal standpipe</td>\n",
              "      <td>functional</td>\n",
              "    </tr>\n",
              "    <tr>\n",
              "      <th>37057</th>\n",
              "      <td>0.0</td>\n",
              "      <td>2011-04-11</td>\n",
              "      <td>NaN</td>\n",
              "      <td>0</td>\n",
              "      <td>NaN</td>\n",
              "      <td>34.017087</td>\n",
              "      <td>-8.750434</td>\n",
              "      <td>Mashine</td>\n",
              "      <td>0</td>\n",
              "      <td>Rufiji</td>\n",
              "      <td>Madungulu</td>\n",
              "      <td>Mbeya</td>\n",
              "      <td>12</td>\n",
              "      <td>7</td>\n",
              "      <td>Mbarali</td>\n",
              "      <td>Chimala</td>\n",
              "      <td>0</td>\n",
              "      <td>True</td>\n",
              "      <td>GeoData Consultants Ltd</td>\n",
              "      <td>VWC</td>\n",
              "      <td>NaN</td>\n",
              "      <td>False</td>\n",
              "      <td>0</td>\n",
              "      <td>swn 80</td>\n",
              "      <td>swn 80</td>\n",
              "      <td>handpump</td>\n",
              "      <td>vwc</td>\n",
              "      <td>user-group</td>\n",
              "      <td>pay monthly</td>\n",
              "      <td>monthly</td>\n",
              "      <td>fluoride</td>\n",
              "      <td>fluoride</td>\n",
              "      <td>enough</td>\n",
              "      <td>enough</td>\n",
              "      <td>machine dbh</td>\n",
              "      <td>borehole</td>\n",
              "      <td>groundwater</td>\n",
              "      <td>hand pump</td>\n",
              "      <td>hand pump</td>\n",
              "      <td>functional</td>\n",
              "    </tr>\n",
              "    <tr>\n",
              "      <th>31282</th>\n",
              "      <td>0.0</td>\n",
              "      <td>2011-03-08</td>\n",
              "      <td>Malec</td>\n",
              "      <td>0</td>\n",
              "      <td>Musa</td>\n",
              "      <td>35.861315</td>\n",
              "      <td>-6.378573</td>\n",
              "      <td>Mshoro</td>\n",
              "      <td>0</td>\n",
              "      <td>Rufiji</td>\n",
              "      <td>Mwinyi</td>\n",
              "      <td>Dodoma</td>\n",
              "      <td>1</td>\n",
              "      <td>4</td>\n",
              "      <td>Chamwino</td>\n",
              "      <td>Mvumi Makulu</td>\n",
              "      <td>0</td>\n",
              "      <td>True</td>\n",
              "      <td>GeoData Consultants Ltd</td>\n",
              "      <td>VWC</td>\n",
              "      <td>NaN</td>\n",
              "      <td>True</td>\n",
              "      <td>0</td>\n",
              "      <td>nira/tanira</td>\n",
              "      <td>nira/tanira</td>\n",
              "      <td>handpump</td>\n",
              "      <td>vwc</td>\n",
              "      <td>user-group</td>\n",
              "      <td>never pay</td>\n",
              "      <td>never pay</td>\n",
              "      <td>soft</td>\n",
              "      <td>good</td>\n",
              "      <td>insufficient</td>\n",
              "      <td>insufficient</td>\n",
              "      <td>shallow well</td>\n",
              "      <td>shallow well</td>\n",
              "      <td>groundwater</td>\n",
              "      <td>hand pump</td>\n",
              "      <td>hand pump</td>\n",
              "      <td>functional</td>\n",
              "    </tr>\n",
              "    <tr>\n",
              "      <th>26348</th>\n",
              "      <td>0.0</td>\n",
              "      <td>2011-03-23</td>\n",
              "      <td>World Bank</td>\n",
              "      <td>191</td>\n",
              "      <td>World</td>\n",
              "      <td>38.104048</td>\n",
              "      <td>-6.747464</td>\n",
              "      <td>Kwa Mzee Lugawa</td>\n",
              "      <td>0</td>\n",
              "      <td>Wami / Ruvu</td>\n",
              "      <td>Kikatanyemba</td>\n",
              "      <td>Morogoro</td>\n",
              "      <td>5</td>\n",
              "      <td>2</td>\n",
              "      <td>Morogoro Rural</td>\n",
              "      <td>Ngerengere</td>\n",
              "      <td>150</td>\n",
              "      <td>True</td>\n",
              "      <td>GeoData Consultants Ltd</td>\n",
              "      <td>VWC</td>\n",
              "      <td>NaN</td>\n",
              "      <td>True</td>\n",
              "      <td>2002</td>\n",
              "      <td>nira/tanira</td>\n",
              "      <td>nira/tanira</td>\n",
              "      <td>handpump</td>\n",
              "      <td>vwc</td>\n",
              "      <td>user-group</td>\n",
              "      <td>pay when scheme fails</td>\n",
              "      <td>on failure</td>\n",
              "      <td>salty</td>\n",
              "      <td>salty</td>\n",
              "      <td>enough</td>\n",
              "      <td>enough</td>\n",
              "      <td>shallow well</td>\n",
              "      <td>shallow well</td>\n",
              "      <td>groundwater</td>\n",
              "      <td>hand pump</td>\n",
              "      <td>hand pump</td>\n",
              "      <td>functional</td>\n",
              "    </tr>\n",
              "  </tbody>\n",
              "</table>\n",
              "<p>59400 rows × 40 columns</p>\n",
              "</div>"
            ],
            "text/plain": [
              "       amount_tsh date_recorded           funder  gps_height     installer  \\\n",
              "id                                                                           \n",
              "69572      6000.0    2011-03-14            Roman        1390         Roman   \n",
              "8776          0.0    2013-03-06          Grumeti        1399       GRUMETI   \n",
              "34310        25.0    2013-02-25     Lottery Club         686  World vision   \n",
              "67743         0.0    2013-01-28           Unicef         263        UNICEF   \n",
              "19728         0.0    2011-07-13      Action In A           0       Artisan   \n",
              "...           ...           ...              ...         ...           ...   \n",
              "60739        10.0    2013-05-03  Germany Republi        1210           CES   \n",
              "27263      4700.0    2011-05-07      Cefa-njombe        1212          Cefa   \n",
              "37057         0.0    2011-04-11              NaN           0           NaN   \n",
              "31282         0.0    2011-03-08            Malec           0          Musa   \n",
              "26348         0.0    2011-03-23       World Bank         191         World   \n",
              "\n",
              "       longitude   latitude              wpt_name  num_private  \\\n",
              "id                                                               \n",
              "69572  34.938093  -9.856322                  none            0   \n",
              "8776   34.698766  -2.147466              Zahanati            0   \n",
              "34310  37.460664  -3.821329           Kwa Mahundi            0   \n",
              "67743  38.486161 -11.155298  Zahanati Ya Nanyumbu            0   \n",
              "19728  31.130847  -1.825359               Shuleni            0   \n",
              "...          ...        ...                   ...          ...   \n",
              "60739  37.169807  -3.253847   Area Three Namba 27            0   \n",
              "27263  35.249991  -9.070629     Kwa Yahona Kuvala            0   \n",
              "37057  34.017087  -8.750434               Mashine            0   \n",
              "31282  35.861315  -6.378573                Mshoro            0   \n",
              "26348  38.104048  -6.747464       Kwa Mzee Lugawa            0   \n",
              "\n",
              "                         basin    subvillage       region  region_code  \\\n",
              "id                                                                       \n",
              "69572               Lake Nyasa      Mnyusi B       Iringa           11   \n",
              "8776             Lake Victoria       Nyamara         Mara           20   \n",
              "34310                  Pangani       Majengo      Manyara           21   \n",
              "67743  Ruvuma / Southern Coast    Mahakamani       Mtwara           90   \n",
              "19728            Lake Victoria    Kyanyamisa       Kagera           18   \n",
              "...                        ...           ...          ...          ...   \n",
              "60739                  Pangani      Kiduruni  Kilimanjaro            3   \n",
              "27263                   Rufiji      Igumbilo       Iringa           11   \n",
              "37057                   Rufiji     Madungulu        Mbeya           12   \n",
              "31282                   Rufiji        Mwinyi       Dodoma            1   \n",
              "26348              Wami / Ruvu  Kikatanyemba     Morogoro            5   \n",
              "\n",
              "       district_code             lga              ward  population  \\\n",
              "id                                                                   \n",
              "69572              5          Ludewa          Mundindi         109   \n",
              "8776               2       Serengeti             Natta         280   \n",
              "34310              4       Simanjiro           Ngorika         250   \n",
              "67743             63        Nanyumbu          Nanyumbu          58   \n",
              "19728              1         Karagwe        Nyakasimbi           0   \n",
              "...              ...             ...               ...         ...   \n",
              "60739              5             Hai  Masama Magharibi         125   \n",
              "27263              4          Njombe            Ikondo          56   \n",
              "37057              7         Mbarali           Chimala           0   \n",
              "31282              4        Chamwino      Mvumi Makulu           0   \n",
              "26348              2  Morogoro Rural        Ngerengere         150   \n",
              "\n",
              "      public_meeting              recorded_by scheme_management  \\\n",
              "id                                                                \n",
              "69572           True  GeoData Consultants Ltd               VWC   \n",
              "8776             NaN  GeoData Consultants Ltd             Other   \n",
              "34310           True  GeoData Consultants Ltd               VWC   \n",
              "67743           True  GeoData Consultants Ltd               VWC   \n",
              "19728           True  GeoData Consultants Ltd               NaN   \n",
              "...              ...                      ...               ...   \n",
              "60739           True  GeoData Consultants Ltd       Water Board   \n",
              "27263           True  GeoData Consultants Ltd               VWC   \n",
              "37057           True  GeoData Consultants Ltd               VWC   \n",
              "31282           True  GeoData Consultants Ltd               VWC   \n",
              "26348           True  GeoData Consultants Ltd               VWC   \n",
              "\n",
              "                       scheme_name permit  construction_year extraction_type  \\\n",
              "id                                                                             \n",
              "69572                        Roman  False               1999         gravity   \n",
              "8776                           NaN   True               2010         gravity   \n",
              "34310  Nyumba ya mungu pipe scheme   True               2009         gravity   \n",
              "67743                          NaN   True               1986     submersible   \n",
              "19728                          NaN   True                  0         gravity   \n",
              "...                            ...    ...                ...             ...   \n",
              "60739       Losaa Kia water supply   True               1999         gravity   \n",
              "27263  Ikondo electrical water sch   True               1996         gravity   \n",
              "37057                          NaN  False                  0          swn 80   \n",
              "31282                          NaN   True                  0     nira/tanira   \n",
              "26348                          NaN   True               2002     nira/tanira   \n",
              "\n",
              "      extraction_type_group extraction_type_class   management  \\\n",
              "id                                                               \n",
              "69572               gravity               gravity          vwc   \n",
              "8776                gravity               gravity          wug   \n",
              "34310               gravity               gravity          vwc   \n",
              "67743           submersible           submersible          vwc   \n",
              "19728               gravity               gravity        other   \n",
              "...                     ...                   ...          ...   \n",
              "60739               gravity               gravity  water board   \n",
              "27263               gravity               gravity          vwc   \n",
              "37057                swn 80              handpump          vwc   \n",
              "31282           nira/tanira              handpump          vwc   \n",
              "26348           nira/tanira              handpump          vwc   \n",
              "\n",
              "      management_group                payment payment_type water_quality  \\\n",
              "id                                                                         \n",
              "69572       user-group           pay annually     annually          soft   \n",
              "8776        user-group              never pay    never pay          soft   \n",
              "34310       user-group         pay per bucket   per bucket          soft   \n",
              "67743       user-group              never pay    never pay          soft   \n",
              "19728            other              never pay    never pay          soft   \n",
              "...                ...                    ...          ...           ...   \n",
              "60739       user-group         pay per bucket   per bucket          soft   \n",
              "27263       user-group           pay annually     annually          soft   \n",
              "37057       user-group            pay monthly      monthly      fluoride   \n",
              "31282       user-group              never pay    never pay          soft   \n",
              "26348       user-group  pay when scheme fails   on failure         salty   \n",
              "\n",
              "      quality_group      quantity quantity_group                source  \\\n",
              "id                                                                       \n",
              "69572          good        enough         enough                spring   \n",
              "8776           good  insufficient   insufficient  rainwater harvesting   \n",
              "34310          good        enough         enough                   dam   \n",
              "67743          good           dry            dry           machine dbh   \n",
              "19728          good      seasonal       seasonal  rainwater harvesting   \n",
              "...             ...           ...            ...                   ...   \n",
              "60739          good        enough         enough                spring   \n",
              "27263          good        enough         enough                 river   \n",
              "37057      fluoride        enough         enough           machine dbh   \n",
              "31282          good  insufficient   insufficient          shallow well   \n",
              "26348         salty        enough         enough          shallow well   \n",
              "\n",
              "                source_type source_class              waterpoint_type  \\\n",
              "id                                                                      \n",
              "69572                spring  groundwater           communal standpipe   \n",
              "8776   rainwater harvesting      surface           communal standpipe   \n",
              "34310                   dam      surface  communal standpipe multiple   \n",
              "67743              borehole  groundwater  communal standpipe multiple   \n",
              "19728  rainwater harvesting      surface           communal standpipe   \n",
              "...                     ...          ...                          ...   \n",
              "60739                spring  groundwater           communal standpipe   \n",
              "27263            river/lake      surface           communal standpipe   \n",
              "37057              borehole  groundwater                    hand pump   \n",
              "31282          shallow well  groundwater                    hand pump   \n",
              "26348          shallow well  groundwater                    hand pump   \n",
              "\n",
              "      waterpoint_type_group    status_group  \n",
              "id                                           \n",
              "69572    communal standpipe      functional  \n",
              "8776     communal standpipe      functional  \n",
              "34310    communal standpipe      functional  \n",
              "67743    communal standpipe  non functional  \n",
              "19728    communal standpipe      functional  \n",
              "...                     ...             ...  \n",
              "60739    communal standpipe      functional  \n",
              "27263    communal standpipe      functional  \n",
              "37057             hand pump      functional  \n",
              "31282             hand pump      functional  \n",
              "26348             hand pump      functional  \n",
              "\n",
              "[59400 rows x 40 columns]"
            ]
          },
          "execution_count": 8,
          "metadata": {},
          "output_type": "execute_result"
        }
      ],
      "source": [
        "df.set_index('id',inplace=True)\n",
        "df"
      ]
    },
    {
      "cell_type": "markdown",
      "id": "c76640b4",
      "metadata": {
        "id": "c76640b4"
      },
      "source": [
        "Vemos el balance de la variable objetivo:"
      ]
    },
    {
      "cell_type": "code",
      "execution_count": null,
      "id": "4f12b574",
      "metadata": {
        "id": "4f12b574",
        "outputId": "21ce7733-782c-43b8-e7c5-f3dcfe65f293"
      },
      "outputs": [
        {
          "data": {
            "text/plain": [
              "functional                 32259\n",
              "non functional             22824\n",
              "functional needs repair     4317\n",
              "Name: status_group, dtype: int64"
            ]
          },
          "execution_count": 9,
          "metadata": {},
          "output_type": "execute_result"
        }
      ],
      "source": [
        "df['status_group'].value_counts()"
      ]
    },
    {
      "cell_type": "markdown",
      "id": "db24c26d",
      "metadata": {
        "id": "db24c26d"
      },
      "source": [
        "Vemos la forma del dataframe:"
      ]
    },
    {
      "cell_type": "code",
      "execution_count": null,
      "id": "239cacf8",
      "metadata": {
        "id": "239cacf8",
        "outputId": "ebecbffb-7314-439e-fb30-3eb0ddb3f34d"
      },
      "outputs": [
        {
          "data": {
            "text/plain": [
              "(59400, 40)"
            ]
          },
          "execution_count": 10,
          "metadata": {},
          "output_type": "execute_result"
        }
      ],
      "source": [
        "df.shape"
      ]
    },
    {
      "cell_type": "markdown",
      "id": "6c766e7d",
      "metadata": {
        "id": "6c766e7d"
      },
      "source": [
        "Para ver el tipo de cada columna, y de paso los valores nulos utilizamos .info:"
      ]
    },
    {
      "cell_type": "code",
      "execution_count": null,
      "id": "f5a545aa",
      "metadata": {
        "id": "f5a545aa",
        "outputId": "947e831b-053a-4387-803e-98392b24ba6b"
      },
      "outputs": [
        {
          "name": "stdout",
          "output_type": "stream",
          "text": [
            "<class 'pandas.core.frame.DataFrame'>\n",
            "Int64Index: 59400 entries, 69572 to 26348\n",
            "Data columns (total 40 columns):\n",
            " #   Column                 Non-Null Count  Dtype  \n",
            "---  ------                 --------------  -----  \n",
            " 0   amount_tsh             59400 non-null  float64\n",
            " 1   date_recorded          59400 non-null  object \n",
            " 2   funder                 55765 non-null  object \n",
            " 3   gps_height             59400 non-null  int64  \n",
            " 4   installer              55745 non-null  object \n",
            " 5   longitude              59400 non-null  float64\n",
            " 6   latitude               59400 non-null  float64\n",
            " 7   wpt_name               59400 non-null  object \n",
            " 8   num_private            59400 non-null  int64  \n",
            " 9   basin                  59400 non-null  object \n",
            " 10  subvillage             59029 non-null  object \n",
            " 11  region                 59400 non-null  object \n",
            " 12  region_code            59400 non-null  int64  \n",
            " 13  district_code          59400 non-null  int64  \n",
            " 14  lga                    59400 non-null  object \n",
            " 15  ward                   59400 non-null  object \n",
            " 16  population             59400 non-null  int64  \n",
            " 17  public_meeting         56066 non-null  object \n",
            " 18  recorded_by            59400 non-null  object \n",
            " 19  scheme_management      55523 non-null  object \n",
            " 20  scheme_name            31234 non-null  object \n",
            " 21  permit                 56344 non-null  object \n",
            " 22  construction_year      59400 non-null  int64  \n",
            " 23  extraction_type        59400 non-null  object \n",
            " 24  extraction_type_group  59400 non-null  object \n",
            " 25  extraction_type_class  59400 non-null  object \n",
            " 26  management             59400 non-null  object \n",
            " 27  management_group       59400 non-null  object \n",
            " 28  payment                59400 non-null  object \n",
            " 29  payment_type           59400 non-null  object \n",
            " 30  water_quality          59400 non-null  object \n",
            " 31  quality_group          59400 non-null  object \n",
            " 32  quantity               59400 non-null  object \n",
            " 33  quantity_group         59400 non-null  object \n",
            " 34  source                 59400 non-null  object \n",
            " 35  source_type            59400 non-null  object \n",
            " 36  source_class           59400 non-null  object \n",
            " 37  waterpoint_type        59400 non-null  object \n",
            " 38  waterpoint_type_group  59400 non-null  object \n",
            " 39  status_group           59400 non-null  object \n",
            "dtypes: float64(3), int64(6), object(31)\n",
            "memory usage: 18.6+ MB\n"
          ]
        }
      ],
      "source": [
        "df.info()"
      ]
    },
    {
      "cell_type": "markdown",
      "id": "a9216634",
      "metadata": {
        "id": "a9216634"
      },
      "source": [
        "Ahora examinamos los valores nulos con mayor exhaustividad y limpieza:"
      ]
    },
    {
      "cell_type": "code",
      "execution_count": null,
      "id": "61daf6b4",
      "metadata": {
        "id": "61daf6b4",
        "outputId": "315ba786-c93c-489f-a87d-d5b613071375"
      },
      "outputs": [
        {
          "data": {
            "text/plain": [
              "amount_tsh                   0\n",
              "date_recorded                0\n",
              "funder                    3635\n",
              "gps_height                   0\n",
              "installer                 3655\n",
              "longitude                    0\n",
              "latitude                     0\n",
              "wpt_name                     0\n",
              "num_private                  0\n",
              "basin                        0\n",
              "subvillage                 371\n",
              "region                       0\n",
              "region_code                  0\n",
              "district_code                0\n",
              "lga                          0\n",
              "ward                         0\n",
              "population                   0\n",
              "public_meeting            3334\n",
              "recorded_by                  0\n",
              "scheme_management         3877\n",
              "scheme_name              28166\n",
              "permit                    3056\n",
              "construction_year            0\n",
              "extraction_type              0\n",
              "extraction_type_group        0\n",
              "extraction_type_class        0\n",
              "management                   0\n",
              "management_group             0\n",
              "payment                      0\n",
              "payment_type                 0\n",
              "water_quality                0\n",
              "quality_group                0\n",
              "quantity                     0\n",
              "quantity_group               0\n",
              "source                       0\n",
              "source_type                  0\n",
              "source_class                 0\n",
              "waterpoint_type              0\n",
              "waterpoint_type_group        0\n",
              "status_group                 0\n",
              "dtype: int64"
            ]
          },
          "execution_count": 12,
          "metadata": {},
          "output_type": "execute_result"
        }
      ],
      "source": [
        "df.isna().sum()"
      ]
    },
    {
      "cell_type": "markdown",
      "id": "7d8619b9",
      "metadata": {
        "id": "7d8619b9"
      },
      "source": [
        "Examinamos los valores únicos:"
      ]
    },
    {
      "cell_type": "code",
      "execution_count": null,
      "id": "a9dcdf7b",
      "metadata": {
        "id": "a9dcdf7b",
        "outputId": "eba6aac6-ea56-49d4-cfa3-2a1be5ccb334"
      },
      "outputs": [
        {
          "data": {
            "text/plain": [
              "amount_tsh                  98\n",
              "date_recorded              356\n",
              "funder                    1897\n",
              "gps_height                2428\n",
              "installer                 2145\n",
              "longitude                57516\n",
              "latitude                 57517\n",
              "wpt_name                 37400\n",
              "num_private                 65\n",
              "basin                        9\n",
              "subvillage               19287\n",
              "region                      21\n",
              "region_code                 27\n",
              "district_code               20\n",
              "lga                        125\n",
              "ward                      2092\n",
              "population                1049\n",
              "public_meeting               2\n",
              "recorded_by                  1\n",
              "scheme_management           12\n",
              "scheme_name               2696\n",
              "permit                       2\n",
              "construction_year           55\n",
              "extraction_type             18\n",
              "extraction_type_group       13\n",
              "extraction_type_class        7\n",
              "management                  12\n",
              "management_group             5\n",
              "payment                      7\n",
              "payment_type                 7\n",
              "water_quality                8\n",
              "quality_group                6\n",
              "quantity                     5\n",
              "quantity_group               5\n",
              "source                      10\n",
              "source_type                  7\n",
              "source_class                 3\n",
              "waterpoint_type              7\n",
              "waterpoint_type_group        6\n",
              "status_group                 3\n",
              "dtype: int64"
            ]
          },
          "execution_count": 13,
          "metadata": {},
          "output_type": "execute_result"
        }
      ],
      "source": [
        "df.nunique()"
      ]
    },
    {
      "cell_type": "markdown",
      "id": "b75dec1b",
      "metadata": {
        "id": "b75dec1b"
      },
      "source": [
        "Ahora vemos la información de las columnas numéricas y no numéricas:"
      ]
    },
    {
      "cell_type": "code",
      "execution_count": null,
      "id": "a86f9c1f",
      "metadata": {
        "id": "a86f9c1f",
        "outputId": "5c46ecee-89cf-4006-94ed-2759465407da"
      },
      "outputs": [
        {
          "data": {
            "text/html": [
              "<div>\n",
              "<style scoped>\n",
              "    .dataframe tbody tr th:only-of-type {\n",
              "        vertical-align: middle;\n",
              "    }\n",
              "\n",
              "    .dataframe tbody tr th {\n",
              "        vertical-align: top;\n",
              "    }\n",
              "\n",
              "    .dataframe thead th {\n",
              "        text-align: right;\n",
              "    }\n",
              "</style>\n",
              "<table border=\"1\" class=\"dataframe\">\n",
              "  <thead>\n",
              "    <tr style=\"text-align: right;\">\n",
              "      <th></th>\n",
              "      <th>amount_tsh</th>\n",
              "      <th>gps_height</th>\n",
              "      <th>longitude</th>\n",
              "      <th>latitude</th>\n",
              "      <th>num_private</th>\n",
              "      <th>region_code</th>\n",
              "      <th>district_code</th>\n",
              "      <th>population</th>\n",
              "      <th>construction_year</th>\n",
              "    </tr>\n",
              "  </thead>\n",
              "  <tbody>\n",
              "    <tr>\n",
              "      <th>count</th>\n",
              "      <td>59400.000000</td>\n",
              "      <td>59400.000000</td>\n",
              "      <td>59400.000000</td>\n",
              "      <td>5.940000e+04</td>\n",
              "      <td>59400.000000</td>\n",
              "      <td>59400.000000</td>\n",
              "      <td>59400.000000</td>\n",
              "      <td>59400.000000</td>\n",
              "      <td>59400.000000</td>\n",
              "    </tr>\n",
              "    <tr>\n",
              "      <th>mean</th>\n",
              "      <td>317.650385</td>\n",
              "      <td>668.297239</td>\n",
              "      <td>34.077427</td>\n",
              "      <td>-5.706033e+00</td>\n",
              "      <td>0.474141</td>\n",
              "      <td>15.297003</td>\n",
              "      <td>5.629747</td>\n",
              "      <td>179.909983</td>\n",
              "      <td>1300.652475</td>\n",
              "    </tr>\n",
              "    <tr>\n",
              "      <th>std</th>\n",
              "      <td>2997.574558</td>\n",
              "      <td>693.116350</td>\n",
              "      <td>6.567432</td>\n",
              "      <td>2.946019e+00</td>\n",
              "      <td>12.236230</td>\n",
              "      <td>17.587406</td>\n",
              "      <td>9.633649</td>\n",
              "      <td>471.482176</td>\n",
              "      <td>951.620547</td>\n",
              "    </tr>\n",
              "    <tr>\n",
              "      <th>min</th>\n",
              "      <td>0.000000</td>\n",
              "      <td>-90.000000</td>\n",
              "      <td>0.000000</td>\n",
              "      <td>-1.164944e+01</td>\n",
              "      <td>0.000000</td>\n",
              "      <td>1.000000</td>\n",
              "      <td>0.000000</td>\n",
              "      <td>0.000000</td>\n",
              "      <td>0.000000</td>\n",
              "    </tr>\n",
              "    <tr>\n",
              "      <th>25%</th>\n",
              "      <td>0.000000</td>\n",
              "      <td>0.000000</td>\n",
              "      <td>33.090347</td>\n",
              "      <td>-8.540621e+00</td>\n",
              "      <td>0.000000</td>\n",
              "      <td>5.000000</td>\n",
              "      <td>2.000000</td>\n",
              "      <td>0.000000</td>\n",
              "      <td>0.000000</td>\n",
              "    </tr>\n",
              "    <tr>\n",
              "      <th>50%</th>\n",
              "      <td>0.000000</td>\n",
              "      <td>369.000000</td>\n",
              "      <td>34.908743</td>\n",
              "      <td>-5.021597e+00</td>\n",
              "      <td>0.000000</td>\n",
              "      <td>12.000000</td>\n",
              "      <td>3.000000</td>\n",
              "      <td>25.000000</td>\n",
              "      <td>1986.000000</td>\n",
              "    </tr>\n",
              "    <tr>\n",
              "      <th>75%</th>\n",
              "      <td>20.000000</td>\n",
              "      <td>1319.250000</td>\n",
              "      <td>37.178387</td>\n",
              "      <td>-3.326156e+00</td>\n",
              "      <td>0.000000</td>\n",
              "      <td>17.000000</td>\n",
              "      <td>5.000000</td>\n",
              "      <td>215.000000</td>\n",
              "      <td>2004.000000</td>\n",
              "    </tr>\n",
              "    <tr>\n",
              "      <th>max</th>\n",
              "      <td>350000.000000</td>\n",
              "      <td>2770.000000</td>\n",
              "      <td>40.345193</td>\n",
              "      <td>-2.000000e-08</td>\n",
              "      <td>1776.000000</td>\n",
              "      <td>99.000000</td>\n",
              "      <td>80.000000</td>\n",
              "      <td>30500.000000</td>\n",
              "      <td>2013.000000</td>\n",
              "    </tr>\n",
              "  </tbody>\n",
              "</table>\n",
              "</div>"
            ],
            "text/plain": [
              "          amount_tsh    gps_height     longitude      latitude   num_private  \\\n",
              "count   59400.000000  59400.000000  59400.000000  5.940000e+04  59400.000000   \n",
              "mean      317.650385    668.297239     34.077427 -5.706033e+00      0.474141   \n",
              "std      2997.574558    693.116350      6.567432  2.946019e+00     12.236230   \n",
              "min         0.000000    -90.000000      0.000000 -1.164944e+01      0.000000   \n",
              "25%         0.000000      0.000000     33.090347 -8.540621e+00      0.000000   \n",
              "50%         0.000000    369.000000     34.908743 -5.021597e+00      0.000000   \n",
              "75%        20.000000   1319.250000     37.178387 -3.326156e+00      0.000000   \n",
              "max    350000.000000   2770.000000     40.345193 -2.000000e-08   1776.000000   \n",
              "\n",
              "        region_code  district_code    population  construction_year  \n",
              "count  59400.000000   59400.000000  59400.000000       59400.000000  \n",
              "mean      15.297003       5.629747    179.909983        1300.652475  \n",
              "std       17.587406       9.633649    471.482176         951.620547  \n",
              "min        1.000000       0.000000      0.000000           0.000000  \n",
              "25%        5.000000       2.000000      0.000000           0.000000  \n",
              "50%       12.000000       3.000000     25.000000        1986.000000  \n",
              "75%       17.000000       5.000000    215.000000        2004.000000  \n",
              "max       99.000000      80.000000  30500.000000        2013.000000  "
            ]
          },
          "execution_count": 14,
          "metadata": {},
          "output_type": "execute_result"
        }
      ],
      "source": [
        "df.describe()"
      ]
    },
    {
      "cell_type": "code",
      "execution_count": null,
      "id": "43ed2375",
      "metadata": {
        "scrolled": true,
        "id": "43ed2375",
        "outputId": "b1e5b91e-4136-401e-f4cb-6dad2ef2643c"
      },
      "outputs": [
        {
          "data": {
            "text/html": [
              "<div>\n",
              "<style scoped>\n",
              "    .dataframe tbody tr th:only-of-type {\n",
              "        vertical-align: middle;\n",
              "    }\n",
              "\n",
              "    .dataframe tbody tr th {\n",
              "        vertical-align: top;\n",
              "    }\n",
              "\n",
              "    .dataframe thead th {\n",
              "        text-align: right;\n",
              "    }\n",
              "</style>\n",
              "<table border=\"1\" class=\"dataframe\">\n",
              "  <thead>\n",
              "    <tr style=\"text-align: right;\">\n",
              "      <th></th>\n",
              "      <th>date_recorded</th>\n",
              "      <th>funder</th>\n",
              "      <th>installer</th>\n",
              "      <th>wpt_name</th>\n",
              "      <th>basin</th>\n",
              "      <th>subvillage</th>\n",
              "      <th>region</th>\n",
              "      <th>lga</th>\n",
              "      <th>ward</th>\n",
              "      <th>public_meeting</th>\n",
              "      <th>recorded_by</th>\n",
              "      <th>scheme_management</th>\n",
              "      <th>scheme_name</th>\n",
              "      <th>permit</th>\n",
              "      <th>extraction_type</th>\n",
              "      <th>extraction_type_group</th>\n",
              "      <th>extraction_type_class</th>\n",
              "      <th>management</th>\n",
              "      <th>management_group</th>\n",
              "      <th>payment</th>\n",
              "      <th>payment_type</th>\n",
              "      <th>water_quality</th>\n",
              "      <th>quality_group</th>\n",
              "      <th>quantity</th>\n",
              "      <th>quantity_group</th>\n",
              "      <th>source</th>\n",
              "      <th>source_type</th>\n",
              "      <th>source_class</th>\n",
              "      <th>waterpoint_type</th>\n",
              "      <th>waterpoint_type_group</th>\n",
              "      <th>status_group</th>\n",
              "    </tr>\n",
              "  </thead>\n",
              "  <tbody>\n",
              "    <tr>\n",
              "      <th>count</th>\n",
              "      <td>59400</td>\n",
              "      <td>55765</td>\n",
              "      <td>55745</td>\n",
              "      <td>59400</td>\n",
              "      <td>59400</td>\n",
              "      <td>59029</td>\n",
              "      <td>59400</td>\n",
              "      <td>59400</td>\n",
              "      <td>59400</td>\n",
              "      <td>56066</td>\n",
              "      <td>59400</td>\n",
              "      <td>55523</td>\n",
              "      <td>31234</td>\n",
              "      <td>56344</td>\n",
              "      <td>59400</td>\n",
              "      <td>59400</td>\n",
              "      <td>59400</td>\n",
              "      <td>59400</td>\n",
              "      <td>59400</td>\n",
              "      <td>59400</td>\n",
              "      <td>59400</td>\n",
              "      <td>59400</td>\n",
              "      <td>59400</td>\n",
              "      <td>59400</td>\n",
              "      <td>59400</td>\n",
              "      <td>59400</td>\n",
              "      <td>59400</td>\n",
              "      <td>59400</td>\n",
              "      <td>59400</td>\n",
              "      <td>59400</td>\n",
              "      <td>59400</td>\n",
              "    </tr>\n",
              "    <tr>\n",
              "      <th>unique</th>\n",
              "      <td>356</td>\n",
              "      <td>1897</td>\n",
              "      <td>2145</td>\n",
              "      <td>37400</td>\n",
              "      <td>9</td>\n",
              "      <td>19287</td>\n",
              "      <td>21</td>\n",
              "      <td>125</td>\n",
              "      <td>2092</td>\n",
              "      <td>2</td>\n",
              "      <td>1</td>\n",
              "      <td>12</td>\n",
              "      <td>2696</td>\n",
              "      <td>2</td>\n",
              "      <td>18</td>\n",
              "      <td>13</td>\n",
              "      <td>7</td>\n",
              "      <td>12</td>\n",
              "      <td>5</td>\n",
              "      <td>7</td>\n",
              "      <td>7</td>\n",
              "      <td>8</td>\n",
              "      <td>6</td>\n",
              "      <td>5</td>\n",
              "      <td>5</td>\n",
              "      <td>10</td>\n",
              "      <td>7</td>\n",
              "      <td>3</td>\n",
              "      <td>7</td>\n",
              "      <td>6</td>\n",
              "      <td>3</td>\n",
              "    </tr>\n",
              "    <tr>\n",
              "      <th>top</th>\n",
              "      <td>2011-03-15</td>\n",
              "      <td>Government Of Tanzania</td>\n",
              "      <td>DWE</td>\n",
              "      <td>none</td>\n",
              "      <td>Lake Victoria</td>\n",
              "      <td>Madukani</td>\n",
              "      <td>Iringa</td>\n",
              "      <td>Njombe</td>\n",
              "      <td>Igosi</td>\n",
              "      <td>True</td>\n",
              "      <td>GeoData Consultants Ltd</td>\n",
              "      <td>VWC</td>\n",
              "      <td>K</td>\n",
              "      <td>True</td>\n",
              "      <td>gravity</td>\n",
              "      <td>gravity</td>\n",
              "      <td>gravity</td>\n",
              "      <td>vwc</td>\n",
              "      <td>user-group</td>\n",
              "      <td>never pay</td>\n",
              "      <td>never pay</td>\n",
              "      <td>soft</td>\n",
              "      <td>good</td>\n",
              "      <td>enough</td>\n",
              "      <td>enough</td>\n",
              "      <td>spring</td>\n",
              "      <td>spring</td>\n",
              "      <td>groundwater</td>\n",
              "      <td>communal standpipe</td>\n",
              "      <td>communal standpipe</td>\n",
              "      <td>functional</td>\n",
              "    </tr>\n",
              "    <tr>\n",
              "      <th>freq</th>\n",
              "      <td>572</td>\n",
              "      <td>9084</td>\n",
              "      <td>17402</td>\n",
              "      <td>3563</td>\n",
              "      <td>10248</td>\n",
              "      <td>508</td>\n",
              "      <td>5294</td>\n",
              "      <td>2503</td>\n",
              "      <td>307</td>\n",
              "      <td>51011</td>\n",
              "      <td>59400</td>\n",
              "      <td>36793</td>\n",
              "      <td>682</td>\n",
              "      <td>38852</td>\n",
              "      <td>26780</td>\n",
              "      <td>26780</td>\n",
              "      <td>26780</td>\n",
              "      <td>40507</td>\n",
              "      <td>52490</td>\n",
              "      <td>25348</td>\n",
              "      <td>25348</td>\n",
              "      <td>50818</td>\n",
              "      <td>50818</td>\n",
              "      <td>33186</td>\n",
              "      <td>33186</td>\n",
              "      <td>17021</td>\n",
              "      <td>17021</td>\n",
              "      <td>45794</td>\n",
              "      <td>28522</td>\n",
              "      <td>34625</td>\n",
              "      <td>32259</td>\n",
              "    </tr>\n",
              "  </tbody>\n",
              "</table>\n",
              "</div>"
            ],
            "text/plain": [
              "       date_recorded                  funder installer wpt_name  \\\n",
              "count          59400                   55765     55745    59400   \n",
              "unique           356                    1897      2145    37400   \n",
              "top       2011-03-15  Government Of Tanzania       DWE     none   \n",
              "freq             572                    9084     17402     3563   \n",
              "\n",
              "                basin subvillage  region     lga   ward public_meeting  \\\n",
              "count           59400      59029   59400   59400  59400          56066   \n",
              "unique              9      19287      21     125   2092              2   \n",
              "top     Lake Victoria   Madukani  Iringa  Njombe  Igosi           True   \n",
              "freq            10248        508    5294    2503    307          51011   \n",
              "\n",
              "                    recorded_by scheme_management scheme_name permit  \\\n",
              "count                     59400             55523       31234  56344   \n",
              "unique                        1                12        2696      2   \n",
              "top     GeoData Consultants Ltd               VWC           K   True   \n",
              "freq                      59400             36793         682  38852   \n",
              "\n",
              "       extraction_type extraction_type_group extraction_type_class management  \\\n",
              "count            59400                 59400                 59400      59400   \n",
              "unique              18                    13                     7         12   \n",
              "top            gravity               gravity               gravity        vwc   \n",
              "freq             26780                 26780                 26780      40507   \n",
              "\n",
              "       management_group    payment payment_type water_quality quality_group  \\\n",
              "count             59400      59400        59400         59400         59400   \n",
              "unique                5          7            7             8             6   \n",
              "top          user-group  never pay    never pay          soft          good   \n",
              "freq              52490      25348        25348         50818         50818   \n",
              "\n",
              "       quantity quantity_group  source source_type source_class  \\\n",
              "count     59400          59400   59400       59400        59400   \n",
              "unique        5              5      10           7            3   \n",
              "top      enough         enough  spring      spring  groundwater   \n",
              "freq      33186          33186   17021       17021        45794   \n",
              "\n",
              "           waterpoint_type waterpoint_type_group status_group  \n",
              "count                59400                 59400        59400  \n",
              "unique                   7                     6            3  \n",
              "top     communal standpipe    communal standpipe   functional  \n",
              "freq                 28522                 34625        32259  "
            ]
          },
          "execution_count": 15,
          "metadata": {},
          "output_type": "execute_result"
        }
      ],
      "source": [
        "df.describe(exclude=np.number)"
      ]
    },
    {
      "cell_type": "markdown",
      "id": "087c9c0d",
      "metadata": {
        "id": "087c9c0d"
      },
      "source": [
        "### Limpieza de columnas similares:"
      ]
    },
    {
      "cell_type": "markdown",
      "id": "b86f720c",
      "metadata": {
        "id": "b86f720c"
      },
      "source": [
        "Examinando las columnas del dataset, vemos que **'scheme_management'** tiene 3877 valores nulos y que realmente es muy parecida a la variable **'management'** pues una indica quién opera el punto de agua, y la otra cómo es operado. Por lo tanto optaremos por eliminar la variable scheme_management y quedarnos solo con la otra que no tiene valores nulos:"
      ]
    },
    {
      "cell_type": "markdown",
      "id": "3cf4aada",
      "metadata": {
        "id": "3cf4aada"
      },
      "source": [
        "La variable 'management_group' es practicamente igual, salvo que agrupa estos valores en grupos, por tanto decidimos prescindir también de ella."
      ]
    },
    {
      "cell_type": "code",
      "execution_count": null,
      "id": "62a15bcc",
      "metadata": {
        "id": "62a15bcc",
        "outputId": "04488aa7-a927-4b6e-eda2-cbf463ae2bc0"
      },
      "outputs": [
        {
          "data": {
            "text/plain": [
              "VWC                 36793\n",
              "WUG                  5206\n",
              "Water authority      3153\n",
              "WUA                  2883\n",
              "Water Board          2748\n",
              "Parastatal           1680\n",
              "Private operator     1063\n",
              "Company              1061\n",
              "Other                 766\n",
              "SWC                    97\n",
              "Trust                  72\n",
              "None                    1\n",
              "Name: scheme_management, dtype: int64"
            ]
          },
          "execution_count": 16,
          "metadata": {},
          "output_type": "execute_result"
        }
      ],
      "source": [
        "df['scheme_management'].value_counts()"
      ]
    },
    {
      "cell_type": "code",
      "execution_count": null,
      "id": "882ccf58",
      "metadata": {
        "scrolled": true,
        "id": "882ccf58",
        "outputId": "2fab2e8e-b2b0-4770-f713-f3edef6ec721"
      },
      "outputs": [
        {
          "data": {
            "text/plain": [
              "vwc                 40507\n",
              "wug                  6515\n",
              "water board          2933\n",
              "wua                  2535\n",
              "private operator     1971\n",
              "parastatal           1768\n",
              "water authority       904\n",
              "other                 844\n",
              "company               685\n",
              "unknown               561\n",
              "other - school         99\n",
              "trust                  78\n",
              "Name: management, dtype: int64"
            ]
          },
          "execution_count": 17,
          "metadata": {},
          "output_type": "execute_result"
        }
      ],
      "source": [
        "df['management'].value_counts()"
      ]
    },
    {
      "cell_type": "code",
      "execution_count": null,
      "id": "dc6d7e08",
      "metadata": {
        "id": "dc6d7e08"
      },
      "outputs": [],
      "source": [
        "df.drop(columns=['management_group','scheme_management'], inplace = True)"
      ]
    },
    {
      "cell_type": "markdown",
      "id": "0d6a9d89",
      "metadata": {
        "id": "0d6a9d89"
      },
      "source": [
        "Lo mismo ocurre con las columnas **'source'**, **'source_type'**, y **'source_class'**. Prácticamente misma información en las dos primeras, y en la tercera solo clasifica en grupos. Por tanto nos quedamos con la primera, que es la más completa:"
      ]
    },
    {
      "cell_type": "code",
      "execution_count": null,
      "id": "cc5199ac",
      "metadata": {
        "id": "cc5199ac",
        "outputId": "7cd4ec4c-aa79-4f5f-8b82-90cc229ed5d7"
      },
      "outputs": [
        {
          "data": {
            "text/plain": [
              "spring                  17021\n",
              "shallow well            16824\n",
              "borehole                11949\n",
              "river/lake              10377\n",
              "rainwater harvesting     2295\n",
              "dam                       656\n",
              "other                     278\n",
              "Name: source_type, dtype: int64"
            ]
          },
          "execution_count": 19,
          "metadata": {},
          "output_type": "execute_result"
        }
      ],
      "source": [
        "df['source_type'].value_counts()"
      ]
    },
    {
      "cell_type": "code",
      "execution_count": null,
      "id": "2fc2d5d9",
      "metadata": {
        "id": "2fc2d5d9",
        "outputId": "961bccf2-ec07-4855-8192-3a39a48ac28c"
      },
      "outputs": [
        {
          "data": {
            "text/plain": [
              "spring                  17021\n",
              "shallow well            16824\n",
              "machine dbh             11075\n",
              "river                    9612\n",
              "rainwater harvesting     2295\n",
              "hand dtw                  874\n",
              "lake                      765\n",
              "dam                       656\n",
              "other                     212\n",
              "unknown                    66\n",
              "Name: source, dtype: int64"
            ]
          },
          "execution_count": 20,
          "metadata": {},
          "output_type": "execute_result"
        }
      ],
      "source": [
        "df['source'].value_counts()"
      ]
    },
    {
      "cell_type": "code",
      "execution_count": null,
      "id": "a12036ee",
      "metadata": {
        "id": "a12036ee"
      },
      "outputs": [],
      "source": [
        "df.drop(columns=['source_type','source_class'], inplace = True)"
      ]
    },
    {
      "cell_type": "markdown",
      "id": "3a964bdc",
      "metadata": {
        "id": "3a964bdc"
      },
      "source": [
        "Las columnas **'water_quality'** y **'quality_group'** indican lo mismo, como la primera tiene más clasificaciones nos quedaremos con ella:"
      ]
    },
    {
      "cell_type": "code",
      "execution_count": null,
      "id": "5b68962e",
      "metadata": {
        "id": "5b68962e",
        "outputId": "9375bac6-ab14-429e-920a-08b0ca9a51a0"
      },
      "outputs": [
        {
          "data": {
            "text/plain": [
              "soft                  50818\n",
              "salty                  4856\n",
              "unknown                1876\n",
              "milky                   804\n",
              "coloured                490\n",
              "salty abandoned         339\n",
              "fluoride                200\n",
              "fluoride abandoned       17\n",
              "Name: water_quality, dtype: int64"
            ]
          },
          "execution_count": 22,
          "metadata": {},
          "output_type": "execute_result"
        }
      ],
      "source": [
        "df['water_quality'].value_counts()"
      ]
    },
    {
      "cell_type": "code",
      "execution_count": null,
      "id": "b431ab09",
      "metadata": {
        "id": "b431ab09",
        "outputId": "a09545bb-4aa8-4518-f2ac-b50ad8ae10fe"
      },
      "outputs": [
        {
          "data": {
            "text/plain": [
              "good        50818\n",
              "salty        5195\n",
              "unknown      1876\n",
              "milky         804\n",
              "colored       490\n",
              "fluoride      217\n",
              "Name: quality_group, dtype: int64"
            ]
          },
          "execution_count": 23,
          "metadata": {},
          "output_type": "execute_result"
        }
      ],
      "source": [
        "df['quality_group'].value_counts()"
      ]
    },
    {
      "cell_type": "code",
      "execution_count": null,
      "id": "39b728e3",
      "metadata": {
        "id": "39b728e3"
      },
      "outputs": [],
      "source": [
        "df.drop(['quality_group'], axis = 1, inplace = True)"
      ]
    },
    {
      "cell_type": "markdown",
      "id": "a0e1fedf",
      "metadata": {
        "id": "a0e1fedf"
      },
      "source": [
        "Vemos también que las columnas **'quantity'** y **'quantity_group'** tienen exactamente los mismos valores por lo que solo nos quedamos con una de ellas:"
      ]
    },
    {
      "cell_type": "code",
      "execution_count": null,
      "id": "5ceb231d",
      "metadata": {
        "id": "5ceb231d",
        "outputId": "ee535834-a95c-4e72-e216-3c8326b3eaba"
      },
      "outputs": [
        {
          "data": {
            "text/plain": [
              "enough          33186\n",
              "insufficient    15129\n",
              "dry              6246\n",
              "seasonal         4050\n",
              "unknown           789\n",
              "Name: quantity_group, dtype: int64"
            ]
          },
          "execution_count": 25,
          "metadata": {},
          "output_type": "execute_result"
        }
      ],
      "source": [
        "df['quantity_group'].value_counts()"
      ]
    },
    {
      "cell_type": "code",
      "execution_count": null,
      "id": "45871970",
      "metadata": {
        "scrolled": true,
        "id": "45871970",
        "outputId": "5996e215-6a36-47f9-806a-909977ce5fe2"
      },
      "outputs": [
        {
          "data": {
            "text/plain": [
              "enough          33186\n",
              "insufficient    15129\n",
              "dry              6246\n",
              "seasonal         4050\n",
              "unknown           789\n",
              "Name: quantity, dtype: int64"
            ]
          },
          "execution_count": 26,
          "metadata": {},
          "output_type": "execute_result"
        }
      ],
      "source": [
        "df['quantity'].value_counts()"
      ]
    },
    {
      "cell_type": "code",
      "execution_count": null,
      "id": "cb7c918e",
      "metadata": {
        "id": "cb7c918e"
      },
      "outputs": [],
      "source": [
        "df.drop(['quantity_group'], axis = 1, inplace = True)"
      ]
    },
    {
      "cell_type": "markdown",
      "id": "c327b15f",
      "metadata": {
        "id": "c327b15f"
      },
      "source": [
        "Las columnas **'waterpoint_type'** y **'waterpoint_type_group'** también son muy similares, pero en la primera al no ser agrupaciones se contiene mayor información por lo tanto es la que nos quedaremos:"
      ]
    },
    {
      "cell_type": "code",
      "execution_count": null,
      "id": "19d6d197",
      "metadata": {
        "id": "19d6d197",
        "outputId": "df05bff6-3a0e-4228-c81b-6c141db795ae"
      },
      "outputs": [
        {
          "data": {
            "text/plain": [
              "communal standpipe             28522\n",
              "hand pump                      17488\n",
              "other                           6380\n",
              "communal standpipe multiple     6103\n",
              "improved spring                  784\n",
              "cattle trough                    116\n",
              "dam                                7\n",
              "Name: waterpoint_type, dtype: int64"
            ]
          },
          "execution_count": 28,
          "metadata": {},
          "output_type": "execute_result"
        }
      ],
      "source": [
        "df['waterpoint_type'].value_counts()"
      ]
    },
    {
      "cell_type": "code",
      "execution_count": null,
      "id": "d97f57ed",
      "metadata": {
        "id": "d97f57ed",
        "outputId": "5748bee1-5fb3-4f8c-85f7-41647adf059e"
      },
      "outputs": [
        {
          "data": {
            "text/plain": [
              "communal standpipe    34625\n",
              "hand pump             17488\n",
              "other                  6380\n",
              "improved spring         784\n",
              "cattle trough           116\n",
              "dam                       7\n",
              "Name: waterpoint_type_group, dtype: int64"
            ]
          },
          "execution_count": 29,
          "metadata": {},
          "output_type": "execute_result"
        }
      ],
      "source": [
        "df['waterpoint_type_group'].value_counts()"
      ]
    },
    {
      "cell_type": "code",
      "execution_count": null,
      "id": "80742623",
      "metadata": {
        "id": "80742623",
        "outputId": "931a2109-01a0-47ed-b450-3ea436ae9ec3"
      },
      "outputs": [
        {
          "data": {
            "text/html": [
              "<div>\n",
              "<style scoped>\n",
              "    .dataframe tbody tr th:only-of-type {\n",
              "        vertical-align: middle;\n",
              "    }\n",
              "\n",
              "    .dataframe tbody tr th {\n",
              "        vertical-align: top;\n",
              "    }\n",
              "\n",
              "    .dataframe thead th {\n",
              "        text-align: right;\n",
              "    }\n",
              "</style>\n",
              "<table border=\"1\" class=\"dataframe\">\n",
              "  <thead>\n",
              "    <tr style=\"text-align: right;\">\n",
              "      <th></th>\n",
              "      <th>waterpoint_type</th>\n",
              "      <th>waterpoint_type_group</th>\n",
              "    </tr>\n",
              "    <tr>\n",
              "      <th>id</th>\n",
              "      <th></th>\n",
              "      <th></th>\n",
              "    </tr>\n",
              "  </thead>\n",
              "  <tbody>\n",
              "    <tr>\n",
              "      <th>69572</th>\n",
              "      <td>communal standpipe</td>\n",
              "      <td>communal standpipe</td>\n",
              "    </tr>\n",
              "    <tr>\n",
              "      <th>8776</th>\n",
              "      <td>communal standpipe</td>\n",
              "      <td>communal standpipe</td>\n",
              "    </tr>\n",
              "    <tr>\n",
              "      <th>34310</th>\n",
              "      <td>communal standpipe multiple</td>\n",
              "      <td>communal standpipe</td>\n",
              "    </tr>\n",
              "    <tr>\n",
              "      <th>67743</th>\n",
              "      <td>communal standpipe multiple</td>\n",
              "      <td>communal standpipe</td>\n",
              "    </tr>\n",
              "    <tr>\n",
              "      <th>19728</th>\n",
              "      <td>communal standpipe</td>\n",
              "      <td>communal standpipe</td>\n",
              "    </tr>\n",
              "    <tr>\n",
              "      <th>...</th>\n",
              "      <td>...</td>\n",
              "      <td>...</td>\n",
              "    </tr>\n",
              "    <tr>\n",
              "      <th>60739</th>\n",
              "      <td>communal standpipe</td>\n",
              "      <td>communal standpipe</td>\n",
              "    </tr>\n",
              "    <tr>\n",
              "      <th>27263</th>\n",
              "      <td>communal standpipe</td>\n",
              "      <td>communal standpipe</td>\n",
              "    </tr>\n",
              "    <tr>\n",
              "      <th>37057</th>\n",
              "      <td>hand pump</td>\n",
              "      <td>hand pump</td>\n",
              "    </tr>\n",
              "    <tr>\n",
              "      <th>31282</th>\n",
              "      <td>hand pump</td>\n",
              "      <td>hand pump</td>\n",
              "    </tr>\n",
              "    <tr>\n",
              "      <th>26348</th>\n",
              "      <td>hand pump</td>\n",
              "      <td>hand pump</td>\n",
              "    </tr>\n",
              "  </tbody>\n",
              "</table>\n",
              "<p>59400 rows × 2 columns</p>\n",
              "</div>"
            ],
            "text/plain": [
              "                   waterpoint_type waterpoint_type_group\n",
              "id                                                      \n",
              "69572           communal standpipe    communal standpipe\n",
              "8776            communal standpipe    communal standpipe\n",
              "34310  communal standpipe multiple    communal standpipe\n",
              "67743  communal standpipe multiple    communal standpipe\n",
              "19728           communal standpipe    communal standpipe\n",
              "...                            ...                   ...\n",
              "60739           communal standpipe    communal standpipe\n",
              "27263           communal standpipe    communal standpipe\n",
              "37057                    hand pump             hand pump\n",
              "31282                    hand pump             hand pump\n",
              "26348                    hand pump             hand pump\n",
              "\n",
              "[59400 rows x 2 columns]"
            ]
          },
          "execution_count": 30,
          "metadata": {},
          "output_type": "execute_result"
        }
      ],
      "source": [
        "df[['waterpoint_type' , 'waterpoint_type_group']]"
      ]
    },
    {
      "cell_type": "code",
      "execution_count": null,
      "id": "20473274",
      "metadata": {
        "id": "20473274"
      },
      "outputs": [],
      "source": [
        "df.drop(['waterpoint_type_group'], axis = 1, inplace = True)"
      ]
    },
    {
      "cell_type": "markdown",
      "id": "4acb08aa",
      "metadata": {
        "id": "4acb08aa"
      },
      "source": [
        "Respecto a las columnas **'extraction_type'**, **'extraction_type_group'** y **'extraction_type_class'** nos decidimos quedar con la primera porque es la más completa:"
      ]
    },
    {
      "cell_type": "code",
      "execution_count": null,
      "id": "c856c9b9",
      "metadata": {
        "id": "c856c9b9",
        "outputId": "6103072e-0316-40f5-b925-da667e433285"
      },
      "outputs": [
        {
          "data": {
            "text/plain": [
              "gravity                      26780\n",
              "nira/tanira                   8154\n",
              "other                         6430\n",
              "submersible                   4764\n",
              "swn 80                        3670\n",
              "mono                          2865\n",
              "india mark ii                 2400\n",
              "afridev                       1770\n",
              "ksb                           1415\n",
              "other - rope pump              451\n",
              "other - swn 81                 229\n",
              "windmill                       117\n",
              "india mark iii                  98\n",
              "cemo                            90\n",
              "other - play pump               85\n",
              "walimi                          48\n",
              "climax                          32\n",
              "other - mkulima/shinyanga        2\n",
              "Name: extraction_type, dtype: int64"
            ]
          },
          "execution_count": 32,
          "metadata": {},
          "output_type": "execute_result"
        }
      ],
      "source": [
        "df['extraction_type'].value_counts()"
      ]
    },
    {
      "cell_type": "code",
      "execution_count": null,
      "id": "bd2e8476",
      "metadata": {
        "id": "bd2e8476",
        "outputId": "d3154554-6337-40ae-f0ad-8b4a75cd14da"
      },
      "outputs": [
        {
          "data": {
            "text/plain": [
              "gravity            26780\n",
              "nira/tanira         8154\n",
              "other               6430\n",
              "submersible         6179\n",
              "swn 80              3670\n",
              "mono                2865\n",
              "india mark ii       2400\n",
              "afridev             1770\n",
              "rope pump            451\n",
              "other handpump       364\n",
              "other motorpump      122\n",
              "wind-powered         117\n",
              "india mark iii        98\n",
              "Name: extraction_type_group, dtype: int64"
            ]
          },
          "execution_count": 33,
          "metadata": {},
          "output_type": "execute_result"
        }
      ],
      "source": [
        "df['extraction_type_group'].value_counts()"
      ]
    },
    {
      "cell_type": "code",
      "execution_count": null,
      "id": "451ecac6",
      "metadata": {
        "id": "451ecac6",
        "outputId": "463e49b1-c546-40f2-f537-304fc68b98c7"
      },
      "outputs": [
        {
          "data": {
            "text/plain": [
              "gravity         26780\n",
              "handpump        16456\n",
              "other            6430\n",
              "submersible      6179\n",
              "motorpump        2987\n",
              "rope pump         451\n",
              "wind-powered      117\n",
              "Name: extraction_type_class, dtype: int64"
            ]
          },
          "execution_count": 34,
          "metadata": {},
          "output_type": "execute_result"
        }
      ],
      "source": [
        "df['extraction_type_class'].value_counts()"
      ]
    },
    {
      "cell_type": "code",
      "execution_count": null,
      "id": "7e3c73d3",
      "metadata": {
        "id": "7e3c73d3"
      },
      "outputs": [],
      "source": [
        "df.drop(['extraction_type_group', 'extraction_type_class'], axis = 1, inplace = True)"
      ]
    },
    {
      "cell_type": "markdown",
      "id": "50fc1ffd",
      "metadata": {
        "id": "50fc1ffd"
      },
      "source": [
        "Las últimas columnas similares son las de **'payment'** y **'payment_type'** que son idénticas, por lo que nos quedamos con la segunda, pues la descripción de sus campos es más sencilla:"
      ]
    },
    {
      "cell_type": "code",
      "execution_count": null,
      "id": "5b07a9ff",
      "metadata": {
        "id": "5b07a9ff",
        "outputId": "89b1798e-ce06-46b7-d226-080f4bbb2d45"
      },
      "outputs": [
        {
          "data": {
            "text/plain": [
              "never pay                25348\n",
              "pay per bucket            8985\n",
              "pay monthly               8300\n",
              "unknown                   8157\n",
              "pay when scheme fails     3914\n",
              "pay annually              3642\n",
              "other                     1054\n",
              "Name: payment, dtype: int64"
            ]
          },
          "execution_count": 36,
          "metadata": {},
          "output_type": "execute_result"
        }
      ],
      "source": [
        "df['payment'].value_counts()"
      ]
    },
    {
      "cell_type": "code",
      "execution_count": null,
      "id": "6e03c37d",
      "metadata": {
        "id": "6e03c37d",
        "outputId": "3ded111f-f6f5-40c5-fcec-13d2cb12c580"
      },
      "outputs": [
        {
          "data": {
            "text/plain": [
              "never pay     25348\n",
              "per bucket     8985\n",
              "monthly        8300\n",
              "unknown        8157\n",
              "on failure     3914\n",
              "annually       3642\n",
              "other          1054\n",
              "Name: payment_type, dtype: int64"
            ]
          },
          "execution_count": 37,
          "metadata": {},
          "output_type": "execute_result"
        }
      ],
      "source": [
        "df['payment_type'].value_counts()"
      ]
    },
    {
      "cell_type": "code",
      "execution_count": null,
      "id": "4391692a",
      "metadata": {
        "id": "4391692a"
      },
      "outputs": [],
      "source": [
        "df.drop(['payment'], axis = 1, inplace = True)"
      ]
    },
    {
      "cell_type": "markdown",
      "id": "c736eddc",
      "metadata": {
        "id": "c736eddc"
      },
      "source": [
        "Eliminamos también la columna **'recorded_by'** puesto que es constante todo el dataframe:"
      ]
    },
    {
      "cell_type": "code",
      "execution_count": null,
      "id": "c834ba03",
      "metadata": {
        "id": "c834ba03",
        "outputId": "04fb0fe9-d667-47e6-88b3-07ccbbb3221a"
      },
      "outputs": [
        {
          "data": {
            "text/plain": [
              "GeoData Consultants Ltd    59400\n",
              "Name: recorded_by, dtype: int64"
            ]
          },
          "execution_count": 39,
          "metadata": {},
          "output_type": "execute_result"
        }
      ],
      "source": [
        "df['recorded_by'].value_counts()"
      ]
    },
    {
      "cell_type": "code",
      "execution_count": null,
      "id": "4233bad6",
      "metadata": {
        "id": "4233bad6"
      },
      "outputs": [],
      "source": [
        "df.drop(['recorded_by'], axis = 1, inplace = True)"
      ]
    },
    {
      "cell_type": "markdown",
      "id": "8c6de88c",
      "metadata": {
        "id": "8c6de88c"
      },
      "source": [
        "Comprobamos ahora las columnas que tenemos en el dataframe, puesto que hemos eliminado 12 de ellas y por tanto simplificado el mismo:"
      ]
    },
    {
      "cell_type": "code",
      "execution_count": null,
      "id": "2365a5fb",
      "metadata": {
        "id": "2365a5fb",
        "outputId": "4406c60b-7cb4-4b7c-b2b1-467383f6cc9f"
      },
      "outputs": [
        {
          "name": "stdout",
          "output_type": "stream",
          "text": [
            "<class 'pandas.core.frame.DataFrame'>\n",
            "Int64Index: 59400 entries, 69572 to 26348\n",
            "Data columns (total 29 columns):\n",
            " #   Column             Non-Null Count  Dtype  \n",
            "---  ------             --------------  -----  \n",
            " 0   amount_tsh         59400 non-null  float64\n",
            " 1   date_recorded      59400 non-null  object \n",
            " 2   funder             55765 non-null  object \n",
            " 3   gps_height         59400 non-null  int64  \n",
            " 4   installer          55745 non-null  object \n",
            " 5   longitude          59400 non-null  float64\n",
            " 6   latitude           59400 non-null  float64\n",
            " 7   wpt_name           59400 non-null  object \n",
            " 8   num_private        59400 non-null  int64  \n",
            " 9   basin              59400 non-null  object \n",
            " 10  subvillage         59029 non-null  object \n",
            " 11  region             59400 non-null  object \n",
            " 12  region_code        59400 non-null  int64  \n",
            " 13  district_code      59400 non-null  int64  \n",
            " 14  lga                59400 non-null  object \n",
            " 15  ward               59400 non-null  object \n",
            " 16  population         59400 non-null  int64  \n",
            " 17  public_meeting     56066 non-null  object \n",
            " 18  scheme_name        31234 non-null  object \n",
            " 19  permit             56344 non-null  object \n",
            " 20  construction_year  59400 non-null  int64  \n",
            " 21  extraction_type    59400 non-null  object \n",
            " 22  management         59400 non-null  object \n",
            " 23  payment_type       59400 non-null  object \n",
            " 24  water_quality      59400 non-null  object \n",
            " 25  quantity           59400 non-null  object \n",
            " 26  source             59400 non-null  object \n",
            " 27  waterpoint_type    59400 non-null  object \n",
            " 28  status_group       59400 non-null  object \n",
            "dtypes: float64(3), int64(6), object(20)\n",
            "memory usage: 13.6+ MB\n"
          ]
        }
      ],
      "source": [
        "df.info()"
      ]
    },
    {
      "cell_type": "markdown",
      "id": "8b24505b",
      "metadata": {
        "id": "8b24505b"
      },
      "source": [
        "### Tratamiento de las columnas con valores anómalos:"
      ]
    },
    {
      "cell_type": "code",
      "execution_count": null,
      "id": "f94cd9f4",
      "metadata": {
        "id": "f94cd9f4",
        "outputId": "306f9bd1-4140-4a7f-e801-b759af836806"
      },
      "outputs": [
        {
          "data": {
            "image/png": "[encoded data removed]",
            "text/plain": [
              "<Figure size 1440x720 with 1 Axes>"
            ]
          },
          "metadata": {
            "needs_background": "light"
          },
          "output_type": "display_data"
        }
      ],
      "source": [
        "plt.figure(figsize=(20,10))\n",
        "ax = sns.countplot(x='construction_year', hue=\"status_group\", data=df)"
      ]
    },
    {
      "cell_type": "code",
      "execution_count": null,
      "id": "c015e7a3",
      "metadata": {
        "scrolled": true,
        "id": "c015e7a3",
        "outputId": "f3cb3d04-1c99-4937-e800-f149f61c6eab"
      },
      "outputs": [
        {
          "data": {
            "text/plain": [
              "0       20709\n",
              "2010     2645\n",
              "2008     2613\n",
              "2009     2533\n",
              "2000     2091\n",
              "2007     1587\n",
              "2006     1471\n",
              "2003     1286\n",
              "2011     1256\n",
              "2004     1123\n",
              "2012     1084\n",
              "2002     1075\n",
              "1978     1037\n",
              "1995     1014\n",
              "2005     1011\n",
              "1999      979\n",
              "1998      966\n",
              "1990      954\n",
              "1985      945\n",
              "1980      811\n",
              "1996      811\n",
              "1984      779\n",
              "1982      744\n",
              "1994      738\n",
              "1972      708\n",
              "1974      676\n",
              "1997      644\n",
              "1992      640\n",
              "1993      608\n",
              "2001      540\n",
              "1988      521\n",
              "1983      488\n",
              "1975      437\n",
              "1986      434\n",
              "1976      414\n",
              "1970      411\n",
              "1991      324\n",
              "1989      316\n",
              "1987      302\n",
              "1981      238\n",
              "1977      202\n",
              "1979      192\n",
              "1973      184\n",
              "2013      176\n",
              "1971      145\n",
              "1960      102\n",
              "1967       88\n",
              "1963       85\n",
              "1968       77\n",
              "1969       59\n",
              "1964       40\n",
              "1962       30\n",
              "1961       21\n",
              "1965       19\n",
              "1966       17\n",
              "Name: construction_year, dtype: int64"
            ]
          },
          "execution_count": 43,
          "metadata": {},
          "output_type": "execute_result"
        }
      ],
      "source": [
        "df['construction_year'].value_counts()"
      ]
    },
    {
      "cell_type": "markdown",
      "id": "1ef83a21",
      "metadata": {
        "id": "1ef83a21"
      },
      "source": [
        "La columna **'construction_year'** tiene muchos valores 0. En vez de sustituirlos directamente por la media, voy a tramificarla por tramos de 5 años para no asignar todos estos valores 0 a un solo año.\n",
        "\n",
        "Primero calculamos la media de los valores 0 del antiguo campo 'construction_year' para así calcular su media sin estos y poder asignar en el nuevo campo los 0 al valor de la media:"
      ]
    },
    {
      "cell_type": "code",
      "execution_count": null,
      "id": "3ce25d43",
      "metadata": {
        "scrolled": true,
        "id": "3ce25d43",
        "outputId": "4b326f6a-795e-40a7-88dd-f6e4de4454c2"
      },
      "outputs": [
        {
          "data": {
            "text/html": [
              "<div>\n",
              "<style scoped>\n",
              "    .dataframe tbody tr th:only-of-type {\n",
              "        vertical-align: middle;\n",
              "    }\n",
              "\n",
              "    .dataframe tbody tr th {\n",
              "        vertical-align: top;\n",
              "    }\n",
              "\n",
              "    .dataframe thead th {\n",
              "        text-align: right;\n",
              "    }\n",
              "</style>\n",
              "<table border=\"1\" class=\"dataframe\">\n",
              "  <thead>\n",
              "    <tr style=\"text-align: right;\">\n",
              "      <th></th>\n",
              "      <th>amount_tsh</th>\n",
              "      <th>gps_height</th>\n",
              "      <th>longitude</th>\n",
              "      <th>latitude</th>\n",
              "      <th>num_private</th>\n",
              "      <th>region_code</th>\n",
              "      <th>district_code</th>\n",
              "      <th>population</th>\n",
              "      <th>construction_year</th>\n",
              "    </tr>\n",
              "  </thead>\n",
              "  <tbody>\n",
              "    <tr>\n",
              "      <th>count</th>\n",
              "      <td>38691.000000</td>\n",
              "      <td>38691.000000</td>\n",
              "      <td>38691.000000</td>\n",
              "      <td>38691.000000</td>\n",
              "      <td>38691.000000</td>\n",
              "      <td>38691.000000</td>\n",
              "      <td>38691.000000</td>\n",
              "      <td>38691.000000</td>\n",
              "      <td>38691.000000</td>\n",
              "    </tr>\n",
              "    <tr>\n",
              "      <th>mean</th>\n",
              "      <td>466.457534</td>\n",
              "      <td>1002.367760</td>\n",
              "      <td>35.983262</td>\n",
              "      <td>-6.235372</td>\n",
              "      <td>0.707710</td>\n",
              "      <td>15.706495</td>\n",
              "      <td>5.969786</td>\n",
              "      <td>269.799617</td>\n",
              "      <td>1996.814686</td>\n",
              "    </tr>\n",
              "    <tr>\n",
              "      <th>std</th>\n",
              "      <td>3541.036030</td>\n",
              "      <td>618.078669</td>\n",
              "      <td>2.558709</td>\n",
              "      <td>2.761317</td>\n",
              "      <td>15.083957</td>\n",
              "      <td>21.003006</td>\n",
              "      <td>10.700673</td>\n",
              "      <td>552.343746</td>\n",
              "      <td>12.472045</td>\n",
              "    </tr>\n",
              "    <tr>\n",
              "      <th>min</th>\n",
              "      <td>0.000000</td>\n",
              "      <td>-63.000000</td>\n",
              "      <td>29.607122</td>\n",
              "      <td>-11.649440</td>\n",
              "      <td>0.000000</td>\n",
              "      <td>2.000000</td>\n",
              "      <td>1.000000</td>\n",
              "      <td>0.000000</td>\n",
              "      <td>1960.000000</td>\n",
              "    </tr>\n",
              "    <tr>\n",
              "      <th>25%</th>\n",
              "      <td>0.000000</td>\n",
              "      <td>372.000000</td>\n",
              "      <td>34.676719</td>\n",
              "      <td>-8.755274</td>\n",
              "      <td>0.000000</td>\n",
              "      <td>4.000000</td>\n",
              "      <td>2.000000</td>\n",
              "      <td>30.000000</td>\n",
              "      <td>1987.000000</td>\n",
              "    </tr>\n",
              "    <tr>\n",
              "      <th>50%</th>\n",
              "      <td>0.000000</td>\n",
              "      <td>1154.000000</td>\n",
              "      <td>36.648187</td>\n",
              "      <td>-6.064216</td>\n",
              "      <td>0.000000</td>\n",
              "      <td>11.000000</td>\n",
              "      <td>3.000000</td>\n",
              "      <td>150.000000</td>\n",
              "      <td>2000.000000</td>\n",
              "    </tr>\n",
              "    <tr>\n",
              "      <th>75%</th>\n",
              "      <td>200.000000</td>\n",
              "      <td>1488.000000</td>\n",
              "      <td>37.803940</td>\n",
              "      <td>-3.650661</td>\n",
              "      <td>0.000000</td>\n",
              "      <td>16.000000</td>\n",
              "      <td>5.000000</td>\n",
              "      <td>305.000000</td>\n",
              "      <td>2008.000000</td>\n",
              "    </tr>\n",
              "    <tr>\n",
              "      <th>max</th>\n",
              "      <td>350000.000000</td>\n",
              "      <td>2770.000000</td>\n",
              "      <td>40.345193</td>\n",
              "      <td>-1.042375</td>\n",
              "      <td>1776.000000</td>\n",
              "      <td>99.000000</td>\n",
              "      <td>63.000000</td>\n",
              "      <td>30500.000000</td>\n",
              "      <td>2013.000000</td>\n",
              "    </tr>\n",
              "  </tbody>\n",
              "</table>\n",
              "</div>"
            ],
            "text/plain": [
              "          amount_tsh    gps_height     longitude      latitude   num_private  \\\n",
              "count   38691.000000  38691.000000  38691.000000  38691.000000  38691.000000   \n",
              "mean      466.457534   1002.367760     35.983262     -6.235372      0.707710   \n",
              "std      3541.036030    618.078669      2.558709      2.761317     15.083957   \n",
              "min         0.000000    -63.000000     29.607122    -11.649440      0.000000   \n",
              "25%         0.000000    372.000000     34.676719     -8.755274      0.000000   \n",
              "50%         0.000000   1154.000000     36.648187     -6.064216      0.000000   \n",
              "75%       200.000000   1488.000000     37.803940     -3.650661      0.000000   \n",
              "max    350000.000000   2770.000000     40.345193     -1.042375   1776.000000   \n",
              "\n",
              "        region_code  district_code    population  construction_year  \n",
              "count  38691.000000   38691.000000  38691.000000       38691.000000  \n",
              "mean      15.706495       5.969786    269.799617        1996.814686  \n",
              "std       21.003006      10.700673    552.343746          12.472045  \n",
              "min        2.000000       1.000000      0.000000        1960.000000  \n",
              "25%        4.000000       2.000000     30.000000        1987.000000  \n",
              "50%       11.000000       3.000000    150.000000        2000.000000  \n",
              "75%       16.000000       5.000000    305.000000        2008.000000  \n",
              "max       99.000000      63.000000  30500.000000        2013.000000  "
            ]
          },
          "execution_count": 44,
          "metadata": {},
          "output_type": "execute_result"
        }
      ],
      "source": [
        "df.loc[df['construction_year']!=0].describe()"
      ]
    },
    {
      "cell_type": "code",
      "execution_count": null,
      "id": "870be1c6",
      "metadata": {
        "id": "870be1c6"
      },
      "outputs": [],
      "source": [
        "df = df.assign(new_year = df['construction_year'])"
      ]
    },
    {
      "cell_type": "code",
      "execution_count": null,
      "id": "10e47b1e",
      "metadata": {
        "id": "10e47b1e"
      },
      "outputs": [],
      "source": [
        "df['new_year'].replace(to_replace = 0, value = 1996, inplace=True)"
      ]
    },
    {
      "cell_type": "code",
      "execution_count": null,
      "id": "cb62dd67",
      "metadata": {
        "id": "cb62dd67"
      },
      "outputs": [],
      "source": [
        "df['new_year'].replace(to_replace = (1960,1961,1962,1963,1964),\n",
        "                        value ='1960-1964' , inplace=True)\n",
        "df['new_year'].replace(to_replace = (1965,1966,1967,1968,1969),\n",
        "                        value ='1965-1969' , inplace=True)\n",
        "df['new_year'].replace(to_replace = (1970,1971,1972,1973,1974),\n",
        "                        value ='1970-1974' , inplace=True)\n",
        "df['new_year'].replace(to_replace = (1975,1976,1977,1978,1979),\n",
        "                        value ='1975-1979' , inplace=True)\n",
        "df['new_year'].replace(to_replace = (1980,1981,1982,1983,1984),\n",
        "                        value ='1980-1984' , inplace=True)\n",
        "df['new_year'].replace(to_replace = (1985,1986,1987,1988,1989),\n",
        "                        value ='1985-1989' , inplace=True)\n",
        "df['new_year'].replace(to_replace = (1990,1991,1992,1993,1994),\n",
        "                        value ='1990-1994' , inplace=True)\n",
        "df['new_year'].replace(to_replace = (1995,1996,1997,1998,1999),\n",
        "                        value ='1995-1999' , inplace=True)\n",
        "df['new_year'].replace(to_replace = (2000,2001,2002,2003,2004),\n",
        "                        value ='2000-2004' , inplace=True)\n",
        "df['new_year'].replace(to_replace = (2005,2006,2007,2008,2009),\n",
        "                        value ='2005-2009' , inplace=True)\n",
        "df['new_year'].replace(to_replace = (2010,2011,2012,2013),\n",
        "                        value ='2010-2013' , inplace=True)"
      ]
    },
    {
      "cell_type": "markdown",
      "id": "4e786ae9",
      "metadata": {
        "id": "4e786ae9"
      },
      "source": [
        "Contamos ahora los valores según la nueva clasificación:"
      ]
    },
    {
      "cell_type": "code",
      "execution_count": null,
      "id": "33ba59f9",
      "metadata": {
        "id": "33ba59f9",
        "outputId": "7be433bc-874c-41f9-bfad-942a3067fbab"
      },
      "outputs": [
        {
          "data": {
            "text/plain": [
              "1995-1999    25123\n",
              "2005-2009     9215\n",
              "2000-2004     6115\n",
              "2010-2013     5161\n",
              "1990-1994     3264\n",
              "1980-1984     3060\n",
              "1985-1989     2518\n",
              "1975-1979     2282\n",
              "1970-1974     2124\n",
              "1960-1964      278\n",
              "1965-1969      260\n",
              "Name: new_year, dtype: int64"
            ]
          },
          "execution_count": 48,
          "metadata": {},
          "output_type": "execute_result"
        }
      ],
      "source": [
        "df['new_year'].value_counts()"
      ]
    },
    {
      "cell_type": "code",
      "execution_count": null,
      "id": "64a4cece",
      "metadata": {
        "id": "64a4cece",
        "outputId": "466665e1-abf8-489a-faf9-cfc541737c79"
      },
      "outputs": [
        {
          "data": {
            "image/png": "[encoded data removed]",
            "text/plain": [
              "<Figure size 1440x720 with 1 Axes>"
            ]
          },
          "metadata": {
            "needs_background": "light"
          },
          "output_type": "display_data"
        }
      ],
      "source": [
        "plt.figure(figsize=(20,10))\n",
        "ax = sns.countplot(x='new_year', hue=\"status_group\", data=df)"
      ]
    },
    {
      "cell_type": "markdown",
      "id": "e64ab768",
      "metadata": {
        "id": "e64ab768"
      },
      "source": [
        "Apreciamos que las bombas más recientes tienen mayor probabilidad de ser funcionales."
      ]
    },
    {
      "cell_type": "code",
      "execution_count": null,
      "id": "6a685851",
      "metadata": {
        "id": "6a685851"
      },
      "outputs": [],
      "source": [
        "df.drop(['construction_year'], axis = 1, inplace = True)"
      ]
    },
    {
      "cell_type": "markdown",
      "id": "28dc12ab",
      "metadata": {
        "id": "28dc12ab"
      },
      "source": [
        "La columna **'population'** tiene muchos valores cero, calculamos la media sin contar estos valores e imputamos este valor por los cero:"
      ]
    },
    {
      "cell_type": "code",
      "execution_count": null,
      "id": "72866208",
      "metadata": {
        "id": "72866208",
        "outputId": "1cf1fed8-0cef-43b2-8fa2-e8d70d0454c0"
      },
      "outputs": [
        {
          "data": {
            "text/plain": [
              "0       21381\n",
              "1        7025\n",
              "200      1940\n",
              "150      1892\n",
              "250      1681\n",
              "        ...  \n",
              "6330        1\n",
              "5030        1\n",
              "656         1\n",
              "948         1\n",
              "788         1\n",
              "Name: population, Length: 1049, dtype: int64"
            ]
          },
          "execution_count": 51,
          "metadata": {},
          "output_type": "execute_result"
        }
      ],
      "source": [
        "df['population'].value_counts()"
      ]
    },
    {
      "cell_type": "code",
      "execution_count": null,
      "id": "0d9e16a1",
      "metadata": {
        "id": "0d9e16a1",
        "outputId": "fa520416-58d8-48f1-eb5b-7d98fcabcb42"
      },
      "outputs": [
        {
          "data": {
            "text/html": [
              "<div>\n",
              "<style scoped>\n",
              "    .dataframe tbody tr th:only-of-type {\n",
              "        vertical-align: middle;\n",
              "    }\n",
              "\n",
              "    .dataframe tbody tr th {\n",
              "        vertical-align: top;\n",
              "    }\n",
              "\n",
              "    .dataframe thead th {\n",
              "        text-align: right;\n",
              "    }\n",
              "</style>\n",
              "<table border=\"1\" class=\"dataframe\">\n",
              "  <thead>\n",
              "    <tr style=\"text-align: right;\">\n",
              "      <th></th>\n",
              "      <th>amount_tsh</th>\n",
              "      <th>gps_height</th>\n",
              "      <th>longitude</th>\n",
              "      <th>latitude</th>\n",
              "      <th>num_private</th>\n",
              "      <th>region_code</th>\n",
              "      <th>district_code</th>\n",
              "      <th>population</th>\n",
              "    </tr>\n",
              "  </thead>\n",
              "  <tbody>\n",
              "    <tr>\n",
              "      <th>count</th>\n",
              "      <td>38019.000000</td>\n",
              "      <td>38019.000000</td>\n",
              "      <td>38019.000000</td>\n",
              "      <td>38019.000000</td>\n",
              "      <td>38019.000000</td>\n",
              "      <td>38019.000000</td>\n",
              "      <td>38019.000000</td>\n",
              "      <td>38019.000000</td>\n",
              "    </tr>\n",
              "    <tr>\n",
              "      <th>mean</th>\n",
              "      <td>447.787681</td>\n",
              "      <td>969.889634</td>\n",
              "      <td>36.074387</td>\n",
              "      <td>-6.139781</td>\n",
              "      <td>0.740788</td>\n",
              "      <td>16.076988</td>\n",
              "      <td>6.299456</td>\n",
              "      <td>281.087167</td>\n",
              "    </tr>\n",
              "    <tr>\n",
              "      <th>std</th>\n",
              "      <td>3706.770967</td>\n",
              "      <td>612.544787</td>\n",
              "      <td>2.586779</td>\n",
              "      <td>2.737733</td>\n",
              "      <td>15.288297</td>\n",
              "      <td>21.597996</td>\n",
              "      <td>11.303334</td>\n",
              "      <td>564.687660</td>\n",
              "    </tr>\n",
              "    <tr>\n",
              "      <th>min</th>\n",
              "      <td>0.000000</td>\n",
              "      <td>-90.000000</td>\n",
              "      <td>29.607122</td>\n",
              "      <td>-11.649440</td>\n",
              "      <td>0.000000</td>\n",
              "      <td>2.000000</td>\n",
              "      <td>1.000000</td>\n",
              "      <td>1.000000</td>\n",
              "    </tr>\n",
              "    <tr>\n",
              "      <th>25%</th>\n",
              "      <td>0.000000</td>\n",
              "      <td>347.000000</td>\n",
              "      <td>34.715340</td>\n",
              "      <td>-8.388839</td>\n",
              "      <td>0.000000</td>\n",
              "      <td>4.000000</td>\n",
              "      <td>2.000000</td>\n",
              "      <td>40.000000</td>\n",
              "    </tr>\n",
              "    <tr>\n",
              "      <th>50%</th>\n",
              "      <td>0.000000</td>\n",
              "      <td>1135.000000</td>\n",
              "      <td>36.706815</td>\n",
              "      <td>-5.750877</td>\n",
              "      <td>0.000000</td>\n",
              "      <td>10.000000</td>\n",
              "      <td>3.000000</td>\n",
              "      <td>150.000000</td>\n",
              "    </tr>\n",
              "    <tr>\n",
              "      <th>75%</th>\n",
              "      <td>100.000000</td>\n",
              "      <td>1465.000000</td>\n",
              "      <td>37.940149</td>\n",
              "      <td>-3.597016</td>\n",
              "      <td>0.000000</td>\n",
              "      <td>16.000000</td>\n",
              "      <td>5.000000</td>\n",
              "      <td>324.000000</td>\n",
              "    </tr>\n",
              "    <tr>\n",
              "      <th>max</th>\n",
              "      <td>350000.000000</td>\n",
              "      <td>2770.000000</td>\n",
              "      <td>40.345193</td>\n",
              "      <td>-1.042375</td>\n",
              "      <td>1776.000000</td>\n",
              "      <td>99.000000</td>\n",
              "      <td>67.000000</td>\n",
              "      <td>30500.000000</td>\n",
              "    </tr>\n",
              "  </tbody>\n",
              "</table>\n",
              "</div>"
            ],
            "text/plain": [
              "          amount_tsh    gps_height     longitude      latitude   num_private  \\\n",
              "count   38019.000000  38019.000000  38019.000000  38019.000000  38019.000000   \n",
              "mean      447.787681    969.889634     36.074387     -6.139781      0.740788   \n",
              "std      3706.770967    612.544787      2.586779      2.737733     15.288297   \n",
              "min         0.000000    -90.000000     29.607122    -11.649440      0.000000   \n",
              "25%         0.000000    347.000000     34.715340     -8.388839      0.000000   \n",
              "50%         0.000000   1135.000000     36.706815     -5.750877      0.000000   \n",
              "75%       100.000000   1465.000000     37.940149     -3.597016      0.000000   \n",
              "max    350000.000000   2770.000000     40.345193     -1.042375   1776.000000   \n",
              "\n",
              "        region_code  district_code    population  \n",
              "count  38019.000000   38019.000000  38019.000000  \n",
              "mean      16.076988       6.299456    281.087167  \n",
              "std       21.597996      11.303334    564.687660  \n",
              "min        2.000000       1.000000      1.000000  \n",
              "25%        4.000000       2.000000     40.000000  \n",
              "50%       10.000000       3.000000    150.000000  \n",
              "75%       16.000000       5.000000    324.000000  \n",
              "max       99.000000      67.000000  30500.000000  "
            ]
          },
          "execution_count": 52,
          "metadata": {},
          "output_type": "execute_result"
        }
      ],
      "source": [
        "df.loc[df['population']!=0].describe()"
      ]
    },
    {
      "cell_type": "code",
      "execution_count": null,
      "id": "38f04859",
      "metadata": {
        "id": "38f04859"
      },
      "outputs": [],
      "source": [
        "df['population'].replace(to_replace = 0 , value = 281, inplace=True)"
      ]
    },
    {
      "cell_type": "markdown",
      "id": "764be9bb",
      "metadata": {
        "id": "764be9bb"
      },
      "source": [
        "Decidimos eliminar también **'amount_tsh'** pues está muy sesgada y tiene el 70% de valores cero:"
      ]
    },
    {
      "cell_type": "code",
      "execution_count": null,
      "id": "a1360c5c",
      "metadata": {
        "id": "a1360c5c",
        "outputId": "2c326280-28eb-43fd-fcbc-af6bcf0991fb"
      },
      "outputs": [
        {
          "data": {
            "text/plain": [
              "0.0         0.700993\n",
              "500.0       0.052222\n",
              "50.0        0.041616\n",
              "1000.0      0.025051\n",
              "20.0        0.024630\n",
              "              ...   \n",
              "6300.0      0.000017\n",
              "120000.0    0.000017\n",
              "138000.0    0.000017\n",
              "350000.0    0.000017\n",
              "59.0        0.000017\n",
              "Name: amount_tsh, Length: 98, dtype: float64"
            ]
          },
          "execution_count": 54,
          "metadata": {},
          "output_type": "execute_result"
        }
      ],
      "source": [
        "df['amount_tsh'].value_counts()/df['amount_tsh'].count()"
      ]
    },
    {
      "cell_type": "code",
      "execution_count": null,
      "id": "b589b561",
      "metadata": {
        "id": "b589b561"
      },
      "outputs": [],
      "source": [
        "df.drop(['amount_tsh'], axis = 1, inplace = True)"
      ]
    },
    {
      "cell_type": "markdown",
      "id": "8c37f3ca",
      "metadata": {
        "id": "8c37f3ca"
      },
      "source": [
        "En cuanto a **'gps_height'** que es la última variable que también tiene muchos ceros, decidimos respetarla puesto que indica la altura respecto al nivel del mar, y el cero puede ser indicativo de que la bomba de agua esté a nivel del mar justo."
      ]
    },
    {
      "cell_type": "markdown",
      "id": "68b8c4bb",
      "metadata": {
        "id": "68b8c4bb"
      },
      "source": [
        "### Tratamiento de columnas con valores nulos:"
      ]
    },
    {
      "cell_type": "code",
      "execution_count": null,
      "id": "2eb63c4d",
      "metadata": {
        "id": "2eb63c4d",
        "outputId": "4feb344c-e007-466f-99b4-deaec679815e"
      },
      "outputs": [
        {
          "data": {
            "text/plain": [
              "date_recorded          0\n",
              "funder              3635\n",
              "gps_height             0\n",
              "installer           3655\n",
              "longitude              0\n",
              "latitude               0\n",
              "wpt_name               0\n",
              "num_private            0\n",
              "basin                  0\n",
              "subvillage           371\n",
              "region                 0\n",
              "region_code            0\n",
              "district_code          0\n",
              "lga                    0\n",
              "ward                   0\n",
              "population             0\n",
              "public_meeting      3334\n",
              "scheme_name        28166\n",
              "permit              3056\n",
              "extraction_type        0\n",
              "management             0\n",
              "payment_type           0\n",
              "water_quality          0\n",
              "quantity               0\n",
              "source                 0\n",
              "waterpoint_type        0\n",
              "status_group           0\n",
              "new_year               0\n",
              "dtype: int64"
            ]
          },
          "execution_count": 56,
          "metadata": {},
          "output_type": "execute_result"
        }
      ],
      "source": [
        "df.isna().sum()"
      ]
    },
    {
      "cell_type": "markdown",
      "id": "77173dae",
      "metadata": {
        "id": "77173dae"
      },
      "source": [
        "La columna **'permit'** tiene 3056 valores nulos que vamos a sustituir por True ya que constituyen la mayoría."
      ]
    },
    {
      "cell_type": "code",
      "execution_count": null,
      "id": "6039f9a6",
      "metadata": {
        "id": "6039f9a6",
        "outputId": "4d978390-b3a9-4931-ea66-1dcc05a79ab0"
      },
      "outputs": [
        {
          "data": {
            "text/plain": [
              "True     38852\n",
              "False    17492\n",
              "Name: permit, dtype: int64"
            ]
          },
          "execution_count": 57,
          "metadata": {},
          "output_type": "execute_result"
        }
      ],
      "source": [
        "df['permit'].value_counts()"
      ]
    },
    {
      "cell_type": "code",
      "execution_count": null,
      "id": "2fb4fc30",
      "metadata": {
        "id": "2fb4fc30"
      },
      "outputs": [],
      "source": [
        "df['permit'].fillna(value=True, inplace=True)"
      ]
    },
    {
      "cell_type": "markdown",
      "id": "274d961b",
      "metadata": {
        "id": "274d961b"
      },
      "source": [
        "Lo mismo ocurre con la variable **'public_meeting'**:"
      ]
    },
    {
      "cell_type": "code",
      "execution_count": null,
      "id": "787eabde",
      "metadata": {
        "id": "787eabde",
        "outputId": "544752fb-6f72-44a6-d82f-388e53775cd1"
      },
      "outputs": [
        {
          "data": {
            "text/plain": [
              "True     51011\n",
              "False     5055\n",
              "Name: public_meeting, dtype: int64"
            ]
          },
          "execution_count": 59,
          "metadata": {},
          "output_type": "execute_result"
        }
      ],
      "source": [
        "df['public_meeting'].value_counts()"
      ]
    },
    {
      "cell_type": "code",
      "execution_count": null,
      "id": "4765793f",
      "metadata": {
        "id": "4765793f"
      },
      "outputs": [],
      "source": [
        "df['public_meeting'].fillna(value=True,inplace=True)"
      ]
    },
    {
      "cell_type": "markdown",
      "id": "a2970c2b",
      "metadata": {
        "id": "a2970c2b"
      },
      "source": [
        "Respecto a la columna **'subvillage'** vamos a decidir eliminarla puesto que tiene un alto número de valores únicos, y con la columna 'region' ya tenemos suficiente información sobre la ubicación:"
      ]
    },
    {
      "cell_type": "code",
      "execution_count": null,
      "id": "221b6a43",
      "metadata": {
        "id": "221b6a43",
        "outputId": "0cebd3a8-57a0-4313-a582-df54ddef3edc"
      },
      "outputs": [
        {
          "data": {
            "text/plain": [
              "19287"
            ]
          },
          "execution_count": 61,
          "metadata": {},
          "output_type": "execute_result"
        }
      ],
      "source": [
        "df['subvillage'].nunique()"
      ]
    },
    {
      "cell_type": "code",
      "execution_count": null,
      "id": "aeb81577",
      "metadata": {
        "id": "aeb81577"
      },
      "outputs": [],
      "source": [
        "df.drop(['subvillage'], axis = 1, inplace = True)"
      ]
    },
    {
      "cell_type": "markdown",
      "id": "93dd2dec",
      "metadata": {
        "id": "93dd2dec"
      },
      "source": [
        "Vamos a eliminar también la variable **'num_private'** porque en la descripción oficial de las variables no sale nada de información acerca de esta, además la mayoría de los valores son ceros:"
      ]
    },
    {
      "cell_type": "code",
      "execution_count": null,
      "id": "1f33a5f0",
      "metadata": {
        "id": "1f33a5f0"
      },
      "outputs": [],
      "source": [
        "df.drop(['num_private'], axis = 1, inplace = True)"
      ]
    },
    {
      "cell_type": "markdown",
      "id": "6b05009c",
      "metadata": {
        "id": "6b05009c"
      },
      "source": [
        "Así mismo prescindimos de las columna **'scheme_name'** ya que tiene importantes fallos ortográficos que complican enormemente su reconocimiento, y su rectificación exhaustiva llevaría demasiado tiempo. Además, tiene un alto contenido de valores nulos así como valores únicos, que no nos aportarán información relevante a nuestro análisis:"
      ]
    },
    {
      "cell_type": "code",
      "execution_count": null,
      "id": "90e35e1b",
      "metadata": {
        "id": "90e35e1b",
        "outputId": "c1f09c27-ae81-4156-cdba-4a21e2667afe"
      },
      "outputs": [
        {
          "data": {
            "text/plain": [
              "2696"
            ]
          },
          "execution_count": 64,
          "metadata": {},
          "output_type": "execute_result"
        }
      ],
      "source": [
        "df['scheme_name'].nunique()"
      ]
    },
    {
      "cell_type": "code",
      "execution_count": null,
      "id": "5a0e9f92",
      "metadata": {
        "id": "5a0e9f92",
        "outputId": "9b5ad2f3-c94a-445f-86a4-c4a31b97b2af"
      },
      "outputs": [
        {
          "data": {
            "text/plain": [
              "K                                        682\n",
              "None                                     644\n",
              "Borehole                                 546\n",
              "Chalinze wate                            405\n",
              "M                                        400\n",
              "DANIDA                                   379\n",
              "Government                               320\n",
              "Ngana water supplied scheme              270\n",
              "wanging'ombe water supply s              261\n",
              "wanging'ombe supply scheme               234\n",
              "I                                        229\n",
              "Bagamoyo wate                            229\n",
              "Uroki-Bomang'ombe water sup              209\n",
              "N                                        204\n",
              "Kirua kahe gravity water supply trust    193\n",
              "Machumba estate pipe line                185\n",
              "Makwale water supplied sche              166\n",
              "Kijiji                                   161\n",
              "S                                        154\n",
              "Losaa-Kia water supply                   152\n",
              "Name: scheme_name, dtype: int64"
            ]
          },
          "execution_count": 65,
          "metadata": {},
          "output_type": "execute_result"
        }
      ],
      "source": [
        "df['scheme_name'].value_counts().head(20)"
      ]
    },
    {
      "cell_type": "code",
      "execution_count": null,
      "id": "71c8c312",
      "metadata": {
        "id": "71c8c312"
      },
      "outputs": [],
      "source": [
        "df.drop(['scheme_name'], axis = 1, inplace = True)"
      ]
    },
    {
      "cell_type": "markdown",
      "id": "fc3a04e8",
      "metadata": {
        "id": "fc3a04e8"
      },
      "source": [
        "Vamos a sustituir los valores nulos y ceros de la variable **'installer'** por 'Unknown'. A continución veremos las 20 opciones con más frecuencia, e intentaremos corregir los principales errores ortográficos de este top para posteriormente quedarnos con solo estos 20 primeros y cambiar el resto de valores a 'Others'. Con esto eliminamos los valores nulos y ceros, y dejamos de tener tantos valores únicos, una buena solución que nos puede salvar de descartar directamente la variable:"
      ]
    },
    {
      "cell_type": "code",
      "execution_count": null,
      "id": "267a5ade",
      "metadata": {
        "id": "267a5ade"
      },
      "outputs": [],
      "source": [
        "df['installer'].fillna(value='Unknown',inplace=True)\n",
        "df['installer'].replace(to_replace = '0', value ='Unknown' , inplace=True)"
      ]
    },
    {
      "cell_type": "code",
      "execution_count": null,
      "id": "6a7c34b2",
      "metadata": {
        "scrolled": false,
        "id": "6a7c34b2",
        "outputId": "d7b284a5-b9b1-4401-a8af-bef83c322e4e"
      },
      "outputs": [
        {
          "data": {
            "text/plain": [
              "DWE                   17402\n",
              "Unknown                4435\n",
              "Government             1825\n",
              "RWE                    1206\n",
              "Commu                  1060\n",
              "DANIDA                 1050\n",
              "KKKT                    898\n",
              "Hesawa                  840\n",
              "TCRS                    707\n",
              "Central government      622\n",
              "CES                     610\n",
              "Community               553\n",
              "DANID                   552\n",
              "District Council        551\n",
              "HESAWA                  539\n",
              "LGA                     408\n",
              "World vision            408\n",
              "WEDECO                  397\n",
              "TASAF                   396\n",
              "District council        392\n",
              "Name: installer, dtype: int64"
            ]
          },
          "execution_count": 68,
          "metadata": {},
          "output_type": "execute_result"
        }
      ],
      "source": [
        "df['installer'].value_counts().head(20)"
      ]
    },
    {
      "cell_type": "code",
      "execution_count": null,
      "id": "c98f5093",
      "metadata": {
        "id": "c98f5093"
      },
      "outputs": [],
      "source": [
        "df['installer'].replace(to_replace = ('District Council','District council'),value ='District council' , inplace=True)\n",
        "df['installer'].replace(to_replace = ('Central government', 'Government', 'Gover'),value ='District council' , inplace=True)\n",
        "df['installer'].replace(to_replace = ('Commu', 'Community'),value ='Community' , inplace=True)\n",
        "df['installer'].replace(to_replace = ('HESAWA', 'Hesawa'),value ='Hesawa' , inplace=True)"
      ]
    },
    {
      "cell_type": "code",
      "execution_count": null,
      "id": "c8f6c2fa",
      "metadata": {
        "id": "c8f6c2fa"
      },
      "outputs": [],
      "source": [
        "list_installer = ['DWE','Unknown''District council','Community','RWE','DANIDA','KKKT','Hesawa','TCRS','CES','DANID','ACRA','LGA','World vision','WEDECO','TASAF','AMREF','TWESA','WU','Dmdd']\n",
        "df.loc[~df['installer'].isin(list_installer), 'installer'] = 'Others'"
      ]
    },
    {
      "cell_type": "code",
      "execution_count": null,
      "id": "399f833b",
      "metadata": {
        "id": "399f833b",
        "outputId": "fc061f40-bae9-4143-ecef-d2ac89f1e775"
      },
      "outputs": [
        {
          "data": {
            "image/png": "[encoded data removed]",
            "text/plain": [
              "<Figure size 1872x864 with 1 Axes>"
            ]
          },
          "metadata": {
            "needs_background": "light"
          },
          "output_type": "display_data"
        }
      ],
      "source": [
        "plt.figure(figsize=(26,12))\n",
        "ax = sns.countplot(x='installer', hue=\"status_group\", data=df)"
      ]
    },
    {
      "cell_type": "markdown",
      "id": "8761843f",
      "metadata": {
        "id": "8761843f"
      },
      "source": [
        "Con la columna **'funder'** hacemos el mismo proceso de sustitución de valores nulos y ceros. Y luego nos quedamos con el top 20, y llevamos los demás a una categoría nueva de 'Others':"
      ]
    },
    {
      "cell_type": "code",
      "execution_count": null,
      "id": "2bffa950",
      "metadata": {
        "id": "2bffa950"
      },
      "outputs": [],
      "source": [
        "df['funder'].fillna(value='Unknown',inplace=True)\n",
        "df['funder'].replace(to_replace = '0', value ='Unknown' , inplace=True)"
      ]
    },
    {
      "cell_type": "code",
      "execution_count": null,
      "id": "cbb83e12",
      "metadata": {
        "id": "cbb83e12",
        "outputId": "5b0da93a-5943-4a32-8308-d2704f7ca921"
      },
      "outputs": [
        {
          "data": {
            "text/plain": [
              "Government Of Tanzania    9084\n",
              "Unknown                   4416\n",
              "Danida                    3114\n",
              "Hesawa                    2202\n",
              "Rwssp                     1374\n",
              "World Bank                1349\n",
              "Kkkt                      1287\n",
              "World Vision              1246\n",
              "Unicef                    1057\n",
              "Tasaf                      877\n",
              "District Council           843\n",
              "Dhv                        829\n",
              "Private Individual         826\n",
              "Dwsp                       811\n",
              "Norad                      765\n",
              "Germany Republi            610\n",
              "Tcrs                       602\n",
              "Ministry Of Water          590\n",
              "Water                      583\n",
              "Dwe                        484\n",
              "Name: funder, dtype: int64"
            ]
          },
          "execution_count": 73,
          "metadata": {},
          "output_type": "execute_result"
        }
      ],
      "source": [
        "df['funder'].value_counts().head(20)"
      ]
    },
    {
      "cell_type": "code",
      "execution_count": null,
      "id": "1e1abd3d",
      "metadata": {
        "id": "1e1abd3d"
      },
      "outputs": [],
      "source": [
        "list = ['Government Of Tanzania', 'Unknown', 'Danida','Hesawa','Rwssp','World Bank','Kkkt','World Vision','Unicef','Tasaf','District Council','Dhv','Private Individual','Dwsp','Norad','Germany Republi','Tcrs','Ministry Of Water','Water','Dwe']\n",
        "df.loc[~df['funder'].isin(list), 'funder'] = 'Others'"
      ]
    },
    {
      "cell_type": "code",
      "execution_count": null,
      "id": "65886c02",
      "metadata": {
        "id": "65886c02",
        "outputId": "57da7000-0f3d-4426-ea45-31f485688587"
      },
      "outputs": [
        {
          "data": {
            "text/plain": [
              "[Text(0, 0, 'Others'),\n",
              " Text(1, 0, 'Unicef'),\n",
              " Text(2, 0, 'Dwsp'),\n",
              " Text(3, 0, 'Rwssp'),\n",
              " Text(4, 0, 'Danida'),\n",
              " Text(5, 0, 'World Vision'),\n",
              " Text(6, 0, 'Hesawa'),\n",
              " Text(7, 0, 'Government Of Tanzania'),\n",
              " Text(8, 0, 'Water'),\n",
              " Text(9, 0, 'Private Individual'),\n",
              " Text(10, 0, 'Unknown'),\n",
              " Text(11, 0, 'District Council'),\n",
              " Text(12, 0, 'Kkkt'),\n",
              " Text(13, 0, 'Norad'),\n",
              " Text(14, 0, 'Dwe'),\n",
              " Text(15, 0, 'Tcrs'),\n",
              " Text(16, 0, 'Germany Republi'),\n",
              " Text(17, 0, 'Tasaf'),\n",
              " Text(18, 0, 'World Bank'),\n",
              " Text(19, 0, 'Dhv'),\n",
              " Text(20, 0, 'Ministry Of Water')]"
            ]
          },
          "execution_count": 75,
          "metadata": {},
          "output_type": "execute_result"
        },
        {
          "data": {
            "image/png": "[encoded data removed]",
            "text/plain": [
              "<Figure size 1872x864 with 1 Axes>"
            ]
          },
          "metadata": {
            "needs_background": "light"
          },
          "output_type": "display_data"
        }
      ],
      "source": [
        "plt.figure(figsize=(26,12))\n",
        "ax = sns.countplot(x='funder', hue=\"status_group\", data=df)\n",
        "ax.set_xticklabels(ax.get_xticklabels(),rotation=90)"
      ]
    },
    {
      "cell_type": "markdown",
      "id": "3cfb306e",
      "metadata": {
        "id": "3cfb306e"
      },
      "source": [
        "### Tratamiento de otras columnas:"
      ]
    },
    {
      "cell_type": "markdown",
      "id": "f6f10131",
      "metadata": {
        "id": "f6f10131"
      },
      "source": [
        "Convertimos la columna 'date_recorded' a formato fecha y creamos dos nuevas variables que incluyen el año de registro y el mes de registro. Después eliminamos la variable original:"
      ]
    },
    {
      "cell_type": "code",
      "execution_count": null,
      "id": "3201fe3f",
      "metadata": {
        "id": "3201fe3f"
      },
      "outputs": [],
      "source": [
        "df['date_recorded'] = pd.to_datetime(df['date_recorded'])"
      ]
    },
    {
      "cell_type": "code",
      "execution_count": null,
      "id": "1612af22",
      "metadata": {
        "id": "1612af22"
      },
      "outputs": [],
      "source": [
        "df['year_recorded'] = df['date_recorded'].dt.year\n",
        "df['month_recorded'] = df['date_recorded'].dt.month"
      ]
    },
    {
      "cell_type": "code",
      "execution_count": null,
      "id": "e9744d78",
      "metadata": {
        "id": "e9744d78"
      },
      "outputs": [],
      "source": [
        "df.drop(['date_recorded'], axis = 1, inplace = True)"
      ]
    },
    {
      "cell_type": "code",
      "execution_count": null,
      "id": "65e081dc",
      "metadata": {
        "scrolled": false,
        "id": "65e081dc",
        "outputId": "12b93370-0d92-42d8-c138-e221116ea553"
      },
      "outputs": [
        {
          "data": {
            "text/html": [
              "<div>\n",
              "<style scoped>\n",
              "    .dataframe tbody tr th:only-of-type {\n",
              "        vertical-align: middle;\n",
              "    }\n",
              "\n",
              "    .dataframe tbody tr th {\n",
              "        vertical-align: top;\n",
              "    }\n",
              "\n",
              "    .dataframe thead th {\n",
              "        text-align: right;\n",
              "    }\n",
              "</style>\n",
              "<table border=\"1\" class=\"dataframe\">\n",
              "  <thead>\n",
              "    <tr style=\"text-align: right;\">\n",
              "      <th></th>\n",
              "      <th>funder</th>\n",
              "      <th>gps_height</th>\n",
              "      <th>installer</th>\n",
              "      <th>longitude</th>\n",
              "      <th>latitude</th>\n",
              "      <th>wpt_name</th>\n",
              "      <th>basin</th>\n",
              "      <th>region</th>\n",
              "      <th>region_code</th>\n",
              "      <th>district_code</th>\n",
              "      <th>lga</th>\n",
              "      <th>ward</th>\n",
              "      <th>population</th>\n",
              "      <th>public_meeting</th>\n",
              "      <th>permit</th>\n",
              "      <th>extraction_type</th>\n",
              "      <th>management</th>\n",
              "      <th>payment_type</th>\n",
              "      <th>water_quality</th>\n",
              "      <th>quantity</th>\n",
              "      <th>source</th>\n",
              "      <th>waterpoint_type</th>\n",
              "      <th>status_group</th>\n",
              "      <th>new_year</th>\n",
              "      <th>year_recorded</th>\n",
              "      <th>month_recorded</th>\n",
              "    </tr>\n",
              "    <tr>\n",
              "      <th>id</th>\n",
              "      <th></th>\n",
              "      <th></th>\n",
              "      <th></th>\n",
              "      <th></th>\n",
              "      <th></th>\n",
              "      <th></th>\n",
              "      <th></th>\n",
              "      <th></th>\n",
              "      <th></th>\n",
              "      <th></th>\n",
              "      <th></th>\n",
              "      <th></th>\n",
              "      <th></th>\n",
              "      <th></th>\n",
              "      <th></th>\n",
              "      <th></th>\n",
              "      <th></th>\n",
              "      <th></th>\n",
              "      <th></th>\n",
              "      <th></th>\n",
              "      <th></th>\n",
              "      <th></th>\n",
              "      <th></th>\n",
              "      <th></th>\n",
              "      <th></th>\n",
              "      <th></th>\n",
              "    </tr>\n",
              "  </thead>\n",
              "  <tbody>\n",
              "    <tr>\n",
              "      <th>69572</th>\n",
              "      <td>Others</td>\n",
              "      <td>1390</td>\n",
              "      <td>Others</td>\n",
              "      <td>34.938093</td>\n",
              "      <td>-9.856322</td>\n",
              "      <td>none</td>\n",
              "      <td>Lake Nyasa</td>\n",
              "      <td>Iringa</td>\n",
              "      <td>11</td>\n",
              "      <td>5</td>\n",
              "      <td>Ludewa</td>\n",
              "      <td>Mundindi</td>\n",
              "      <td>109</td>\n",
              "      <td>True</td>\n",
              "      <td>False</td>\n",
              "      <td>gravity</td>\n",
              "      <td>vwc</td>\n",
              "      <td>annually</td>\n",
              "      <td>soft</td>\n",
              "      <td>enough</td>\n",
              "      <td>spring</td>\n",
              "      <td>communal standpipe</td>\n",
              "      <td>functional</td>\n",
              "      <td>1995-1999</td>\n",
              "      <td>2011</td>\n",
              "      <td>3</td>\n",
              "    </tr>\n",
              "    <tr>\n",
              "      <th>8776</th>\n",
              "      <td>Others</td>\n",
              "      <td>1399</td>\n",
              "      <td>Others</td>\n",
              "      <td>34.698766</td>\n",
              "      <td>-2.147466</td>\n",
              "      <td>Zahanati</td>\n",
              "      <td>Lake Victoria</td>\n",
              "      <td>Mara</td>\n",
              "      <td>20</td>\n",
              "      <td>2</td>\n",
              "      <td>Serengeti</td>\n",
              "      <td>Natta</td>\n",
              "      <td>280</td>\n",
              "      <td>True</td>\n",
              "      <td>True</td>\n",
              "      <td>gravity</td>\n",
              "      <td>wug</td>\n",
              "      <td>never pay</td>\n",
              "      <td>soft</td>\n",
              "      <td>insufficient</td>\n",
              "      <td>rainwater harvesting</td>\n",
              "      <td>communal standpipe</td>\n",
              "      <td>functional</td>\n",
              "      <td>2010-2013</td>\n",
              "      <td>2013</td>\n",
              "      <td>3</td>\n",
              "    </tr>\n",
              "    <tr>\n",
              "      <th>34310</th>\n",
              "      <td>Others</td>\n",
              "      <td>686</td>\n",
              "      <td>World vision</td>\n",
              "      <td>37.460664</td>\n",
              "      <td>-3.821329</td>\n",
              "      <td>Kwa Mahundi</td>\n",
              "      <td>Pangani</td>\n",
              "      <td>Manyara</td>\n",
              "      <td>21</td>\n",
              "      <td>4</td>\n",
              "      <td>Simanjiro</td>\n",
              "      <td>Ngorika</td>\n",
              "      <td>250</td>\n",
              "      <td>True</td>\n",
              "      <td>True</td>\n",
              "      <td>gravity</td>\n",
              "      <td>vwc</td>\n",
              "      <td>per bucket</td>\n",
              "      <td>soft</td>\n",
              "      <td>enough</td>\n",
              "      <td>dam</td>\n",
              "      <td>communal standpipe multiple</td>\n",
              "      <td>functional</td>\n",
              "      <td>2005-2009</td>\n",
              "      <td>2013</td>\n",
              "      <td>2</td>\n",
              "    </tr>\n",
              "    <tr>\n",
              "      <th>67743</th>\n",
              "      <td>Unicef</td>\n",
              "      <td>263</td>\n",
              "      <td>Others</td>\n",
              "      <td>38.486161</td>\n",
              "      <td>-11.155298</td>\n",
              "      <td>Zahanati Ya Nanyumbu</td>\n",
              "      <td>Ruvuma / Southern Coast</td>\n",
              "      <td>Mtwara</td>\n",
              "      <td>90</td>\n",
              "      <td>63</td>\n",
              "      <td>Nanyumbu</td>\n",
              "      <td>Nanyumbu</td>\n",
              "      <td>58</td>\n",
              "      <td>True</td>\n",
              "      <td>True</td>\n",
              "      <td>submersible</td>\n",
              "      <td>vwc</td>\n",
              "      <td>never pay</td>\n",
              "      <td>soft</td>\n",
              "      <td>dry</td>\n",
              "      <td>machine dbh</td>\n",
              "      <td>communal standpipe multiple</td>\n",
              "      <td>non functional</td>\n",
              "      <td>1985-1989</td>\n",
              "      <td>2013</td>\n",
              "      <td>1</td>\n",
              "    </tr>\n",
              "    <tr>\n",
              "      <th>19728</th>\n",
              "      <td>Others</td>\n",
              "      <td>0</td>\n",
              "      <td>Others</td>\n",
              "      <td>31.130847</td>\n",
              "      <td>-1.825359</td>\n",
              "      <td>Shuleni</td>\n",
              "      <td>Lake Victoria</td>\n",
              "      <td>Kagera</td>\n",
              "      <td>18</td>\n",
              "      <td>1</td>\n",
              "      <td>Karagwe</td>\n",
              "      <td>Nyakasimbi</td>\n",
              "      <td>281</td>\n",
              "      <td>True</td>\n",
              "      <td>True</td>\n",
              "      <td>gravity</td>\n",
              "      <td>other</td>\n",
              "      <td>never pay</td>\n",
              "      <td>soft</td>\n",
              "      <td>seasonal</td>\n",
              "      <td>rainwater harvesting</td>\n",
              "      <td>communal standpipe</td>\n",
              "      <td>functional</td>\n",
              "      <td>1995-1999</td>\n",
              "      <td>2011</td>\n",
              "      <td>7</td>\n",
              "    </tr>\n",
              "    <tr>\n",
              "      <th>...</th>\n",
              "      <td>...</td>\n",
              "      <td>...</td>\n",
              "      <td>...</td>\n",
              "      <td>...</td>\n",
              "      <td>...</td>\n",
              "      <td>...</td>\n",
              "      <td>...</td>\n",
              "      <td>...</td>\n",
              "      <td>...</td>\n",
              "      <td>...</td>\n",
              "      <td>...</td>\n",
              "      <td>...</td>\n",
              "      <td>...</td>\n",
              "      <td>...</td>\n",
              "      <td>...</td>\n",
              "      <td>...</td>\n",
              "      <td>...</td>\n",
              "      <td>...</td>\n",
              "      <td>...</td>\n",
              "      <td>...</td>\n",
              "      <td>...</td>\n",
              "      <td>...</td>\n",
              "      <td>...</td>\n",
              "      <td>...</td>\n",
              "      <td>...</td>\n",
              "      <td>...</td>\n",
              "    </tr>\n",
              "    <tr>\n",
              "      <th>60739</th>\n",
              "      <td>Germany Republi</td>\n",
              "      <td>1210</td>\n",
              "      <td>CES</td>\n",
              "      <td>37.169807</td>\n",
              "      <td>-3.253847</td>\n",
              "      <td>Area Three Namba 27</td>\n",
              "      <td>Pangani</td>\n",
              "      <td>Kilimanjaro</td>\n",
              "      <td>3</td>\n",
              "      <td>5</td>\n",
              "      <td>Hai</td>\n",
              "      <td>Masama Magharibi</td>\n",
              "      <td>125</td>\n",
              "      <td>True</td>\n",
              "      <td>True</td>\n",
              "      <td>gravity</td>\n",
              "      <td>water board</td>\n",
              "      <td>per bucket</td>\n",
              "      <td>soft</td>\n",
              "      <td>enough</td>\n",
              "      <td>spring</td>\n",
              "      <td>communal standpipe</td>\n",
              "      <td>functional</td>\n",
              "      <td>1995-1999</td>\n",
              "      <td>2013</td>\n",
              "      <td>5</td>\n",
              "    </tr>\n",
              "    <tr>\n",
              "      <th>27263</th>\n",
              "      <td>Others</td>\n",
              "      <td>1212</td>\n",
              "      <td>Others</td>\n",
              "      <td>35.249991</td>\n",
              "      <td>-9.070629</td>\n",
              "      <td>Kwa Yahona Kuvala</td>\n",
              "      <td>Rufiji</td>\n",
              "      <td>Iringa</td>\n",
              "      <td>11</td>\n",
              "      <td>4</td>\n",
              "      <td>Njombe</td>\n",
              "      <td>Ikondo</td>\n",
              "      <td>56</td>\n",
              "      <td>True</td>\n",
              "      <td>True</td>\n",
              "      <td>gravity</td>\n",
              "      <td>vwc</td>\n",
              "      <td>annually</td>\n",
              "      <td>soft</td>\n",
              "      <td>enough</td>\n",
              "      <td>river</td>\n",
              "      <td>communal standpipe</td>\n",
              "      <td>functional</td>\n",
              "      <td>1995-1999</td>\n",
              "      <td>2011</td>\n",
              "      <td>5</td>\n",
              "    </tr>\n",
              "    <tr>\n",
              "      <th>37057</th>\n",
              "      <td>Unknown</td>\n",
              "      <td>0</td>\n",
              "      <td>Others</td>\n",
              "      <td>34.017087</td>\n",
              "      <td>-8.750434</td>\n",
              "      <td>Mashine</td>\n",
              "      <td>Rufiji</td>\n",
              "      <td>Mbeya</td>\n",
              "      <td>12</td>\n",
              "      <td>7</td>\n",
              "      <td>Mbarali</td>\n",
              "      <td>Chimala</td>\n",
              "      <td>281</td>\n",
              "      <td>True</td>\n",
              "      <td>False</td>\n",
              "      <td>swn 80</td>\n",
              "      <td>vwc</td>\n",
              "      <td>monthly</td>\n",
              "      <td>fluoride</td>\n",
              "      <td>enough</td>\n",
              "      <td>machine dbh</td>\n",
              "      <td>hand pump</td>\n",
              "      <td>functional</td>\n",
              "      <td>1995-1999</td>\n",
              "      <td>2011</td>\n",
              "      <td>4</td>\n",
              "    </tr>\n",
              "    <tr>\n",
              "      <th>31282</th>\n",
              "      <td>Others</td>\n",
              "      <td>0</td>\n",
              "      <td>Others</td>\n",
              "      <td>35.861315</td>\n",
              "      <td>-6.378573</td>\n",
              "      <td>Mshoro</td>\n",
              "      <td>Rufiji</td>\n",
              "      <td>Dodoma</td>\n",
              "      <td>1</td>\n",
              "      <td>4</td>\n",
              "      <td>Chamwino</td>\n",
              "      <td>Mvumi Makulu</td>\n",
              "      <td>281</td>\n",
              "      <td>True</td>\n",
              "      <td>True</td>\n",
              "      <td>nira/tanira</td>\n",
              "      <td>vwc</td>\n",
              "      <td>never pay</td>\n",
              "      <td>soft</td>\n",
              "      <td>insufficient</td>\n",
              "      <td>shallow well</td>\n",
              "      <td>hand pump</td>\n",
              "      <td>functional</td>\n",
              "      <td>1995-1999</td>\n",
              "      <td>2011</td>\n",
              "      <td>3</td>\n",
              "    </tr>\n",
              "    <tr>\n",
              "      <th>26348</th>\n",
              "      <td>World Bank</td>\n",
              "      <td>191</td>\n",
              "      <td>Others</td>\n",
              "      <td>38.104048</td>\n",
              "      <td>-6.747464</td>\n",
              "      <td>Kwa Mzee Lugawa</td>\n",
              "      <td>Wami / Ruvu</td>\n",
              "      <td>Morogoro</td>\n",
              "      <td>5</td>\n",
              "      <td>2</td>\n",
              "      <td>Morogoro Rural</td>\n",
              "      <td>Ngerengere</td>\n",
              "      <td>150</td>\n",
              "      <td>True</td>\n",
              "      <td>True</td>\n",
              "      <td>nira/tanira</td>\n",
              "      <td>vwc</td>\n",
              "      <td>on failure</td>\n",
              "      <td>salty</td>\n",
              "      <td>enough</td>\n",
              "      <td>shallow well</td>\n",
              "      <td>hand pump</td>\n",
              "      <td>functional</td>\n",
              "      <td>2000-2004</td>\n",
              "      <td>2011</td>\n",
              "      <td>3</td>\n",
              "    </tr>\n",
              "  </tbody>\n",
              "</table>\n",
              "<p>59400 rows × 26 columns</p>\n",
              "</div>"
            ],
            "text/plain": [
              "                funder  gps_height     installer  longitude   latitude  \\\n",
              "id                                                                       \n",
              "69572           Others        1390        Others  34.938093  -9.856322   \n",
              "8776            Others        1399        Others  34.698766  -2.147466   \n",
              "34310           Others         686  World vision  37.460664  -3.821329   \n",
              "67743           Unicef         263        Others  38.486161 -11.155298   \n",
              "19728           Others           0        Others  31.130847  -1.825359   \n",
              "...                ...         ...           ...        ...        ...   \n",
              "60739  Germany Republi        1210           CES  37.169807  -3.253847   \n",
              "27263           Others        1212        Others  35.249991  -9.070629   \n",
              "37057          Unknown           0        Others  34.017087  -8.750434   \n",
              "31282           Others           0        Others  35.861315  -6.378573   \n",
              "26348       World Bank         191        Others  38.104048  -6.747464   \n",
              "\n",
              "                   wpt_name                    basin       region  \\\n",
              "id                                                                  \n",
              "69572                  none               Lake Nyasa       Iringa   \n",
              "8776               Zahanati            Lake Victoria         Mara   \n",
              "34310           Kwa Mahundi                  Pangani      Manyara   \n",
              "67743  Zahanati Ya Nanyumbu  Ruvuma / Southern Coast       Mtwara   \n",
              "19728               Shuleni            Lake Victoria       Kagera   \n",
              "...                     ...                      ...          ...   \n",
              "60739   Area Three Namba 27                  Pangani  Kilimanjaro   \n",
              "27263     Kwa Yahona Kuvala                   Rufiji       Iringa   \n",
              "37057               Mashine                   Rufiji        Mbeya   \n",
              "31282                Mshoro                   Rufiji       Dodoma   \n",
              "26348       Kwa Mzee Lugawa              Wami / Ruvu     Morogoro   \n",
              "\n",
              "       region_code  district_code             lga              ward  \\\n",
              "id                                                                    \n",
              "69572           11              5          Ludewa          Mundindi   \n",
              "8776            20              2       Serengeti             Natta   \n",
              "34310           21              4       Simanjiro           Ngorika   \n",
              "67743           90             63        Nanyumbu          Nanyumbu   \n",
              "19728           18              1         Karagwe        Nyakasimbi   \n",
              "...            ...            ...             ...               ...   \n",
              "60739            3              5             Hai  Masama Magharibi   \n",
              "27263           11              4          Njombe            Ikondo   \n",
              "37057           12              7         Mbarali           Chimala   \n",
              "31282            1              4        Chamwino      Mvumi Makulu   \n",
              "26348            5              2  Morogoro Rural        Ngerengere   \n",
              "\n",
              "       population  public_meeting  permit extraction_type   management  \\\n",
              "id                                                                       \n",
              "69572         109            True   False         gravity          vwc   \n",
              "8776          280            True    True         gravity          wug   \n",
              "34310         250            True    True         gravity          vwc   \n",
              "67743          58            True    True     submersible          vwc   \n",
              "19728         281            True    True         gravity        other   \n",
              "...           ...             ...     ...             ...          ...   \n",
              "60739         125            True    True         gravity  water board   \n",
              "27263          56            True    True         gravity          vwc   \n",
              "37057         281            True   False          swn 80          vwc   \n",
              "31282         281            True    True     nira/tanira          vwc   \n",
              "26348         150            True    True     nira/tanira          vwc   \n",
              "\n",
              "      payment_type water_quality      quantity                source  \\\n",
              "id                                                                     \n",
              "69572     annually          soft        enough                spring   \n",
              "8776     never pay          soft  insufficient  rainwater harvesting   \n",
              "34310   per bucket          soft        enough                   dam   \n",
              "67743    never pay          soft           dry           machine dbh   \n",
              "19728    never pay          soft      seasonal  rainwater harvesting   \n",
              "...            ...           ...           ...                   ...   \n",
              "60739   per bucket          soft        enough                spring   \n",
              "27263     annually          soft        enough                 river   \n",
              "37057      monthly      fluoride        enough           machine dbh   \n",
              "31282    never pay          soft  insufficient          shallow well   \n",
              "26348   on failure         salty        enough          shallow well   \n",
              "\n",
              "                   waterpoint_type    status_group   new_year  year_recorded  \\\n",
              "id                                                                             \n",
              "69572           communal standpipe      functional  1995-1999           2011   \n",
              "8776            communal standpipe      functional  2010-2013           2013   \n",
              "34310  communal standpipe multiple      functional  2005-2009           2013   \n",
              "67743  communal standpipe multiple  non functional  1985-1989           2013   \n",
              "19728           communal standpipe      functional  1995-1999           2011   \n",
              "...                            ...             ...        ...            ...   \n",
              "60739           communal standpipe      functional  1995-1999           2013   \n",
              "27263           communal standpipe      functional  1995-1999           2011   \n",
              "37057                    hand pump      functional  1995-1999           2011   \n",
              "31282                    hand pump      functional  1995-1999           2011   \n",
              "26348                    hand pump      functional  2000-2004           2011   \n",
              "\n",
              "       month_recorded  \n",
              "id                     \n",
              "69572               3  \n",
              "8776                3  \n",
              "34310               2  \n",
              "67743               1  \n",
              "19728               7  \n",
              "...               ...  \n",
              "60739               5  \n",
              "27263               5  \n",
              "37057               4  \n",
              "31282               3  \n",
              "26348               3  \n",
              "\n",
              "[59400 rows x 26 columns]"
            ]
          },
          "execution_count": 79,
          "metadata": {},
          "output_type": "execute_result"
        }
      ],
      "source": [
        "df"
      ]
    },
    {
      "cell_type": "markdown",
      "id": "bac554e5",
      "metadata": {
        "id": "bac554e5"
      },
      "source": [
        "Después de la depuración inicial, podríamos guardar los datos en un archivo csv, y realizamos una copia del dataframe de entrenamiento final para conservar el original por si acaso."
      ]
    },
    {
      "cell_type": "code",
      "execution_count": null,
      "id": "9ccc89ce",
      "metadata": {
        "id": "9ccc89ce"
      },
      "outputs": [],
      "source": [
        "#df.to_csv('final_data_training.csv')"
      ]
    },
    {
      "cell_type": "code",
      "execution_count": null,
      "id": "ae9eb3b6",
      "metadata": {
        "id": "ae9eb3b6"
      },
      "outputs": [],
      "source": [
        "df1 = df.copy()"
      ]
    },
    {
      "cell_type": "markdown",
      "id": "42a2f720",
      "metadata": {
        "id": "42a2f720"
      },
      "source": [
        "### Transformación de las variables categóricas a numéricas"
      ]
    },
    {
      "cell_type": "code",
      "execution_count": null,
      "id": "51cf8454",
      "metadata": {
        "scrolled": false,
        "id": "51cf8454",
        "outputId": "3db24f1c-5e94-4b09-fd96-c7b7d05db8d4"
      },
      "outputs": [
        {
          "data": {
            "text/plain": [
              "funder                21\n",
              "gps_height          2428\n",
              "installer             19\n",
              "longitude          57516\n",
              "latitude           57517\n",
              "wpt_name           37400\n",
              "basin                  9\n",
              "region                21\n",
              "region_code           27\n",
              "district_code         20\n",
              "lga                  125\n",
              "ward                2092\n",
              "population          1048\n",
              "public_meeting         2\n",
              "permit                 2\n",
              "extraction_type       18\n",
              "management            12\n",
              "payment_type           7\n",
              "water_quality          8\n",
              "quantity               5\n",
              "source                10\n",
              "waterpoint_type        7\n",
              "status_group           3\n",
              "new_year              11\n",
              "year_recorded          5\n",
              "month_recorded        12\n",
              "dtype: int64"
            ]
          },
          "execution_count": 82,
          "metadata": {},
          "output_type": "execute_result"
        }
      ],
      "source": [
        "df1.nunique()"
      ]
    },
    {
      "cell_type": "markdown",
      "id": "4c8e4ff1",
      "metadata": {
        "id": "4c8e4ff1"
      },
      "source": [
        "Transformamos las dos columnas booleanas a unos y ceros:"
      ]
    },
    {
      "cell_type": "code",
      "execution_count": null,
      "id": "3e20dcc4",
      "metadata": {
        "id": "3e20dcc4",
        "outputId": "b92caca8-15d4-4325-f633-a79ad8d28efe"
      },
      "outputs": [
        {
          "data": {
            "text/plain": [
              "True     54345\n",
              "False     5055\n",
              "Name: public_meeting, dtype: int64"
            ]
          },
          "execution_count": 83,
          "metadata": {},
          "output_type": "execute_result"
        }
      ],
      "source": [
        "df1.public_meeting.value_counts()"
      ]
    },
    {
      "cell_type": "code",
      "execution_count": null,
      "id": "e3ae9ef0",
      "metadata": {
        "id": "e3ae9ef0"
      },
      "outputs": [],
      "source": [
        "df1['public_meeting'] = df1['public_meeting'].astype(bool).astype(int)"
      ]
    },
    {
      "cell_type": "code",
      "execution_count": null,
      "id": "b5e9e624",
      "metadata": {
        "id": "b5e9e624",
        "outputId": "f8fa1ba6-190b-419c-ddeb-e900d2c12ca8"
      },
      "outputs": [
        {
          "data": {
            "text/plain": [
              "True     41908\n",
              "False    17492\n",
              "Name: permit, dtype: int64"
            ]
          },
          "execution_count": 85,
          "metadata": {},
          "output_type": "execute_result"
        }
      ],
      "source": [
        "df1.permit.value_counts()"
      ]
    },
    {
      "cell_type": "code",
      "execution_count": null,
      "id": "e541e37c",
      "metadata": {
        "id": "e541e37c"
      },
      "outputs": [],
      "source": [
        "df1['permit'] = df1['permit'].astype(bool).astype(int)"
      ]
    },
    {
      "cell_type": "markdown",
      "id": "136aea5d",
      "metadata": {
        "id": "136aea5d"
      },
      "source": [
        "Ahora transformamos las categóricas con menos de 10 variables manualmente:\n",
        "- Inicialmente viendo los valores únicos de las variables.\n",
        "- Luego creamos una lista con estos valores y otra con los valores a sustituir, que serán números."
      ]
    },
    {
      "cell_type": "code",
      "execution_count": null,
      "id": "e18429ac",
      "metadata": {
        "id": "e18429ac",
        "outputId": "6efa90db-6933-4c98-9203-42f8f282cb8e"
      },
      "outputs": [
        {
          "data": {
            "text/plain": [
              "array(['functional', 'non functional', 'functional needs repair'],\n",
              "      dtype=object)"
            ]
          },
          "execution_count": 87,
          "metadata": {},
          "output_type": "execute_result"
        }
      ],
      "source": [
        "df1.status_group.unique()"
      ]
    },
    {
      "cell_type": "code",
      "execution_count": null,
      "id": "f5e21a12",
      "metadata": {
        "id": "f5e21a12",
        "outputId": "179b42df-1600-4efa-dc38-5d4d02cd35ed"
      },
      "outputs": [
        {
          "data": {
            "text/plain": [
              "array(['communal standpipe', 'communal standpipe multiple', 'hand pump',\n",
              "       'other', 'improved spring', 'cattle trough', 'dam'], dtype=object)"
            ]
          },
          "execution_count": 88,
          "metadata": {},
          "output_type": "execute_result"
        }
      ],
      "source": [
        "df1.waterpoint_type.unique()"
      ]
    },
    {
      "cell_type": "code",
      "execution_count": null,
      "id": "40fe36ae",
      "metadata": {
        "id": "40fe36ae",
        "outputId": "1eadde6f-a7bc-4f57-d069-8b55cdfaad68"
      },
      "outputs": [
        {
          "data": {
            "text/plain": [
              "array(['spring', 'rainwater harvesting', 'dam', 'machine dbh', 'other',\n",
              "       'shallow well', 'river', 'hand dtw', 'lake', 'unknown'],\n",
              "      dtype=object)"
            ]
          },
          "execution_count": 89,
          "metadata": {},
          "output_type": "execute_result"
        }
      ],
      "source": [
        "df1.source.unique()"
      ]
    },
    {
      "cell_type": "code",
      "execution_count": null,
      "id": "9647c483",
      "metadata": {
        "id": "9647c483",
        "outputId": "b0927319-086a-4363-bc60-a195e7144abc"
      },
      "outputs": [
        {
          "data": {
            "text/plain": [
              "array(['enough', 'insufficient', 'dry', 'seasonal', 'unknown'],\n",
              "      dtype=object)"
            ]
          },
          "execution_count": 90,
          "metadata": {},
          "output_type": "execute_result"
        }
      ],
      "source": [
        "df1.quantity.unique()"
      ]
    },
    {
      "cell_type": "code",
      "execution_count": null,
      "id": "bb0d4a4f",
      "metadata": {
        "id": "bb0d4a4f",
        "outputId": "e231bf85-3088-41f4-fd50-0fa9ad8c8b39"
      },
      "outputs": [
        {
          "data": {
            "text/plain": [
              "array(['soft', 'salty', 'milky', 'unknown', 'fluoride', 'coloured',\n",
              "       'salty abandoned', 'fluoride abandoned'], dtype=object)"
            ]
          },
          "execution_count": 91,
          "metadata": {},
          "output_type": "execute_result"
        }
      ],
      "source": [
        "df1.water_quality.unique()"
      ]
    },
    {
      "cell_type": "code",
      "execution_count": null,
      "id": "8e61e517",
      "metadata": {
        "id": "8e61e517",
        "outputId": "b1460283-7e6c-4e16-cf8a-26649178c41b"
      },
      "outputs": [
        {
          "data": {
            "text/plain": [
              "array(['annually', 'never pay', 'per bucket', 'unknown', 'on failure',\n",
              "       'other', 'monthly'], dtype=object)"
            ]
          },
          "execution_count": 92,
          "metadata": {},
          "output_type": "execute_result"
        }
      ],
      "source": [
        "df1.payment_type.unique()"
      ]
    },
    {
      "cell_type": "code",
      "execution_count": null,
      "id": "3c9b0da9",
      "metadata": {
        "id": "3c9b0da9",
        "outputId": "d0090c0e-8ed3-4453-9383-1bd085ac55ee"
      },
      "outputs": [
        {
          "data": {
            "text/plain": [
              "array(['vwc', 'wug', 'other', 'private operator', 'water board', 'wua',\n",
              "       'company', 'water authority', 'parastatal', 'unknown',\n",
              "       'other - school', 'trust'], dtype=object)"
            ]
          },
          "execution_count": 93,
          "metadata": {},
          "output_type": "execute_result"
        }
      ],
      "source": [
        "df1.management.unique()"
      ]
    },
    {
      "cell_type": "code",
      "execution_count": null,
      "id": "ea8dd064",
      "metadata": {
        "id": "ea8dd064",
        "outputId": "a9ec0f29-5d9e-4aa6-f49b-2c7a61118ed5"
      },
      "outputs": [
        {
          "data": {
            "text/plain": [
              "array(['Lake Nyasa', 'Lake Victoria', 'Pangani',\n",
              "       'Ruvuma / Southern Coast', 'Internal', 'Lake Tanganyika',\n",
              "       'Wami / Ruvu', 'Rufiji', 'Lake Rukwa'], dtype=object)"
            ]
          },
          "execution_count": 94,
          "metadata": {},
          "output_type": "execute_result"
        }
      ],
      "source": [
        "df1.basin.unique()"
      ]
    },
    {
      "cell_type": "code",
      "execution_count": null,
      "id": "874f2d1c",
      "metadata": {
        "id": "874f2d1c",
        "outputId": "d0340095-cf8e-4cb8-9101-a08bdeda0031"
      },
      "outputs": [
        {
          "data": {
            "text/plain": [
              "array(['1995-1999', '2010-2013', '2005-2009', '1985-1989', '1990-1994',\n",
              "       '1975-1979', '1970-1974', '2000-2004', '1980-1984', '1960-1964',\n",
              "       '1965-1969'], dtype=object)"
            ]
          },
          "execution_count": 95,
          "metadata": {},
          "output_type": "execute_result"
        }
      ],
      "source": [
        "df1.new_year.unique()"
      ]
    },
    {
      "cell_type": "code",
      "execution_count": null,
      "id": "695c2ff2",
      "metadata": {
        "id": "695c2ff2"
      },
      "outputs": [],
      "source": [
        "df1.waterpoint_type.replace(('communal standpipe', 'communal standpipe multiple', 'hand pump',\n",
        "                       'other', 'improved spring', 'cattle trough', 'dam'),\n",
        "                      (1,2,3,4,5,6,7),inplace=True)\n",
        "\n",
        "df1.source.replace(('spring', 'rainwater harvesting', 'dam', 'machine dbh', 'other',\n",
        "                     'shallow well', 'river', 'hand dtw', 'lake', 'unknown'),\n",
        "                      (1,2,3,4,5,6,7,8,9,10),inplace=True)\n",
        "\n",
        "df1.quantity.replace(('enough', 'insufficient', 'dry', 'seasonal', 'unknown'),\n",
        "                      (1,2,3,4,5),inplace=True)\n",
        "\n",
        "df1.water_quality.replace(('soft', 'salty', 'milky', 'unknown', 'fluoride', 'coloured',\n",
        "                      'salty abandoned', 'fluoride abandoned'),\n",
        "                      (1,2,3,4,5,6,7,8),inplace=True)\n",
        "\n",
        "df1.payment_type.replace(('annually', 'never pay', 'per bucket', 'unknown', 'on failure',\n",
        "                      'other', 'monthly'),\n",
        "                      (1,2,3,4,5,6,7),inplace=True)\n",
        "\n",
        "df1.management.replace(('vwc', 'wug', 'other', 'private operator', 'water board', 'wua',\n",
        "                           'company', 'water authority', 'parastatal', 'unknown', 'other - school', 'trust'),\n",
        "                      (1,2,3,4,5,6,7,8,9,10,11,12),inplace=True)\n",
        "\n",
        "df1.basin.replace(('Lake Nyasa', 'Lake Victoria', 'Pangani', 'Ruvuma / Southern Coast',\n",
        "                   'Internal', 'Lake Tanganyika', 'Wami / Ruvu', 'Rufiji', 'Lake Rukwa'),\n",
        "                      (1,2,3,4,5,6,7,8,9),inplace=True)\n",
        "\n",
        "df1.new_year.replace(('1995-1999', '2010-2013', '2005-2009', '1985-1989', '1990-1994', '1975-1979',\n",
        "                      '1970-1974', '2000-2004', '1980-1984', '1960-1964', '1965-1969'),\n",
        "                      (1,2,3,4,5,6,7,8,9,10,11),inplace=True)"
      ]
    },
    {
      "cell_type": "code",
      "execution_count": null,
      "id": "0fec6e00",
      "metadata": {
        "id": "0fec6e00",
        "outputId": "1ae2e94c-e1ea-4784-bad2-a7cede81ca98"
      },
      "outputs": [
        {
          "name": "stdout",
          "output_type": "stream",
          "text": [
            "<class 'pandas.core.frame.DataFrame'>\n",
            "Int64Index: 59400 entries, 69572 to 26348\n",
            "Data columns (total 26 columns):\n",
            " #   Column           Non-Null Count  Dtype  \n",
            "---  ------           --------------  -----  \n",
            " 0   funder           59400 non-null  object \n",
            " 1   gps_height       59400 non-null  int64  \n",
            " 2   installer        59400 non-null  object \n",
            " 3   longitude        59400 non-null  float64\n",
            " 4   latitude         59400 non-null  float64\n",
            " 5   wpt_name         59400 non-null  object \n",
            " 6   basin            59400 non-null  int64  \n",
            " 7   region           59400 non-null  object \n",
            " 8   region_code      59400 non-null  int64  \n",
            " 9   district_code    59400 non-null  int64  \n",
            " 10  lga              59400 non-null  object \n",
            " 11  ward             59400 non-null  object \n",
            " 12  population       59400 non-null  int64  \n",
            " 13  public_meeting   59400 non-null  int32  \n",
            " 14  permit           59400 non-null  int32  \n",
            " 15  extraction_type  59400 non-null  object \n",
            " 16  management       59400 non-null  int64  \n",
            " 17  payment_type     59400 non-null  int64  \n",
            " 18  water_quality    59400 non-null  int64  \n",
            " 19  quantity         59400 non-null  int64  \n",
            " 20  source           59400 non-null  int64  \n",
            " 21  waterpoint_type  59400 non-null  int64  \n",
            " 22  status_group     59400 non-null  object \n",
            " 23  new_year         59400 non-null  int64  \n",
            " 24  year_recorded    59400 non-null  int64  \n",
            " 25  month_recorded   59400 non-null  int64  \n",
            "dtypes: float64(2), int32(2), int64(14), object(8)\n",
            "memory usage: 11.8+ MB\n"
          ]
        }
      ],
      "source": [
        "df1.info()"
      ]
    },
    {
      "cell_type": "markdown",
      "id": "faa461ff",
      "metadata": {
        "id": "faa461ff"
      },
      "source": [
        "Ahora transformamos con 'LabelEncoder' el resto de las variables tipo objeto para convertir todas a numéricas:"
      ]
    },
    {
      "cell_type": "code",
      "execution_count": null,
      "id": "8b252120",
      "metadata": {
        "id": "8b252120"
      },
      "outputs": [],
      "source": [
        "le = LabelEncoder()"
      ]
    },
    {
      "cell_type": "markdown",
      "id": "4b124625",
      "metadata": {
        "id": "4b124625"
      },
      "source": [
        "Mostramos un ejemplo con la columna 'funder' del proceso que vamos a realizar con todas las variables tipo objeto:"
      ]
    },
    {
      "cell_type": "code",
      "execution_count": null,
      "id": "6c70da11",
      "metadata": {
        "id": "6c70da11",
        "outputId": "9acdf279-f0b8-427b-9c01-a6fb41ddcbc1"
      },
      "outputs": [
        {
          "data": {
            "text/plain": [
              "array(['Danida', 'Dhv', 'District Council', 'Dwe', 'Dwsp',\n",
              "       'Germany Republi', 'Government Of Tanzania', 'Hesawa', 'Kkkt',\n",
              "       'Ministry Of Water', 'Norad', 'Others', 'Private Individual',\n",
              "       'Rwssp', 'Tasaf', 'Tcrs', 'Unicef', 'Unknown', 'Water',\n",
              "       'World Bank', 'World Vision'], dtype=object)"
            ]
          },
          "execution_count": 99,
          "metadata": {},
          "output_type": "execute_result"
        }
      ],
      "source": [
        "le.fit(df1.funder.unique())\n",
        "le.classes_"
      ]
    },
    {
      "cell_type": "code",
      "execution_count": null,
      "id": "9a846bdd",
      "metadata": {
        "id": "9a846bdd",
        "outputId": "46029ad9-2e67-4be4-f079-a9da625f7a5b"
      },
      "outputs": [
        {
          "data": {
            "text/plain": [
              "id\n",
              "69572    Others\n",
              "8776     Others\n",
              "34310    Others\n",
              "67743    Unicef\n",
              "19728    Others\n",
              "Name: funder, dtype: object"
            ]
          },
          "execution_count": 100,
          "metadata": {},
          "output_type": "execute_result"
        }
      ],
      "source": [
        "df1.funder.head()"
      ]
    },
    {
      "cell_type": "code",
      "execution_count": null,
      "id": "0c37d1d7",
      "metadata": {
        "id": "0c37d1d7",
        "outputId": "71fa1b06-e8c4-4743-cb85-99d9e7043b62"
      },
      "outputs": [
        {
          "data": {
            "text/plain": [
              "array([11, 11, 11, ..., 17, 11, 19])"
            ]
          },
          "execution_count": 101,
          "metadata": {},
          "output_type": "execute_result"
        }
      ],
      "source": [
        "le.transform(df1.funder)"
      ]
    },
    {
      "cell_type": "code",
      "execution_count": null,
      "id": "717e2dc4",
      "metadata": {
        "id": "717e2dc4"
      },
      "outputs": [],
      "source": [
        "df1.funder = le.transform(df1.funder)"
      ]
    },
    {
      "cell_type": "code",
      "execution_count": null,
      "id": "ac033383",
      "metadata": {
        "id": "ac033383",
        "outputId": "019d201b-7c0c-47df-c149-8343b6b42515"
      },
      "outputs": [
        {
          "data": {
            "text/plain": [
              "id\n",
              "69572    11\n",
              "8776     11\n",
              "34310    11\n",
              "67743    16\n",
              "19728    11\n",
              "Name: funder, dtype: int32"
            ]
          },
          "execution_count": 103,
          "metadata": {},
          "output_type": "execute_result"
        }
      ],
      "source": [
        "df1.funder.head()"
      ]
    },
    {
      "cell_type": "code",
      "execution_count": null,
      "id": "d040117e",
      "metadata": {
        "id": "d040117e"
      },
      "outputs": [],
      "source": [
        "df1.installer = le.fit_transform(df1.installer)\n",
        "df1.wpt_name = le.fit_transform(df1.wpt_name)\n",
        "df1.region = le.fit_transform(df1.region)\n",
        "df1.lga = le.fit_transform(df1.lga)\n",
        "df1.ward = le.fit_transform(df1.ward)\n",
        "df1.extraction_type = le.fit_transform(df1.extraction_type)"
      ]
    },
    {
      "cell_type": "code",
      "execution_count": null,
      "id": "7a33e1af",
      "metadata": {
        "id": "7a33e1af"
      },
      "outputs": [],
      "source": [
        "#df1.to_csv('train_limpio_final.csv')\n",
        "#Si queremos realizar copia en csv del dataframe final de entrenamiento con todo limpio y todas las variables numéricas"
      ]
    },
    {
      "cell_type": "markdown",
      "id": "6937d482",
      "metadata": {
        "id": "6937d482"
      },
      "source": [
        "Ahora todas las columnas son numéricas:"
      ]
    },
    {
      "cell_type": "code",
      "execution_count": null,
      "id": "a52b09e9",
      "metadata": {
        "id": "a52b09e9",
        "outputId": "fe15d79f-aebf-416c-b2ef-af6c934f07ac"
      },
      "outputs": [
        {
          "data": {
            "text/html": [
              "<div>\n",
              "<style scoped>\n",
              "    .dataframe tbody tr th:only-of-type {\n",
              "        vertical-align: middle;\n",
              "    }\n",
              "\n",
              "    .dataframe tbody tr th {\n",
              "        vertical-align: top;\n",
              "    }\n",
              "\n",
              "    .dataframe thead th {\n",
              "        text-align: right;\n",
              "    }\n",
              "</style>\n",
              "<table border=\"1\" class=\"dataframe\">\n",
              "  <thead>\n",
              "    <tr style=\"text-align: right;\">\n",
              "      <th></th>\n",
              "      <th>funder</th>\n",
              "      <th>gps_height</th>\n",
              "      <th>installer</th>\n",
              "      <th>longitude</th>\n",
              "      <th>latitude</th>\n",
              "      <th>wpt_name</th>\n",
              "      <th>basin</th>\n",
              "      <th>region</th>\n",
              "      <th>region_code</th>\n",
              "      <th>district_code</th>\n",
              "      <th>lga</th>\n",
              "      <th>ward</th>\n",
              "      <th>population</th>\n",
              "      <th>public_meeting</th>\n",
              "      <th>permit</th>\n",
              "      <th>extraction_type</th>\n",
              "      <th>management</th>\n",
              "      <th>payment_type</th>\n",
              "      <th>water_quality</th>\n",
              "      <th>quantity</th>\n",
              "      <th>source</th>\n",
              "      <th>waterpoint_type</th>\n",
              "      <th>status_group</th>\n",
              "      <th>new_year</th>\n",
              "      <th>year_recorded</th>\n",
              "      <th>month_recorded</th>\n",
              "    </tr>\n",
              "    <tr>\n",
              "      <th>id</th>\n",
              "      <th></th>\n",
              "      <th></th>\n",
              "      <th></th>\n",
              "      <th></th>\n",
              "      <th></th>\n",
              "      <th></th>\n",
              "      <th></th>\n",
              "      <th></th>\n",
              "      <th></th>\n",
              "      <th></th>\n",
              "      <th></th>\n",
              "      <th></th>\n",
              "      <th></th>\n",
              "      <th></th>\n",
              "      <th></th>\n",
              "      <th></th>\n",
              "      <th></th>\n",
              "      <th></th>\n",
              "      <th></th>\n",
              "      <th></th>\n",
              "      <th></th>\n",
              "      <th></th>\n",
              "      <th></th>\n",
              "      <th></th>\n",
              "      <th></th>\n",
              "      <th></th>\n",
              "    </tr>\n",
              "  </thead>\n",
              "  <tbody>\n",
              "    <tr>\n",
              "      <th>69572</th>\n",
              "      <td>11</td>\n",
              "      <td>1390</td>\n",
              "      <td>11</td>\n",
              "      <td>34.938093</td>\n",
              "      <td>-9.856322</td>\n",
              "      <td>37399</td>\n",
              "      <td>1</td>\n",
              "      <td>3</td>\n",
              "      <td>11</td>\n",
              "      <td>5</td>\n",
              "      <td>51</td>\n",
              "      <td>1426</td>\n",
              "      <td>109</td>\n",
              "      <td>1</td>\n",
              "      <td>0</td>\n",
              "      <td>3</td>\n",
              "      <td>1</td>\n",
              "      <td>1</td>\n",
              "      <td>1</td>\n",
              "      <td>1</td>\n",
              "      <td>1</td>\n",
              "      <td>1</td>\n",
              "      <td>functional</td>\n",
              "      <td>1</td>\n",
              "      <td>2011</td>\n",
              "      <td>3</td>\n",
              "    </tr>\n",
              "    <tr>\n",
              "      <th>8776</th>\n",
              "      <td>11</td>\n",
              "      <td>1399</td>\n",
              "      <td>11</td>\n",
              "      <td>34.698766</td>\n",
              "      <td>-2.147466</td>\n",
              "      <td>37195</td>\n",
              "      <td>2</td>\n",
              "      <td>9</td>\n",
              "      <td>20</td>\n",
              "      <td>2</td>\n",
              "      <td>103</td>\n",
              "      <td>1576</td>\n",
              "      <td>280</td>\n",
              "      <td>1</td>\n",
              "      <td>1</td>\n",
              "      <td>3</td>\n",
              "      <td>2</td>\n",
              "      <td>2</td>\n",
              "      <td>1</td>\n",
              "      <td>2</td>\n",
              "      <td>2</td>\n",
              "      <td>1</td>\n",
              "      <td>functional</td>\n",
              "      <td>2</td>\n",
              "      <td>2013</td>\n",
              "      <td>3</td>\n",
              "    </tr>\n",
              "    <tr>\n",
              "      <th>34310</th>\n",
              "      <td>11</td>\n",
              "      <td>686</td>\n",
              "      <td>18</td>\n",
              "      <td>37.460664</td>\n",
              "      <td>-3.821329</td>\n",
              "      <td>14572</td>\n",
              "      <td>3</td>\n",
              "      <td>8</td>\n",
              "      <td>21</td>\n",
              "      <td>4</td>\n",
              "      <td>108</td>\n",
              "      <td>1624</td>\n",
              "      <td>250</td>\n",
              "      <td>1</td>\n",
              "      <td>1</td>\n",
              "      <td>3</td>\n",
              "      <td>1</td>\n",
              "      <td>3</td>\n",
              "      <td>1</td>\n",
              "      <td>1</td>\n",
              "      <td>3</td>\n",
              "      <td>2</td>\n",
              "      <td>functional</td>\n",
              "      <td>3</td>\n",
              "      <td>2013</td>\n",
              "      <td>2</td>\n",
              "    </tr>\n",
              "    <tr>\n",
              "      <th>67743</th>\n",
              "      <td>16</td>\n",
              "      <td>263</td>\n",
              "      <td>11</td>\n",
              "      <td>38.486161</td>\n",
              "      <td>-11.155298</td>\n",
              "      <td>37285</td>\n",
              "      <td>4</td>\n",
              "      <td>12</td>\n",
              "      <td>90</td>\n",
              "      <td>63</td>\n",
              "      <td>87</td>\n",
              "      <td>1571</td>\n",
              "      <td>58</td>\n",
              "      <td>1</td>\n",
              "      <td>1</td>\n",
              "      <td>14</td>\n",
              "      <td>1</td>\n",
              "      <td>2</td>\n",
              "      <td>1</td>\n",
              "      <td>3</td>\n",
              "      <td>4</td>\n",
              "      <td>2</td>\n",
              "      <td>non functional</td>\n",
              "      <td>4</td>\n",
              "      <td>2013</td>\n",
              "      <td>1</td>\n",
              "    </tr>\n",
              "    <tr>\n",
              "      <th>19728</th>\n",
              "      <td>11</td>\n",
              "      <td>0</td>\n",
              "      <td>11</td>\n",
              "      <td>31.130847</td>\n",
              "      <td>-1.825359</td>\n",
              "      <td>35529</td>\n",
              "      <td>2</td>\n",
              "      <td>4</td>\n",
              "      <td>18</td>\n",
              "      <td>1</td>\n",
              "      <td>26</td>\n",
              "      <td>1687</td>\n",
              "      <td>281</td>\n",
              "      <td>1</td>\n",
              "      <td>1</td>\n",
              "      <td>3</td>\n",
              "      <td>3</td>\n",
              "      <td>2</td>\n",
              "      <td>1</td>\n",
              "      <td>4</td>\n",
              "      <td>2</td>\n",
              "      <td>1</td>\n",
              "      <td>functional</td>\n",
              "      <td>1</td>\n",
              "      <td>2011</td>\n",
              "      <td>7</td>\n",
              "    </tr>\n",
              "    <tr>\n",
              "      <th>...</th>\n",
              "      <td>...</td>\n",
              "      <td>...</td>\n",
              "      <td>...</td>\n",
              "      <td>...</td>\n",
              "      <td>...</td>\n",
              "      <td>...</td>\n",
              "      <td>...</td>\n",
              "      <td>...</td>\n",
              "      <td>...</td>\n",
              "      <td>...</td>\n",
              "      <td>...</td>\n",
              "      <td>...</td>\n",
              "      <td>...</td>\n",
              "      <td>...</td>\n",
              "      <td>...</td>\n",
              "      <td>...</td>\n",
              "      <td>...</td>\n",
              "      <td>...</td>\n",
              "      <td>...</td>\n",
              "      <td>...</td>\n",
              "      <td>...</td>\n",
              "      <td>...</td>\n",
              "      <td>...</td>\n",
              "      <td>...</td>\n",
              "      <td>...</td>\n",
              "      <td>...</td>\n",
              "    </tr>\n",
              "    <tr>\n",
              "      <th>60739</th>\n",
              "      <td>5</td>\n",
              "      <td>1210</td>\n",
              "      <td>2</td>\n",
              "      <td>37.169807</td>\n",
              "      <td>-3.253847</td>\n",
              "      <td>513</td>\n",
              "      <td>3</td>\n",
              "      <td>6</td>\n",
              "      <td>3</td>\n",
              "      <td>5</td>\n",
              "      <td>16</td>\n",
              "      <td>1090</td>\n",
              "      <td>125</td>\n",
              "      <td>1</td>\n",
              "      <td>1</td>\n",
              "      <td>3</td>\n",
              "      <td>5</td>\n",
              "      <td>3</td>\n",
              "      <td>1</td>\n",
              "      <td>1</td>\n",
              "      <td>1</td>\n",
              "      <td>1</td>\n",
              "      <td>functional</td>\n",
              "      <td>1</td>\n",
              "      <td>2013</td>\n",
              "      <td>5</td>\n",
              "    </tr>\n",
              "    <tr>\n",
              "      <th>27263</th>\n",
              "      <td>11</td>\n",
              "      <td>1212</td>\n",
              "      <td>11</td>\n",
              "      <td>35.249991</td>\n",
              "      <td>-9.070629</td>\n",
              "      <td>24074</td>\n",
              "      <td>8</td>\n",
              "      <td>3</td>\n",
              "      <td>11</td>\n",
              "      <td>4</td>\n",
              "      <td>91</td>\n",
              "      <td>353</td>\n",
              "      <td>56</td>\n",
              "      <td>1</td>\n",
              "      <td>1</td>\n",
              "      <td>3</td>\n",
              "      <td>1</td>\n",
              "      <td>1</td>\n",
              "      <td>1</td>\n",
              "      <td>1</td>\n",
              "      <td>7</td>\n",
              "      <td>1</td>\n",
              "      <td>functional</td>\n",
              "      <td>1</td>\n",
              "      <td>2011</td>\n",
              "      <td>5</td>\n",
              "    </tr>\n",
              "    <tr>\n",
              "      <th>37057</th>\n",
              "      <td>17</td>\n",
              "      <td>0</td>\n",
              "      <td>11</td>\n",
              "      <td>34.017087</td>\n",
              "      <td>-8.750434</td>\n",
              "      <td>27926</td>\n",
              "      <td>8</td>\n",
              "      <td>10</td>\n",
              "      <td>12</td>\n",
              "      <td>7</td>\n",
              "      <td>59</td>\n",
              "      <td>177</td>\n",
              "      <td>281</td>\n",
              "      <td>1</td>\n",
              "      <td>0</td>\n",
              "      <td>15</td>\n",
              "      <td>1</td>\n",
              "      <td>7</td>\n",
              "      <td>5</td>\n",
              "      <td>1</td>\n",
              "      <td>4</td>\n",
              "      <td>3</td>\n",
              "      <td>functional</td>\n",
              "      <td>1</td>\n",
              "      <td>2011</td>\n",
              "      <td>4</td>\n",
              "    </tr>\n",
              "    <tr>\n",
              "      <th>31282</th>\n",
              "      <td>11</td>\n",
              "      <td>0</td>\n",
              "      <td>11</td>\n",
              "      <td>35.861315</td>\n",
              "      <td>-6.378573</td>\n",
              "      <td>29693</td>\n",
              "      <td>8</td>\n",
              "      <td>2</td>\n",
              "      <td>1</td>\n",
              "      <td>4</td>\n",
              "      <td>11</td>\n",
              "      <td>1449</td>\n",
              "      <td>281</td>\n",
              "      <td>1</td>\n",
              "      <td>1</td>\n",
              "      <td>8</td>\n",
              "      <td>1</td>\n",
              "      <td>2</td>\n",
              "      <td>1</td>\n",
              "      <td>2</td>\n",
              "      <td>6</td>\n",
              "      <td>3</td>\n",
              "      <td>functional</td>\n",
              "      <td>1</td>\n",
              "      <td>2011</td>\n",
              "      <td>3</td>\n",
              "    </tr>\n",
              "    <tr>\n",
              "      <th>26348</th>\n",
              "      <td>19</td>\n",
              "      <td>191</td>\n",
              "      <td>11</td>\n",
              "      <td>38.104048</td>\n",
              "      <td>-6.747464</td>\n",
              "      <td>18700</td>\n",
              "      <td>7</td>\n",
              "      <td>11</td>\n",
              "      <td>5</td>\n",
              "      <td>2</td>\n",
              "      <td>71</td>\n",
              "      <td>1610</td>\n",
              "      <td>150</td>\n",
              "      <td>1</td>\n",
              "      <td>1</td>\n",
              "      <td>8</td>\n",
              "      <td>1</td>\n",
              "      <td>5</td>\n",
              "      <td>2</td>\n",
              "      <td>1</td>\n",
              "      <td>6</td>\n",
              "      <td>3</td>\n",
              "      <td>functional</td>\n",
              "      <td>8</td>\n",
              "      <td>2011</td>\n",
              "      <td>3</td>\n",
              "    </tr>\n",
              "  </tbody>\n",
              "</table>\n",
              "<p>59400 rows × 26 columns</p>\n",
              "</div>"
            ],
            "text/plain": [
              "       funder  gps_height  installer  longitude   latitude  wpt_name  basin  \\\n",
              "id                                                                            \n",
              "69572      11        1390         11  34.938093  -9.856322     37399      1   \n",
              "8776       11        1399         11  34.698766  -2.147466     37195      2   \n",
              "34310      11         686         18  37.460664  -3.821329     14572      3   \n",
              "67743      16         263         11  38.486161 -11.155298     37285      4   \n",
              "19728      11           0         11  31.130847  -1.825359     35529      2   \n",
              "...       ...         ...        ...        ...        ...       ...    ...   \n",
              "60739       5        1210          2  37.169807  -3.253847       513      3   \n",
              "27263      11        1212         11  35.249991  -9.070629     24074      8   \n",
              "37057      17           0         11  34.017087  -8.750434     27926      8   \n",
              "31282      11           0         11  35.861315  -6.378573     29693      8   \n",
              "26348      19         191         11  38.104048  -6.747464     18700      7   \n",
              "\n",
              "       region  region_code  district_code  lga  ward  population  \\\n",
              "id                                                                 \n",
              "69572       3           11              5   51  1426         109   \n",
              "8776        9           20              2  103  1576         280   \n",
              "34310       8           21              4  108  1624         250   \n",
              "67743      12           90             63   87  1571          58   \n",
              "19728       4           18              1   26  1687         281   \n",
              "...       ...          ...            ...  ...   ...         ...   \n",
              "60739       6            3              5   16  1090         125   \n",
              "27263       3           11              4   91   353          56   \n",
              "37057      10           12              7   59   177         281   \n",
              "31282       2            1              4   11  1449         281   \n",
              "26348      11            5              2   71  1610         150   \n",
              "\n",
              "       public_meeting  permit  extraction_type  management  payment_type  \\\n",
              "id                                                                         \n",
              "69572               1       0                3           1             1   \n",
              "8776                1       1                3           2             2   \n",
              "34310               1       1                3           1             3   \n",
              "67743               1       1               14           1             2   \n",
              "19728               1       1                3           3             2   \n",
              "...               ...     ...              ...         ...           ...   \n",
              "60739               1       1                3           5             3   \n",
              "27263               1       1                3           1             1   \n",
              "37057               1       0               15           1             7   \n",
              "31282               1       1                8           1             2   \n",
              "26348               1       1                8           1             5   \n",
              "\n",
              "       water_quality  quantity  source  waterpoint_type    status_group  \\\n",
              "id                                                                        \n",
              "69572              1         1       1                1      functional   \n",
              "8776               1         2       2                1      functional   \n",
              "34310              1         1       3                2      functional   \n",
              "67743              1         3       4                2  non functional   \n",
              "19728              1         4       2                1      functional   \n",
              "...              ...       ...     ...              ...             ...   \n",
              "60739              1         1       1                1      functional   \n",
              "27263              1         1       7                1      functional   \n",
              "37057              5         1       4                3      functional   \n",
              "31282              1         2       6                3      functional   \n",
              "26348              2         1       6                3      functional   \n",
              "\n",
              "       new_year  year_recorded  month_recorded  \n",
              "id                                              \n",
              "69572         1           2011               3  \n",
              "8776          2           2013               3  \n",
              "34310         3           2013               2  \n",
              "67743         4           2013               1  \n",
              "19728         1           2011               7  \n",
              "...         ...            ...             ...  \n",
              "60739         1           2013               5  \n",
              "27263         1           2011               5  \n",
              "37057         1           2011               4  \n",
              "31282         1           2011               3  \n",
              "26348         8           2011               3  \n",
              "\n",
              "[59400 rows x 26 columns]"
            ]
          },
          "execution_count": 106,
          "metadata": {},
          "output_type": "execute_result"
        }
      ],
      "source": [
        "df1"
      ]
    },
    {
      "cell_type": "markdown",
      "id": "45d03895",
      "metadata": {
        "id": "45d03895"
      },
      "source": [
        "### Aplicamos las mismas transformaciones que hemos aplicado al training al df de test:"
      ]
    },
    {
      "cell_type": "code",
      "execution_count": null,
      "id": "6f9a5e22",
      "metadata": {
        "id": "6f9a5e22"
      },
      "outputs": [],
      "source": [
        "df_test = pd.read_csv(\"test_set_values.csv\")\n",
        "df_test.drop(['quantity_group',\n",
        "        'management_group',\n",
        "        'scheme_management',\n",
        "        'source_type',\n",
        "        'source_class',\n",
        "        'quantity_group',\n",
        "        'waterpoint_type_group',\n",
        "        'extraction_type_class',\n",
        "        'scheme_name',\n",
        "        'quality_group',\n",
        "        'payment',\n",
        "        'recorded_by',], axis = 1, inplace = True)\n",
        "df_test = df_test.assign(new_year = df_test['construction_year'])\n",
        "df_test['new_year'].replace(to_replace = 0, value = 1996, inplace=True)\n",
        "df_test['new_year'].replace(to_replace = (1960,1961,1962,1963,1964),\n",
        "                        value ='1960-1964' , inplace=True)\n",
        "df_test['new_year'].replace(to_replace = (1965,1966,1967,1968,1969),\n",
        "                        value ='1965-1969' , inplace=True)\n",
        "df_test['new_year'].replace(to_replace = (1970,1971,1972,1973,1974),\n",
        "                        value ='1970-1974' , inplace=True)\n",
        "df_test['new_year'].replace(to_replace = (1975,1976,1977,1978,1979),\n",
        "                        value ='1975-1979' , inplace=True)\n",
        "df_test['new_year'].replace(to_replace = (1980,1981,1982,1983,1984),\n",
        "                        value ='1980-1984' , inplace=True)\n",
        "df_test['new_year'].replace(to_replace = (1985,1986,1987,1988,1989),\n",
        "                        value ='1985-1989' , inplace=True)\n",
        "df_test['new_year'].replace(to_replace = (1990,1991,1992,1993,1994),\n",
        "                        value ='1990-1994' , inplace=True)\n",
        "df_test['new_year'].replace(to_replace = (1995,1996,1997,1998,1999),\n",
        "                        value ='1995-1999' , inplace=True)\n",
        "df_test['new_year'].replace(to_replace = (2000,2001,2002,2003,2004),\n",
        "                        value ='2000-2004' , inplace=True)\n",
        "df_test['new_year'].replace(to_replace = (2005,2006,2007,2008,2009),\n",
        "                        value ='2005-2009' , inplace=True)\n",
        "df_test['new_year'].replace(to_replace = (2010,2011,2012,2013),\n",
        "                        value ='2010-2013' , inplace=True)\n",
        "df_test['population'].replace(to_replace = 0 , value = 281, inplace=True)\n",
        "df_test['permit'].fillna(value=True, inplace=True)\n",
        "df_test['public_meeting'].fillna(value=True,inplace=True)\n",
        "df_test['installer'].fillna(value='Unknown',inplace=True)\n",
        "df_test['installer'].replace(to_replace = '0', value ='Unknown' , inplace=True)\n",
        "df_test['installer'].replace(to_replace = ('District Council','District council'),value ='District council' , inplace=True)\n",
        "df_test['installer'].replace(to_replace = ('Central government', 'Government', 'Gover'),value ='District council' , inplace=True)\n",
        "df_test['installer'].replace(to_replace = ('Commu', 'Community'),value ='Community' , inplace=True)\n",
        "df_test['installer'].replace(to_replace = ('HESAWA', 'Hesawa'),value ='Hesawa' , inplace=True)\n",
        "list_installer = ['DWE','Unknown''District council','Community','RWE','DANIDA','KKKT','Hesawa','TCRS','CES','DANID','ACRA','LGA','World vision','WEDECO','TASAF','AMREF','TWESA','WU','Dmdd']\n",
        "df_test.loc[~df_test['installer'].isin(list_installer), 'installer'] = 'Others'\n",
        "df_test['funder'].fillna(value='Unknown',inplace=True)\n",
        "df_test['funder'].replace(to_replace = '0', value ='Unknown' , inplace=True)\n",
        "list = ['Government Of Tanzania', 'Unknown', 'Danida','Hesawa','Rwssp','World Bank','Kkkt','World Vision','Unicef','Tasaf','District Council','Dhv','Private Individual','Dwsp','Norad','Germany Republi','Tcrs','Ministry Of Water','Water','Dwe']\n",
        "df_test.loc[~df_test['funder'].isin(list), 'funder'] = 'Others'\n",
        "df_test['date_recorded'] = pd.to_datetime(df_test['date_recorded'])\n",
        "df_test['year_recorded'] = df_test['date_recorded'].dt.year\n",
        "df_test['month_recorded'] = df_test['date_recorded'].dt.month\n",
        "df_test['permit'] = df_test['permit'].astype(bool).astype(int)\n",
        "df_test['public_meeting'] = df_test['public_meeting'].astype(bool).astype(int)\n",
        "df_test.waterpoint_type.replace(('communal standpipe', 'communal standpipe multiple', 'hand pump',\n",
        "                       'other', 'improved spring', 'cattle trough', 'dam'),\n",
        "                      (1,2,3,4,5,6,7),inplace=True)\n",
        "df_test.source.replace(('spring', 'rainwater harvesting', 'dam', 'machine dbh', 'other',\n",
        "                     'shallow well', 'river', 'hand dtw', 'lake', 'unknown'),\n",
        "                      (1,2,3,4,5,6,7,8,9,10),inplace=True)\n",
        "df_test.quantity.replace(('enough', 'insufficient', 'dry', 'seasonal', 'unknown'),\n",
        "                      (1,2,3,4,5),inplace=True)\n",
        "df_test.water_quality.replace(('soft', 'salty', 'milky', 'unknown', 'fluoride', 'coloured',\n",
        "                      'salty abandoned', 'fluoride abandoned'),\n",
        "                      (1,2,3,4,5,6,7,8),inplace=True)\n",
        "df_test.payment_type.replace(('annually', 'never pay', 'per bucket', 'unknown', 'on failure',\n",
        "                      'other', 'monthly'),\n",
        "                      (1,2,3,4,5,6,7),inplace=True)\n",
        "df_test.management.replace(('vwc', 'wug', 'other', 'private operator', 'water board', 'wua',\n",
        "                           'company', 'water authority', 'parastatal', 'unknown', 'other - school', 'trust'),\n",
        "                      (1,2,3,4,5,6,7,8,9,10,11,12),inplace=True)\n",
        "df_test.basin.replace(('Lake Nyasa', 'Lake Victoria', 'Pangani', 'Ruvuma / Southern Coast',\n",
        "                   'Internal', 'Lake Tanganyika', 'Wami / Ruvu', 'Rufiji', 'Lake Rukwa'),\n",
        "                      (1,2,3,4,5,6,7,8,9),inplace=True)\n",
        "df_test.new_year.replace(('1995-1999', '2010-2013', '2005-2009', '1985-1989', '1990-1994', '1975-1979',\n",
        "                      '1970-1974', '2000-2004', '1980-1984', '1960-1964', '1965-1969'),\n",
        "                      (1,2,3,4,5,6,7,8,9,10,11),inplace=True)\n",
        "df_test.drop(['date_recorded',\n",
        "        'num_private',\n",
        "        'subvillage',\n",
        "        'amount_tsh',\n",
        "        'construction_year',\n",
        "        'extraction_type_group'], axis = 1, inplace = True)\n",
        "le = LabelEncoder()\n",
        "df_test.funder = le.fit_transform(df_test.funder)\n",
        "df_test.installer = le.fit_transform(df_test.installer)\n",
        "df_test.wpt_name = le.fit_transform(df_test.wpt_name)\n",
        "df_test.region = le.fit_transform(df_test.region)\n",
        "df_test.lga = le.fit_transform(df_test.lga)\n",
        "df_test.ward = le.fit_transform(df_test.ward)\n",
        "df_test.extraction_type = le.fit_transform(df_test.extraction_type)"
      ]
    },
    {
      "cell_type": "code",
      "execution_count": null,
      "id": "be55b5b8",
      "metadata": {
        "id": "be55b5b8"
      },
      "outputs": [],
      "source": [
        "#df_test.to_csv('test_limpio.csv') #Si queremos exportar el test limpio en csv"
      ]
    },
    {
      "cell_type": "markdown",
      "id": "24f41d21",
      "metadata": {
        "id": "24f41d21"
      },
      "source": [
        "## Elección de modelo"
      ]
    },
    {
      "cell_type": "markdown",
      "id": "3c90c02f",
      "metadata": {
        "id": "3c90c02f"
      },
      "source": [
        "Utilizamos la librería pycaret para ver una primera aproximación de qué tipo de modelos serán más útiles."
      ]
    },
    {
      "cell_type": "code",
      "execution_count": null,
      "id": "4854c941",
      "metadata": {
        "id": "4854c941"
      },
      "outputs": [],
      "source": [
        "import pycaret\n",
        "from pycaret.classification import *"
      ]
    },
    {
      "cell_type": "code",
      "execution_count": null,
      "id": "609b2bd4",
      "metadata": {
        "id": "609b2bd4"
      },
      "outputs": [],
      "source": [
        "#Desactivo las celdas porque si se ejecuta todo el notebook de una vez tardaría demasiado en terminar, muestro solo resultados"
      ]
    },
    {
      "cell_type": "code",
      "execution_count": null,
      "id": "ba025c30",
      "metadata": {
        "scrolled": false,
        "id": "ba025c30"
      },
      "outputs": [],
      "source": [
        "#model_setup = setup(data=df1, target='status_group', session_id=1)"
      ]
    },
    {
      "cell_type": "code",
      "execution_count": null,
      "id": "0bea4d98",
      "metadata": {
        "scrolled": false,
        "id": "0bea4d98"
      },
      "outputs": [],
      "source": [
        "#models()"
      ]
    },
    {
      "cell_type": "code",
      "execution_count": null,
      "id": "e0a8f257",
      "metadata": {
        "scrolled": false,
        "id": "e0a8f257"
      },
      "outputs": [],
      "source": [
        "#best_models = compare_models()"
      ]
    },
    {
      "cell_type": "markdown",
      "id": "23692ee3",
      "metadata": {
        "id": "23692ee3"
      },
      "source": [
        "Vemos claramente que la mejor opción será la de utilizar RandomForest, así que vamos a ello!"
      ]
    },
    {
      "cell_type": "markdown",
      "id": "441d7d93",
      "metadata": {
        "id": "441d7d93"
      },
      "source": [
        "## Propuesta de modelos"
      ]
    },
    {
      "cell_type": "markdown",
      "id": "36c99983",
      "metadata": {
        "id": "36c99983"
      },
      "source": [
        "Realizamos la partición training-test con el dataframe final de los datos de training:"
      ]
    },
    {
      "cell_type": "code",
      "execution_count": null,
      "id": "4079f5a5",
      "metadata": {
        "id": "4079f5a5"
      },
      "outputs": [],
      "source": [
        "X_train, X_test, y_train, y_test = train_test_split (df1.drop('status_group', axis=1),\n",
        "                                                     df1.status_group,\n",
        "                                                     test_size = 0.2,\n",
        "                                                     random_state = 0,\n",
        "                                                     shuffle = True)"
      ]
    },
    {
      "cell_type": "markdown",
      "id": "aed0ba81",
      "metadata": {
        "id": "aed0ba81"
      },
      "source": [
        "Probamos a ejecutar el modelo con RandomForestClassifier y ver sus métricas:"
      ]
    },
    {
      "cell_type": "code",
      "execution_count": null,
      "id": "11a728a2",
      "metadata": {
        "id": "11a728a2"
      },
      "outputs": [],
      "source": [
        "model1 = RandomForestClassifier().fit(X_train,y_train)\n",
        "y_pred = model1.predict(X_test)"
      ]
    },
    {
      "cell_type": "code",
      "execution_count": null,
      "id": "da5ff2f0",
      "metadata": {
        "id": "da5ff2f0",
        "outputId": "8c8fbb1d-fcd8-41e5-b393-bd343ca6cd25"
      },
      "outputs": [
        {
          "name": "stdout",
          "output_type": "stream",
          "text": [
            "                         precision    recall  f1-score   support\n",
            "\n",
            "             functional       0.81      0.89      0.85      6444\n",
            "functional needs repair       0.58      0.33      0.42       867\n",
            "         non functional       0.83      0.78      0.81      4569\n",
            "\n",
            "               accuracy                           0.81     11880\n",
            "              macro avg       0.74      0.67      0.69     11880\n",
            "           weighted avg       0.80      0.81      0.80     11880\n",
            "\n"
          ]
        }
      ],
      "source": [
        "print(classification_report(y_test, y_pred))"
      ]
    },
    {
      "cell_type": "markdown",
      "id": "39200caa",
      "metadata": {
        "id": "39200caa"
      },
      "source": [
        "Probamos a tunear los hiperparámetros:"
      ]
    },
    {
      "cell_type": "code",
      "execution_count": null,
      "id": "84221e24",
      "metadata": {
        "id": "84221e24"
      },
      "outputs": [],
      "source": [
        "grid_param = {\n",
        "    'n_estimators': [30, 50, 100, 200],\n",
        "    'criterion': ['gini', 'entropy'],\n",
        "    'bootstrap': [True, False],\n",
        "    'max_depth': [20,22,24]\n",
        "}"
      ]
    },
    {
      "cell_type": "code",
      "execution_count": null,
      "id": "c41f1669",
      "metadata": {
        "id": "c41f1669"
      },
      "outputs": [],
      "source": [
        "model_grid = GridSearchCV(estimator=model1,\n",
        "                     param_grid=grid_param,\n",
        "                     scoring='f1',\n",
        "                     cv=5,\n",
        "                     n_jobs=-1)"
      ]
    },
    {
      "cell_type": "code",
      "execution_count": null,
      "id": "ad2951ac",
      "metadata": {
        "id": "ad2951ac"
      },
      "outputs": [],
      "source": [
        "#model_grid.fit(X_train, y_train) #celdas desactivadas para poder ejecutar el notebook sin perder mucho tiempo"
      ]
    },
    {
      "cell_type": "code",
      "execution_count": null,
      "id": "8f4938e0",
      "metadata": {
        "id": "8f4938e0"
      },
      "outputs": [],
      "source": [
        "#print(model_grid.best_params_)"
      ]
    },
    {
      "cell_type": "code",
      "execution_count": null,
      "id": "4c7a5600",
      "metadata": {
        "id": "4c7a5600"
      },
      "outputs": [],
      "source": [
        "#print(model_grid.best_score_)"
      ]
    },
    {
      "cell_type": "markdown",
      "id": "1dd72aea",
      "metadata": {
        "id": "1dd72aea"
      },
      "source": [
        "Obtenemos que los mejores parámetros son: bootstrap=True, criterion='gini', max_depth=20, n_estimators=30.\n",
        "\n",
        "Lo probamos en un nuevo modelo:"
      ]
    },
    {
      "cell_type": "code",
      "execution_count": null,
      "id": "d69bc985",
      "metadata": {
        "id": "d69bc985"
      },
      "outputs": [],
      "source": [
        "model2 = RandomForestClassifier(bootstrap=True, criterion='gini', max_depth=20, n_estimators=30).fit(X_train,y_train)\n",
        "y_pred = model2.predict(X_test)"
      ]
    },
    {
      "cell_type": "code",
      "execution_count": null,
      "id": "b45627f9",
      "metadata": {
        "id": "b45627f9",
        "outputId": "9c09c939-7435-42db-caed-589e14624f98"
      },
      "outputs": [
        {
          "name": "stdout",
          "output_type": "stream",
          "text": [
            "                         precision    recall  f1-score   support\n",
            "\n",
            "             functional       0.80      0.91      0.85      6444\n",
            "functional needs repair       0.63      0.29      0.40       867\n",
            "         non functional       0.85      0.77      0.81      4569\n",
            "\n",
            "               accuracy                           0.81     11880\n",
            "              macro avg       0.76      0.66      0.69     11880\n",
            "           weighted avg       0.81      0.81      0.80     11880\n",
            "\n"
          ]
        }
      ],
      "source": [
        "print(classification_report(y_test, y_pred))"
      ]
    },
    {
      "cell_type": "markdown",
      "id": "95a950c5",
      "metadata": {
        "id": "95a950c5"
      },
      "source": [
        "Comprobamos que los resultados son realmente muy parecidos, y tras lanzar ambos modelos en la página del concurso la nota de subida sin tunear los hiperparámetros en la predicción final es sensiblemente mejor, así que utilizaremos las opciones por defecto."
      ]
    },
    {
      "cell_type": "code",
      "execution_count": null,
      "id": "b38595fb",
      "metadata": {
        "id": "b38595fb"
      },
      "outputs": [],
      "source": [
        "#df_test = pd.read_csv(\"test_clean.csv\")"
      ]
    },
    {
      "cell_type": "markdown",
      "id": "f704d44f",
      "metadata": {
        "id": "f704d44f"
      },
      "source": [
        "Comprobamos los dataframes de test y training para ver si tienen columnas diferentes:"
      ]
    },
    {
      "cell_type": "code",
      "execution_count": null,
      "id": "1e6693b0",
      "metadata": {
        "id": "1e6693b0",
        "outputId": "9a4c07e2-5675-4b2a-a6df-c7ba093ce4b1"
      },
      "outputs": [
        {
          "data": {
            "text/html": [
              "<div>\n",
              "<style scoped>\n",
              "    .dataframe tbody tr th:only-of-type {\n",
              "        vertical-align: middle;\n",
              "    }\n",
              "\n",
              "    .dataframe tbody tr th {\n",
              "        vertical-align: top;\n",
              "    }\n",
              "\n",
              "    .dataframe thead th {\n",
              "        text-align: right;\n",
              "    }\n",
              "</style>\n",
              "<table border=\"1\" class=\"dataframe\">\n",
              "  <thead>\n",
              "    <tr style=\"text-align: right;\">\n",
              "      <th></th>\n",
              "      <th>funder</th>\n",
              "      <th>gps_height</th>\n",
              "      <th>installer</th>\n",
              "      <th>longitude</th>\n",
              "      <th>latitude</th>\n",
              "      <th>wpt_name</th>\n",
              "      <th>basin</th>\n",
              "      <th>region</th>\n",
              "      <th>region_code</th>\n",
              "      <th>district_code</th>\n",
              "      <th>lga</th>\n",
              "      <th>ward</th>\n",
              "      <th>population</th>\n",
              "      <th>public_meeting</th>\n",
              "      <th>permit</th>\n",
              "      <th>extraction_type</th>\n",
              "      <th>management</th>\n",
              "      <th>payment_type</th>\n",
              "      <th>water_quality</th>\n",
              "      <th>quantity</th>\n",
              "      <th>source</th>\n",
              "      <th>waterpoint_type</th>\n",
              "      <th>status_group</th>\n",
              "      <th>new_year</th>\n",
              "      <th>year_recorded</th>\n",
              "      <th>month_recorded</th>\n",
              "    </tr>\n",
              "    <tr>\n",
              "      <th>id</th>\n",
              "      <th></th>\n",
              "      <th></th>\n",
              "      <th></th>\n",
              "      <th></th>\n",
              "      <th></th>\n",
              "      <th></th>\n",
              "      <th></th>\n",
              "      <th></th>\n",
              "      <th></th>\n",
              "      <th></th>\n",
              "      <th></th>\n",
              "      <th></th>\n",
              "      <th></th>\n",
              "      <th></th>\n",
              "      <th></th>\n",
              "      <th></th>\n",
              "      <th></th>\n",
              "      <th></th>\n",
              "      <th></th>\n",
              "      <th></th>\n",
              "      <th></th>\n",
              "      <th></th>\n",
              "      <th></th>\n",
              "      <th></th>\n",
              "      <th></th>\n",
              "      <th></th>\n",
              "    </tr>\n",
              "  </thead>\n",
              "  <tbody>\n",
              "    <tr>\n",
              "      <th>69572</th>\n",
              "      <td>11</td>\n",
              "      <td>1390</td>\n",
              "      <td>11</td>\n",
              "      <td>34.938093</td>\n",
              "      <td>-9.856322</td>\n",
              "      <td>37399</td>\n",
              "      <td>1</td>\n",
              "      <td>3</td>\n",
              "      <td>11</td>\n",
              "      <td>5</td>\n",
              "      <td>51</td>\n",
              "      <td>1426</td>\n",
              "      <td>109</td>\n",
              "      <td>1</td>\n",
              "      <td>0</td>\n",
              "      <td>3</td>\n",
              "      <td>1</td>\n",
              "      <td>1</td>\n",
              "      <td>1</td>\n",
              "      <td>1</td>\n",
              "      <td>1</td>\n",
              "      <td>1</td>\n",
              "      <td>functional</td>\n",
              "      <td>1</td>\n",
              "      <td>2011</td>\n",
              "      <td>3</td>\n",
              "    </tr>\n",
              "    <tr>\n",
              "      <th>8776</th>\n",
              "      <td>11</td>\n",
              "      <td>1399</td>\n",
              "      <td>11</td>\n",
              "      <td>34.698766</td>\n",
              "      <td>-2.147466</td>\n",
              "      <td>37195</td>\n",
              "      <td>2</td>\n",
              "      <td>9</td>\n",
              "      <td>20</td>\n",
              "      <td>2</td>\n",
              "      <td>103</td>\n",
              "      <td>1576</td>\n",
              "      <td>280</td>\n",
              "      <td>1</td>\n",
              "      <td>1</td>\n",
              "      <td>3</td>\n",
              "      <td>2</td>\n",
              "      <td>2</td>\n",
              "      <td>1</td>\n",
              "      <td>2</td>\n",
              "      <td>2</td>\n",
              "      <td>1</td>\n",
              "      <td>functional</td>\n",
              "      <td>2</td>\n",
              "      <td>2013</td>\n",
              "      <td>3</td>\n",
              "    </tr>\n",
              "    <tr>\n",
              "      <th>34310</th>\n",
              "      <td>11</td>\n",
              "      <td>686</td>\n",
              "      <td>18</td>\n",
              "      <td>37.460664</td>\n",
              "      <td>-3.821329</td>\n",
              "      <td>14572</td>\n",
              "      <td>3</td>\n",
              "      <td>8</td>\n",
              "      <td>21</td>\n",
              "      <td>4</td>\n",
              "      <td>108</td>\n",
              "      <td>1624</td>\n",
              "      <td>250</td>\n",
              "      <td>1</td>\n",
              "      <td>1</td>\n",
              "      <td>3</td>\n",
              "      <td>1</td>\n",
              "      <td>3</td>\n",
              "      <td>1</td>\n",
              "      <td>1</td>\n",
              "      <td>3</td>\n",
              "      <td>2</td>\n",
              "      <td>functional</td>\n",
              "      <td>3</td>\n",
              "      <td>2013</td>\n",
              "      <td>2</td>\n",
              "    </tr>\n",
              "    <tr>\n",
              "      <th>67743</th>\n",
              "      <td>16</td>\n",
              "      <td>263</td>\n",
              "      <td>11</td>\n",
              "      <td>38.486161</td>\n",
              "      <td>-11.155298</td>\n",
              "      <td>37285</td>\n",
              "      <td>4</td>\n",
              "      <td>12</td>\n",
              "      <td>90</td>\n",
              "      <td>63</td>\n",
              "      <td>87</td>\n",
              "      <td>1571</td>\n",
              "      <td>58</td>\n",
              "      <td>1</td>\n",
              "      <td>1</td>\n",
              "      <td>14</td>\n",
              "      <td>1</td>\n",
              "      <td>2</td>\n",
              "      <td>1</td>\n",
              "      <td>3</td>\n",
              "      <td>4</td>\n",
              "      <td>2</td>\n",
              "      <td>non functional</td>\n",
              "      <td>4</td>\n",
              "      <td>2013</td>\n",
              "      <td>1</td>\n",
              "    </tr>\n",
              "    <tr>\n",
              "      <th>19728</th>\n",
              "      <td>11</td>\n",
              "      <td>0</td>\n",
              "      <td>11</td>\n",
              "      <td>31.130847</td>\n",
              "      <td>-1.825359</td>\n",
              "      <td>35529</td>\n",
              "      <td>2</td>\n",
              "      <td>4</td>\n",
              "      <td>18</td>\n",
              "      <td>1</td>\n",
              "      <td>26</td>\n",
              "      <td>1687</td>\n",
              "      <td>281</td>\n",
              "      <td>1</td>\n",
              "      <td>1</td>\n",
              "      <td>3</td>\n",
              "      <td>3</td>\n",
              "      <td>2</td>\n",
              "      <td>1</td>\n",
              "      <td>4</td>\n",
              "      <td>2</td>\n",
              "      <td>1</td>\n",
              "      <td>functional</td>\n",
              "      <td>1</td>\n",
              "      <td>2011</td>\n",
              "      <td>7</td>\n",
              "    </tr>\n",
              "    <tr>\n",
              "      <th>...</th>\n",
              "      <td>...</td>\n",
              "      <td>...</td>\n",
              "      <td>...</td>\n",
              "      <td>...</td>\n",
              "      <td>...</td>\n",
              "      <td>...</td>\n",
              "      <td>...</td>\n",
              "      <td>...</td>\n",
              "      <td>...</td>\n",
              "      <td>...</td>\n",
              "      <td>...</td>\n",
              "      <td>...</td>\n",
              "      <td>...</td>\n",
              "      <td>...</td>\n",
              "      <td>...</td>\n",
              "      <td>...</td>\n",
              "      <td>...</td>\n",
              "      <td>...</td>\n",
              "      <td>...</td>\n",
              "      <td>...</td>\n",
              "      <td>...</td>\n",
              "      <td>...</td>\n",
              "      <td>...</td>\n",
              "      <td>...</td>\n",
              "      <td>...</td>\n",
              "      <td>...</td>\n",
              "    </tr>\n",
              "    <tr>\n",
              "      <th>60739</th>\n",
              "      <td>5</td>\n",
              "      <td>1210</td>\n",
              "      <td>2</td>\n",
              "      <td>37.169807</td>\n",
              "      <td>-3.253847</td>\n",
              "      <td>513</td>\n",
              "      <td>3</td>\n",
              "      <td>6</td>\n",
              "      <td>3</td>\n",
              "      <td>5</td>\n",
              "      <td>16</td>\n",
              "      <td>1090</td>\n",
              "      <td>125</td>\n",
              "      <td>1</td>\n",
              "      <td>1</td>\n",
              "      <td>3</td>\n",
              "      <td>5</td>\n",
              "      <td>3</td>\n",
              "      <td>1</td>\n",
              "      <td>1</td>\n",
              "      <td>1</td>\n",
              "      <td>1</td>\n",
              "      <td>functional</td>\n",
              "      <td>1</td>\n",
              "      <td>2013</td>\n",
              "      <td>5</td>\n",
              "    </tr>\n",
              "    <tr>\n",
              "      <th>27263</th>\n",
              "      <td>11</td>\n",
              "      <td>1212</td>\n",
              "      <td>11</td>\n",
              "      <td>35.249991</td>\n",
              "      <td>-9.070629</td>\n",
              "      <td>24074</td>\n",
              "      <td>8</td>\n",
              "      <td>3</td>\n",
              "      <td>11</td>\n",
              "      <td>4</td>\n",
              "      <td>91</td>\n",
              "      <td>353</td>\n",
              "      <td>56</td>\n",
              "      <td>1</td>\n",
              "      <td>1</td>\n",
              "      <td>3</td>\n",
              "      <td>1</td>\n",
              "      <td>1</td>\n",
              "      <td>1</td>\n",
              "      <td>1</td>\n",
              "      <td>7</td>\n",
              "      <td>1</td>\n",
              "      <td>functional</td>\n",
              "      <td>1</td>\n",
              "      <td>2011</td>\n",
              "      <td>5</td>\n",
              "    </tr>\n",
              "    <tr>\n",
              "      <th>37057</th>\n",
              "      <td>17</td>\n",
              "      <td>0</td>\n",
              "      <td>11</td>\n",
              "      <td>34.017087</td>\n",
              "      <td>-8.750434</td>\n",
              "      <td>27926</td>\n",
              "      <td>8</td>\n",
              "      <td>10</td>\n",
              "      <td>12</td>\n",
              "      <td>7</td>\n",
              "      <td>59</td>\n",
              "      <td>177</td>\n",
              "      <td>281</td>\n",
              "      <td>1</td>\n",
              "      <td>0</td>\n",
              "      <td>15</td>\n",
              "      <td>1</td>\n",
              "      <td>7</td>\n",
              "      <td>5</td>\n",
              "      <td>1</td>\n",
              "      <td>4</td>\n",
              "      <td>3</td>\n",
              "      <td>functional</td>\n",
              "      <td>1</td>\n",
              "      <td>2011</td>\n",
              "      <td>4</td>\n",
              "    </tr>\n",
              "    <tr>\n",
              "      <th>31282</th>\n",
              "      <td>11</td>\n",
              "      <td>0</td>\n",
              "      <td>11</td>\n",
              "      <td>35.861315</td>\n",
              "      <td>-6.378573</td>\n",
              "      <td>29693</td>\n",
              "      <td>8</td>\n",
              "      <td>2</td>\n",
              "      <td>1</td>\n",
              "      <td>4</td>\n",
              "      <td>11</td>\n",
              "      <td>1449</td>\n",
              "      <td>281</td>\n",
              "      <td>1</td>\n",
              "      <td>1</td>\n",
              "      <td>8</td>\n",
              "      <td>1</td>\n",
              "      <td>2</td>\n",
              "      <td>1</td>\n",
              "      <td>2</td>\n",
              "      <td>6</td>\n",
              "      <td>3</td>\n",
              "      <td>functional</td>\n",
              "      <td>1</td>\n",
              "      <td>2011</td>\n",
              "      <td>3</td>\n",
              "    </tr>\n",
              "    <tr>\n",
              "      <th>26348</th>\n",
              "      <td>19</td>\n",
              "      <td>191</td>\n",
              "      <td>11</td>\n",
              "      <td>38.104048</td>\n",
              "      <td>-6.747464</td>\n",
              "      <td>18700</td>\n",
              "      <td>7</td>\n",
              "      <td>11</td>\n",
              "      <td>5</td>\n",
              "      <td>2</td>\n",
              "      <td>71</td>\n",
              "      <td>1610</td>\n",
              "      <td>150</td>\n",
              "      <td>1</td>\n",
              "      <td>1</td>\n",
              "      <td>8</td>\n",
              "      <td>1</td>\n",
              "      <td>5</td>\n",
              "      <td>2</td>\n",
              "      <td>1</td>\n",
              "      <td>6</td>\n",
              "      <td>3</td>\n",
              "      <td>functional</td>\n",
              "      <td>8</td>\n",
              "      <td>2011</td>\n",
              "      <td>3</td>\n",
              "    </tr>\n",
              "  </tbody>\n",
              "</table>\n",
              "<p>59400 rows × 26 columns</p>\n",
              "</div>"
            ],
            "text/plain": [
              "       funder  gps_height  installer  longitude   latitude  wpt_name  basin  \\\n",
              "id                                                                            \n",
              "69572      11        1390         11  34.938093  -9.856322     37399      1   \n",
              "8776       11        1399         11  34.698766  -2.147466     37195      2   \n",
              "34310      11         686         18  37.460664  -3.821329     14572      3   \n",
              "67743      16         263         11  38.486161 -11.155298     37285      4   \n",
              "19728      11           0         11  31.130847  -1.825359     35529      2   \n",
              "...       ...         ...        ...        ...        ...       ...    ...   \n",
              "60739       5        1210          2  37.169807  -3.253847       513      3   \n",
              "27263      11        1212         11  35.249991  -9.070629     24074      8   \n",
              "37057      17           0         11  34.017087  -8.750434     27926      8   \n",
              "31282      11           0         11  35.861315  -6.378573     29693      8   \n",
              "26348      19         191         11  38.104048  -6.747464     18700      7   \n",
              "\n",
              "       region  region_code  district_code  lga  ward  population  \\\n",
              "id                                                                 \n",
              "69572       3           11              5   51  1426         109   \n",
              "8776        9           20              2  103  1576         280   \n",
              "34310       8           21              4  108  1624         250   \n",
              "67743      12           90             63   87  1571          58   \n",
              "19728       4           18              1   26  1687         281   \n",
              "...       ...          ...            ...  ...   ...         ...   \n",
              "60739       6            3              5   16  1090         125   \n",
              "27263       3           11              4   91   353          56   \n",
              "37057      10           12              7   59   177         281   \n",
              "31282       2            1              4   11  1449         281   \n",
              "26348      11            5              2   71  1610         150   \n",
              "\n",
              "       public_meeting  permit  extraction_type  management  payment_type  \\\n",
              "id                                                                         \n",
              "69572               1       0                3           1             1   \n",
              "8776                1       1                3           2             2   \n",
              "34310               1       1                3           1             3   \n",
              "67743               1       1               14           1             2   \n",
              "19728               1       1                3           3             2   \n",
              "...               ...     ...              ...         ...           ...   \n",
              "60739               1       1                3           5             3   \n",
              "27263               1       1                3           1             1   \n",
              "37057               1       0               15           1             7   \n",
              "31282               1       1                8           1             2   \n",
              "26348               1       1                8           1             5   \n",
              "\n",
              "       water_quality  quantity  source  waterpoint_type    status_group  \\\n",
              "id                                                                        \n",
              "69572              1         1       1                1      functional   \n",
              "8776               1         2       2                1      functional   \n",
              "34310              1         1       3                2      functional   \n",
              "67743              1         3       4                2  non functional   \n",
              "19728              1         4       2                1      functional   \n",
              "...              ...       ...     ...              ...             ...   \n",
              "60739              1         1       1                1      functional   \n",
              "27263              1         1       7                1      functional   \n",
              "37057              5         1       4                3      functional   \n",
              "31282              1         2       6                3      functional   \n",
              "26348              2         1       6                3      functional   \n",
              "\n",
              "       new_year  year_recorded  month_recorded  \n",
              "id                                              \n",
              "69572         1           2011               3  \n",
              "8776          2           2013               3  \n",
              "34310         3           2013               2  \n",
              "67743         4           2013               1  \n",
              "19728         1           2011               7  \n",
              "...         ...            ...             ...  \n",
              "60739         1           2013               5  \n",
              "27263         1           2011               5  \n",
              "37057         1           2011               4  \n",
              "31282         1           2011               3  \n",
              "26348         8           2011               3  \n",
              "\n",
              "[59400 rows x 26 columns]"
            ]
          },
          "execution_count": 125,
          "metadata": {},
          "output_type": "execute_result"
        }
      ],
      "source": [
        "df1"
      ]
    },
    {
      "cell_type": "code",
      "execution_count": null,
      "id": "e08530e6",
      "metadata": {
        "id": "e08530e6",
        "outputId": "818a44b1-4257-496c-fa0f-60f1fa1a7ad9"
      },
      "outputs": [
        {
          "data": {
            "text/html": [
              "<div>\n",
              "<style scoped>\n",
              "    .dataframe tbody tr th:only-of-type {\n",
              "        vertical-align: middle;\n",
              "    }\n",
              "\n",
              "    .dataframe tbody tr th {\n",
              "        vertical-align: top;\n",
              "    }\n",
              "\n",
              "    .dataframe thead th {\n",
              "        text-align: right;\n",
              "    }\n",
              "</style>\n",
              "<table border=\"1\" class=\"dataframe\">\n",
              "  <thead>\n",
              "    <tr style=\"text-align: right;\">\n",
              "      <th></th>\n",
              "      <th>id</th>\n",
              "      <th>funder</th>\n",
              "      <th>gps_height</th>\n",
              "      <th>installer</th>\n",
              "      <th>longitude</th>\n",
              "      <th>latitude</th>\n",
              "      <th>wpt_name</th>\n",
              "      <th>basin</th>\n",
              "      <th>region</th>\n",
              "      <th>region_code</th>\n",
              "      <th>district_code</th>\n",
              "      <th>lga</th>\n",
              "      <th>ward</th>\n",
              "      <th>population</th>\n",
              "      <th>public_meeting</th>\n",
              "      <th>permit</th>\n",
              "      <th>extraction_type</th>\n",
              "      <th>management</th>\n",
              "      <th>payment_type</th>\n",
              "      <th>water_quality</th>\n",
              "      <th>quantity</th>\n",
              "      <th>source</th>\n",
              "      <th>waterpoint_type</th>\n",
              "      <th>new_year</th>\n",
              "      <th>year_recorded</th>\n",
              "      <th>month_recorded</th>\n",
              "    </tr>\n",
              "  </thead>\n",
              "  <tbody>\n",
              "    <tr>\n",
              "      <th>0</th>\n",
              "      <td>50785</td>\n",
              "      <td>11</td>\n",
              "      <td>1996</td>\n",
              "      <td>11</td>\n",
              "      <td>35.290799</td>\n",
              "      <td>-4.059696</td>\n",
              "      <td>656</td>\n",
              "      <td>5</td>\n",
              "      <td>8</td>\n",
              "      <td>21</td>\n",
              "      <td>3</td>\n",
              "      <td>63</td>\n",
              "      <td>17</td>\n",
              "      <td>321</td>\n",
              "      <td>1</td>\n",
              "      <td>1</td>\n",
              "      <td>9</td>\n",
              "      <td>9</td>\n",
              "      <td>2</td>\n",
              "      <td>1</td>\n",
              "      <td>4</td>\n",
              "      <td>2</td>\n",
              "      <td>4</td>\n",
              "      <td>2</td>\n",
              "      <td>2013</td>\n",
              "      <td>2</td>\n",
              "    </tr>\n",
              "    <tr>\n",
              "      <th>1</th>\n",
              "      <td>51630</td>\n",
              "      <td>6</td>\n",
              "      <td>1569</td>\n",
              "      <td>6</td>\n",
              "      <td>36.656709</td>\n",
              "      <td>-3.309214</td>\n",
              "      <td>1780</td>\n",
              "      <td>3</td>\n",
              "      <td>0</td>\n",
              "      <td>2</td>\n",
              "      <td>2</td>\n",
              "      <td>0</td>\n",
              "      <td>650</td>\n",
              "      <td>300</td>\n",
              "      <td>1</td>\n",
              "      <td>1</td>\n",
              "      <td>3</td>\n",
              "      <td>1</td>\n",
              "      <td>2</td>\n",
              "      <td>1</td>\n",
              "      <td>2</td>\n",
              "      <td>1</td>\n",
              "      <td>1</td>\n",
              "      <td>8</td>\n",
              "      <td>2013</td>\n",
              "      <td>2</td>\n",
              "    </tr>\n",
              "    <tr>\n",
              "      <th>2</th>\n",
              "      <td>17168</td>\n",
              "      <td>17</td>\n",
              "      <td>1567</td>\n",
              "      <td>11</td>\n",
              "      <td>34.767863</td>\n",
              "      <td>-5.004344</td>\n",
              "      <td>9673</td>\n",
              "      <td>5</td>\n",
              "      <td>18</td>\n",
              "      <td>13</td>\n",
              "      <td>2</td>\n",
              "      <td>109</td>\n",
              "      <td>1677</td>\n",
              "      <td>500</td>\n",
              "      <td>1</td>\n",
              "      <td>1</td>\n",
              "      <td>9</td>\n",
              "      <td>1</td>\n",
              "      <td>2</td>\n",
              "      <td>1</td>\n",
              "      <td>2</td>\n",
              "      <td>2</td>\n",
              "      <td>4</td>\n",
              "      <td>2</td>\n",
              "      <td>2013</td>\n",
              "      <td>2</td>\n",
              "    </tr>\n",
              "    <tr>\n",
              "      <th>3</th>\n",
              "      <td>45559</td>\n",
              "      <td>11</td>\n",
              "      <td>267</td>\n",
              "      <td>11</td>\n",
              "      <td>38.058046</td>\n",
              "      <td>-9.418672</td>\n",
              "      <td>5595</td>\n",
              "      <td>4</td>\n",
              "      <td>7</td>\n",
              "      <td>80</td>\n",
              "      <td>43</td>\n",
              "      <td>49</td>\n",
              "      <td>1192</td>\n",
              "      <td>250</td>\n",
              "      <td>1</td>\n",
              "      <td>1</td>\n",
              "      <td>9</td>\n",
              "      <td>1</td>\n",
              "      <td>4</td>\n",
              "      <td>1</td>\n",
              "      <td>3</td>\n",
              "      <td>6</td>\n",
              "      <td>4</td>\n",
              "      <td>4</td>\n",
              "      <td>2013</td>\n",
              "      <td>1</td>\n",
              "    </tr>\n",
              "    <tr>\n",
              "      <th>4</th>\n",
              "      <td>49871</td>\n",
              "      <td>11</td>\n",
              "      <td>1260</td>\n",
              "      <td>11</td>\n",
              "      <td>35.006123</td>\n",
              "      <td>-10.950412</td>\n",
              "      <td>5706</td>\n",
              "      <td>4</td>\n",
              "      <td>16</td>\n",
              "      <td>10</td>\n",
              "      <td>3</td>\n",
              "      <td>61</td>\n",
              "      <td>1075</td>\n",
              "      <td>60</td>\n",
              "      <td>1</td>\n",
              "      <td>1</td>\n",
              "      <td>3</td>\n",
              "      <td>5</td>\n",
              "      <td>7</td>\n",
              "      <td>1</td>\n",
              "      <td>1</td>\n",
              "      <td>1</td>\n",
              "      <td>1</td>\n",
              "      <td>8</td>\n",
              "      <td>2013</td>\n",
              "      <td>3</td>\n",
              "    </tr>\n",
              "    <tr>\n",
              "      <th>...</th>\n",
              "      <td>...</td>\n",
              "      <td>...</td>\n",
              "      <td>...</td>\n",
              "      <td>...</td>\n",
              "      <td>...</td>\n",
              "      <td>...</td>\n",
              "      <td>...</td>\n",
              "      <td>...</td>\n",
              "      <td>...</td>\n",
              "      <td>...</td>\n",
              "      <td>...</td>\n",
              "      <td>...</td>\n",
              "      <td>...</td>\n",
              "      <td>...</td>\n",
              "      <td>...</td>\n",
              "      <td>...</td>\n",
              "      <td>...</td>\n",
              "      <td>...</td>\n",
              "      <td>...</td>\n",
              "      <td>...</td>\n",
              "      <td>...</td>\n",
              "      <td>...</td>\n",
              "      <td>...</td>\n",
              "      <td>...</td>\n",
              "      <td>...</td>\n",
              "      <td>...</td>\n",
              "    </tr>\n",
              "    <tr>\n",
              "      <th>14845</th>\n",
              "      <td>39307</td>\n",
              "      <td>0</td>\n",
              "      <td>34</td>\n",
              "      <td>11</td>\n",
              "      <td>38.852669</td>\n",
              "      <td>-6.582841</td>\n",
              "      <td>7223</td>\n",
              "      <td>7</td>\n",
              "      <td>14</td>\n",
              "      <td>6</td>\n",
              "      <td>1</td>\n",
              "      <td>3</td>\n",
              "      <td>1948</td>\n",
              "      <td>20</td>\n",
              "      <td>1</td>\n",
              "      <td>1</td>\n",
              "      <td>7</td>\n",
              "      <td>1</td>\n",
              "      <td>2</td>\n",
              "      <td>1</td>\n",
              "      <td>1</td>\n",
              "      <td>7</td>\n",
              "      <td>1</td>\n",
              "      <td>4</td>\n",
              "      <td>2011</td>\n",
              "      <td>2</td>\n",
              "    </tr>\n",
              "    <tr>\n",
              "      <th>14846</th>\n",
              "      <td>18990</td>\n",
              "      <td>11</td>\n",
              "      <td>0</td>\n",
              "      <td>11</td>\n",
              "      <td>37.451633</td>\n",
              "      <td>-5.350428</td>\n",
              "      <td>332</td>\n",
              "      <td>3</td>\n",
              "      <td>20</td>\n",
              "      <td>4</td>\n",
              "      <td>7</td>\n",
              "      <td>33</td>\n",
              "      <td>1350</td>\n",
              "      <td>2960</td>\n",
              "      <td>1</td>\n",
              "      <td>0</td>\n",
              "      <td>8</td>\n",
              "      <td>1</td>\n",
              "      <td>1</td>\n",
              "      <td>2</td>\n",
              "      <td>2</td>\n",
              "      <td>6</td>\n",
              "      <td>3</td>\n",
              "      <td>5</td>\n",
              "      <td>2011</td>\n",
              "      <td>3</td>\n",
              "    </tr>\n",
              "    <tr>\n",
              "      <th>14847</th>\n",
              "      <td>28749</td>\n",
              "      <td>17</td>\n",
              "      <td>1476</td>\n",
              "      <td>11</td>\n",
              "      <td>34.739804</td>\n",
              "      <td>-4.585587</td>\n",
              "      <td>457</td>\n",
              "      <td>5</td>\n",
              "      <td>18</td>\n",
              "      <td>13</td>\n",
              "      <td>2</td>\n",
              "      <td>109</td>\n",
              "      <td>1868</td>\n",
              "      <td>200</td>\n",
              "      <td>1</td>\n",
              "      <td>1</td>\n",
              "      <td>3</td>\n",
              "      <td>1</td>\n",
              "      <td>2</td>\n",
              "      <td>1</td>\n",
              "      <td>2</td>\n",
              "      <td>3</td>\n",
              "      <td>1</td>\n",
              "      <td>2</td>\n",
              "      <td>2013</td>\n",
              "      <td>3</td>\n",
              "    </tr>\n",
              "    <tr>\n",
              "      <th>14848</th>\n",
              "      <td>33492</td>\n",
              "      <td>11</td>\n",
              "      <td>998</td>\n",
              "      <td>6</td>\n",
              "      <td>35.432732</td>\n",
              "      <td>-10.584159</td>\n",
              "      <td>3438</td>\n",
              "      <td>1</td>\n",
              "      <td>16</td>\n",
              "      <td>10</td>\n",
              "      <td>2</td>\n",
              "      <td>111</td>\n",
              "      <td>998</td>\n",
              "      <td>150</td>\n",
              "      <td>1</td>\n",
              "      <td>1</td>\n",
              "      <td>3</td>\n",
              "      <td>1</td>\n",
              "      <td>2</td>\n",
              "      <td>1</td>\n",
              "      <td>2</td>\n",
              "      <td>7</td>\n",
              "      <td>1</td>\n",
              "      <td>3</td>\n",
              "      <td>2013</td>\n",
              "      <td>2</td>\n",
              "    </tr>\n",
              "    <tr>\n",
              "      <th>14849</th>\n",
              "      <td>68707</td>\n",
              "      <td>6</td>\n",
              "      <td>481</td>\n",
              "      <td>11</td>\n",
              "      <td>34.765054</td>\n",
              "      <td>-11.226012</td>\n",
              "      <td>5054</td>\n",
              "      <td>1</td>\n",
              "      <td>16</td>\n",
              "      <td>10</td>\n",
              "      <td>3</td>\n",
              "      <td>61</td>\n",
              "      <td>1062</td>\n",
              "      <td>40</td>\n",
              "      <td>1</td>\n",
              "      <td>1</td>\n",
              "      <td>3</td>\n",
              "      <td>1</td>\n",
              "      <td>2</td>\n",
              "      <td>1</td>\n",
              "      <td>3</td>\n",
              "      <td>1</td>\n",
              "      <td>1</td>\n",
              "      <td>3</td>\n",
              "      <td>2013</td>\n",
              "      <td>2</td>\n",
              "    </tr>\n",
              "  </tbody>\n",
              "</table>\n",
              "<p>14850 rows × 26 columns</p>\n",
              "</div>"
            ],
            "text/plain": [
              "          id  funder  gps_height  installer  longitude   latitude  wpt_name  \\\n",
              "0      50785      11        1996         11  35.290799  -4.059696       656   \n",
              "1      51630       6        1569          6  36.656709  -3.309214      1780   \n",
              "2      17168      17        1567         11  34.767863  -5.004344      9673   \n",
              "3      45559      11         267         11  38.058046  -9.418672      5595   \n",
              "4      49871      11        1260         11  35.006123 -10.950412      5706   \n",
              "...      ...     ...         ...        ...        ...        ...       ...   \n",
              "14845  39307       0          34         11  38.852669  -6.582841      7223   \n",
              "14846  18990      11           0         11  37.451633  -5.350428       332   \n",
              "14847  28749      17        1476         11  34.739804  -4.585587       457   \n",
              "14848  33492      11         998          6  35.432732 -10.584159      3438   \n",
              "14849  68707       6         481         11  34.765054 -11.226012      5054   \n",
              "\n",
              "       basin  region  region_code  district_code  lga  ward  population  \\\n",
              "0          5       8           21              3   63    17         321   \n",
              "1          3       0            2              2    0   650         300   \n",
              "2          5      18           13              2  109  1677         500   \n",
              "3          4       7           80             43   49  1192         250   \n",
              "4          4      16           10              3   61  1075          60   \n",
              "...      ...     ...          ...            ...  ...   ...         ...   \n",
              "14845      7      14            6              1    3  1948          20   \n",
              "14846      3      20            4              7   33  1350        2960   \n",
              "14847      5      18           13              2  109  1868         200   \n",
              "14848      1      16           10              2  111   998         150   \n",
              "14849      1      16           10              3   61  1062          40   \n",
              "\n",
              "       public_meeting  permit  extraction_type  management  payment_type  \\\n",
              "0                   1       1                9           9             2   \n",
              "1                   1       1                3           1             2   \n",
              "2                   1       1                9           1             2   \n",
              "3                   1       1                9           1             4   \n",
              "4                   1       1                3           5             7   \n",
              "...               ...     ...              ...         ...           ...   \n",
              "14845               1       1                7           1             2   \n",
              "14846               1       0                8           1             1   \n",
              "14847               1       1                3           1             2   \n",
              "14848               1       1                3           1             2   \n",
              "14849               1       1                3           1             2   \n",
              "\n",
              "       water_quality  quantity  source  waterpoint_type  new_year  \\\n",
              "0                  1         4       2                4         2   \n",
              "1                  1         2       1                1         8   \n",
              "2                  1         2       2                4         2   \n",
              "3                  1         3       6                4         4   \n",
              "4                  1         1       1                1         8   \n",
              "...              ...       ...     ...              ...       ...   \n",
              "14845              1         1       7                1         4   \n",
              "14846              2         2       6                3         5   \n",
              "14847              1         2       3                1         2   \n",
              "14848              1         2       7                1         3   \n",
              "14849              1         3       1                1         3   \n",
              "\n",
              "       year_recorded  month_recorded  \n",
              "0               2013               2  \n",
              "1               2013               2  \n",
              "2               2013               2  \n",
              "3               2013               1  \n",
              "4               2013               3  \n",
              "...              ...             ...  \n",
              "14845           2011               2  \n",
              "14846           2011               3  \n",
              "14847           2013               3  \n",
              "14848           2013               2  \n",
              "14849           2013               2  \n",
              "\n",
              "[14850 rows x 26 columns]"
            ]
          },
          "execution_count": 126,
          "metadata": {},
          "output_type": "execute_result"
        }
      ],
      "source": [
        "df_test"
      ]
    },
    {
      "cell_type": "code",
      "execution_count": null,
      "id": "02a8d3e2",
      "metadata": {
        "id": "02a8d3e2",
        "outputId": "a22c9eca-971e-40a6-d1df-4f69a272a278"
      },
      "outputs": [
        {
          "data": {
            "text/plain": [
              "((59400, 26), (14850, 26))"
            ]
          },
          "execution_count": 127,
          "metadata": {},
          "output_type": "execute_result"
        }
      ],
      "source": [
        "df1.shape, df_test.shape"
      ]
    },
    {
      "cell_type": "code",
      "execution_count": null,
      "id": "9a8d26e4",
      "metadata": {
        "id": "9a8d26e4",
        "outputId": "e5f4f2e6-0d64-4b04-8ff6-9da95dc2bf7c"
      },
      "outputs": [
        {
          "data": {
            "text/plain": [
              "Index(['status_group'], dtype='object')"
            ]
          },
          "execution_count": 128,
          "metadata": {},
          "output_type": "execute_result"
        }
      ],
      "source": [
        "df1.columns.difference(df_test.columns)"
      ]
    },
    {
      "cell_type": "markdown",
      "id": "b42dd8fd",
      "metadata": {
        "id": "b42dd8fd"
      },
      "source": [
        "Ajustamos los datos de training a los de test para obtener la predicción final:"
      ]
    },
    {
      "cell_type": "code",
      "execution_count": null,
      "id": "ebc40787",
      "metadata": {
        "id": "ebc40787"
      },
      "outputs": [],
      "source": [
        "X_test = df_test.drop(columns = ['id']).values\n",
        "model_predict = RandomForestClassifier().fit(X_train,y_train)\n",
        "y_pred_final = model_predict.predict(X_test)"
      ]
    },
    {
      "cell_type": "code",
      "execution_count": null,
      "id": "226c37bf",
      "metadata": {
        "id": "226c37bf"
      },
      "outputs": [],
      "source": [
        "pred_final = pd.DataFrame(y_pred_final)"
      ]
    },
    {
      "cell_type": "code",
      "execution_count": null,
      "id": "12d93af5",
      "metadata": {
        "id": "12d93af5",
        "outputId": "0657638e-2c4c-4d77-88d4-eaa4c43e43be"
      },
      "outputs": [
        {
          "data": {
            "text/html": [
              "<div>\n",
              "<style scoped>\n",
              "    .dataframe tbody tr th:only-of-type {\n",
              "        vertical-align: middle;\n",
              "    }\n",
              "\n",
              "    .dataframe tbody tr th {\n",
              "        vertical-align: top;\n",
              "    }\n",
              "\n",
              "    .dataframe thead th {\n",
              "        text-align: right;\n",
              "    }\n",
              "</style>\n",
              "<table border=\"1\" class=\"dataframe\">\n",
              "  <thead>\n",
              "    <tr style=\"text-align: right;\">\n",
              "      <th></th>\n",
              "      <th>0</th>\n",
              "    </tr>\n",
              "  </thead>\n",
              "  <tbody>\n",
              "    <tr>\n",
              "      <th>0</th>\n",
              "      <td>non functional</td>\n",
              "    </tr>\n",
              "    <tr>\n",
              "      <th>1</th>\n",
              "      <td>functional</td>\n",
              "    </tr>\n",
              "    <tr>\n",
              "      <th>2</th>\n",
              "      <td>functional</td>\n",
              "    </tr>\n",
              "    <tr>\n",
              "      <th>3</th>\n",
              "      <td>non functional</td>\n",
              "    </tr>\n",
              "    <tr>\n",
              "      <th>4</th>\n",
              "      <td>functional</td>\n",
              "    </tr>\n",
              "  </tbody>\n",
              "</table>\n",
              "</div>"
            ],
            "text/plain": [
              "                0\n",
              "0  non functional\n",
              "1      functional\n",
              "2      functional\n",
              "3  non functional\n",
              "4      functional"
            ]
          },
          "execution_count": 131,
          "metadata": {},
          "output_type": "execute_result"
        }
      ],
      "source": [
        "pred_final.head()"
      ]
    },
    {
      "cell_type": "code",
      "execution_count": null,
      "id": "35f1d62b",
      "metadata": {
        "id": "35f1d62b",
        "outputId": "2673a415-b6b5-49b8-dc7e-7793341b651f"
      },
      "outputs": [
        {
          "data": {
            "text/plain": [
              "((14850, 26), (14850, 1))"
            ]
          },
          "execution_count": 132,
          "metadata": {},
          "output_type": "execute_result"
        }
      ],
      "source": [
        "df_test.shape, pred_final.shape"
      ]
    },
    {
      "cell_type": "markdown",
      "id": "92cff306",
      "metadata": {
        "id": "92cff306"
      },
      "source": [
        "Creamos el dataframe final uniendo la columna 'id' del test con las predicciones creadas y vemos qué pinta tiene:"
      ]
    },
    {
      "cell_type": "code",
      "execution_count": null,
      "id": "0ca6edf5",
      "metadata": {
        "id": "0ca6edf5"
      },
      "outputs": [],
      "source": [
        "prediccion = pd.concat((df_test['id'], pred_final), axis=1)"
      ]
    },
    {
      "cell_type": "code",
      "execution_count": null,
      "id": "0a9aa091",
      "metadata": {
        "id": "0a9aa091"
      },
      "outputs": [],
      "source": [
        "prediccion.columns=['id', 'status_group']"
      ]
    },
    {
      "cell_type": "code",
      "execution_count": null,
      "id": "6c28fa59",
      "metadata": {
        "id": "6c28fa59",
        "outputId": "8705a92d-cf4a-41c1-8aeb-4a6e2e87e4ef"
      },
      "outputs": [
        {
          "data": {
            "text/html": [
              "<div>\n",
              "<style scoped>\n",
              "    .dataframe tbody tr th:only-of-type {\n",
              "        vertical-align: middle;\n",
              "    }\n",
              "\n",
              "    .dataframe tbody tr th {\n",
              "        vertical-align: top;\n",
              "    }\n",
              "\n",
              "    .dataframe thead th {\n",
              "        text-align: right;\n",
              "    }\n",
              "</style>\n",
              "<table border=\"1\" class=\"dataframe\">\n",
              "  <thead>\n",
              "    <tr style=\"text-align: right;\">\n",
              "      <th></th>\n",
              "      <th>id</th>\n",
              "      <th>status_group</th>\n",
              "    </tr>\n",
              "  </thead>\n",
              "  <tbody>\n",
              "    <tr>\n",
              "      <th>0</th>\n",
              "      <td>50785</td>\n",
              "      <td>non functional</td>\n",
              "    </tr>\n",
              "    <tr>\n",
              "      <th>1</th>\n",
              "      <td>51630</td>\n",
              "      <td>functional</td>\n",
              "    </tr>\n",
              "    <tr>\n",
              "      <th>2</th>\n",
              "      <td>17168</td>\n",
              "      <td>functional</td>\n",
              "    </tr>\n",
              "    <tr>\n",
              "      <th>3</th>\n",
              "      <td>45559</td>\n",
              "      <td>non functional</td>\n",
              "    </tr>\n",
              "    <tr>\n",
              "      <th>4</th>\n",
              "      <td>49871</td>\n",
              "      <td>functional</td>\n",
              "    </tr>\n",
              "  </tbody>\n",
              "</table>\n",
              "</div>"
            ],
            "text/plain": [
              "      id    status_group\n",
              "0  50785  non functional\n",
              "1  51630      functional\n",
              "2  17168      functional\n",
              "3  45559  non functional\n",
              "4  49871      functional"
            ]
          },
          "execution_count": 135,
          "metadata": {},
          "output_type": "execute_result"
        }
      ],
      "source": [
        "prediccion.head()"
      ]
    },
    {
      "cell_type": "markdown",
      "id": "8901f3f0",
      "metadata": {
        "id": "8901f3f0"
      },
      "source": [
        "Exportamos este dataframe final en csv:"
      ]
    },
    {
      "cell_type": "code",
      "execution_count": null,
      "id": "42ce0554",
      "metadata": {
        "id": "42ce0554"
      },
      "outputs": [],
      "source": [
        "#prediccion.to_csv('subida_final.csv', index=False)"
      ]
    },
    {
      "cell_type": "markdown",
      "id": "6a3b80e7",
      "metadata": {
        "id": "6a3b80e7"
      },
      "source": [
        "# LA SUBIDA HA OBTENIDO UNA PUNTUACIÓN DE 0.8133 EN EL CONCURSO DE 'Pump it Up: Data Mining the Water Table' HOSTED BY DRIVENDATA"
      ]
    },
    {
      "cell_type": "markdown",
      "id": "afc717f7",
      "metadata": {
        "id": "afc717f7"
      },
      "source": [
        "## Otras subidas a la plataforma del concurso"
      ]
    },
    {
      "cell_type": "markdown",
      "id": "942340cb",
      "metadata": {
        "id": "942340cb"
      },
      "source": [
        "Se prueban las siguientes transformaciones y se comprueba con la correspondiente subida a la página del concurso.\n",
        "\n",
        "(No he mostrado el código pertinente a cada una, pues lo he ejecutado en notebooks diferentes a los cuales iba haciendo copias. Además al ser transformaciones en mitad del notebook pienso que dificultaría la visión final limpia del proceso en el que he obtenido mejor puntuación)."
      ]
    },
    {
      "cell_type": "markdown",
      "id": "907538e8",
      "metadata": {
        "id": "907538e8"
      },
      "source": [
        "- Se tunean los hiperparámetros del random forest de la predicción igual que la mejor opción del tuneo del training: resultado -> **0.8116**"
      ]
    },
    {
      "cell_type": "markdown",
      "id": "8a403c0c",
      "metadata": {
        "id": "8a403c0c"
      },
      "source": [
        "- Se eliminan las variables con mayor número de valores únicos que son 'wpt_name', 'longitude' y 'latitude': resultado -> **0.8015**, lo que nos indica que sí que son significativas y aportan más puntuación al modelo"
      ]
    },
    {
      "cell_type": "markdown",
      "id": "6e9b44df",
      "metadata": {
        "id": "6e9b44df"
      },
      "source": [
        "- Se aplica MinMaxScaler a las columnas numéricas tanto del dataframe del training como del test pero sorprendentemente reduce el score a **0.8040**"
      ]
    },
    {
      "cell_type": "markdown",
      "id": "c6e931ac",
      "metadata": {
        "id": "c6e931ac"
      },
      "source": [
        "- Aplicando StandardScaler a las columnas numéricas también reduce muchísimo el score a **0.7135**"
      ]
    },
    {
      "cell_type": "markdown",
      "id": "87e66155",
      "metadata": {
        "id": "87e66155"
      },
      "source": [
        "- Se prueban a eliminar las columnas 'lga' y 'ward'pues tienen a priori la misma información que 'region': resultado -> **0.8093**"
      ]
    },
    {
      "cell_type": "markdown",
      "id": "03ceb325",
      "metadata": {
        "id": "03ceb325"
      },
      "source": [
        "- La última prueba consistió en transformar en dummies las variables categóricas con formato objeto y menos número de valores únicos, como son 'funder', 'installer', 'region' y 'extraction_type', pero el score no mejoro, quedándose con **0.8119**"
      ]
    },
    {
      "cell_type": "markdown",
      "id": "00d3f81c",
      "metadata": {
        "id": "00d3f81c"
      },
      "source": [
        "- Balanceando los datos mediante la técnica de OverSampling con SMOTE desciende el score a **0.7938** lo que nos puede dar indicios de que en este caso los el modelo estaba sobreajustado a los datos de training."
      ]
    },
    {
      "cell_type": "markdown",
      "id": "78e2cebd",
      "metadata": {
        "id": "78e2cebd"
      },
      "source": [
        "- Si se modela con XGBClassifier y se tunean los hiperparámetros para obtener los mejores, la nota que da el dataframe final es de **0.7980**"
      ]
    },
    {
      "cell_type": "markdown",
      "id": "9a8ef119",
      "metadata": {
        "id": "9a8ef119"
      },
      "source": [
        "- Se acaba eligiendo este código, ya que el anterior con mejor puntuación (**0.8131**) no tenía activada la función de 'shuffle' al crear la separación de los datos de training para el entrenamiento; en cambio tenía activada la de 'stratify' según la variable 'status_group'."
      ]
    },
    {
      "cell_type": "markdown",
      "id": "22ba6648",
      "metadata": {
        "id": "22ba6648"
      },
      "source": [
        "- Y alguna otra modificación menor que no consiguió mejorar el de este notebook final."
      ]
    }
  ],
  "metadata": {
    "kernelspec": {
      "display_name": "Python 3 (ipykernel)",
      "language": "python",
      "name": "python3"
    },
    "language_info": {
      "codemirror_mode": {
        "name": "ipython",
        "version": 3
      },
      "file_extension": ".py",
      "mimetype": "text/x-python",
      "name": "python",
      "nbconvert_exporter": "python",
      "pygments_lexer": "ipython3",
      "version": "3.9.12"
    },
    "colab": {
      "provenance": []
    }
  },
  "nbformat": 4,
  "nbformat_minor": 5
}